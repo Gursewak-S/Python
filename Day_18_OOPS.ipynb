{
  "nbformat": 4,
  "nbformat_minor": 0,
  "metadata": {
    "colab": {
      "provenance": [],
      "authorship_tag": "ABX9TyPQdyTIbmLsBP0wbwy0JAzA",
      "include_colab_link": true
    },
    "kernelspec": {
      "name": "python3",
      "display_name": "Python 3"
    },
    "language_info": {
      "name": "python"
    }
  },
  "cells": [
    {
      "cell_type": "markdown",
      "metadata": {
        "id": "view-in-github",
        "colab_type": "text"
      },
      "source": [
        "<a href=\"https://colab.research.google.com/github/Gursewak-S/Python/blob/main/Day_18_OOPS.ipynb\" target=\"_parent\"><img src=\"https://colab.research.google.com/assets/colab-badge.svg\" alt=\"Open In Colab\"/></a>"
      ]
    },
    {
      "cell_type": "code",
      "execution_count": null,
      "metadata": {
        "id": "ELKPa4bBp3a7"
      },
      "outputs": [],
      "source": [
        "# OOPs\n",
        "\n",
        "# Object Oriented Programming System\n",
        "\n",
        "# Obejct:\n",
        "#     Real Time Entity:\n",
        "#     -Characterstics\n",
        "#     -Behaviour\n",
        "\n",
        "# Eg:- A Laptop is an object and it has features and its color which can say its characterstics\n",
        "# and its performance which is called as its behaviour\n",
        "\n",
        "# Class:\n",
        "#     Class is a collection of objects,and we can say its a blueprint or a template\n",
        "\n",
        "# Eg:- A House is an object, to create that object we can use a blueprint(Class) and using that blueprint we can create multiple houses\n",
        "\n",
        "    # First house:\n",
        "    # Blueprint (Class)\n",
        "    # Yellow Color (Characterstics)\n",
        "    # 3 Rooms (Characterstics)\n",
        "    # For Rental Use (Behaviour)\n",
        "\n",
        "    # Second house:\n",
        "    # Blueprint (Class)\n",
        "    # Red Color (Characterstics)\n",
        "    # 6 Rooms (Characterstics)\n",
        "    # For Personal Use (Behaviour)"
      ]
    },
    {
      "cell_type": "code",
      "source": [
        "class House:\n",
        "  color = \"White\"\n",
        "  room = 5\n",
        "\n",
        "# object = classname()\n",
        "h1 = House()\n",
        "print(h1)\n",
        "print(h1.color) # for accesing characteristics we use .\n",
        "print(h1.room)\n",
        "\n",
        "h2= House()\n",
        "h2.color = \"Pink\"  # Assign diff. value to h2  # interview Ques: Wap to change value inside class without Constructor\n",
        "print(h2.color)\n",
        "\n",
        "print(h1, h2)  # Both object has different memory address"
      ],
      "metadata": {
        "colab": {
          "base_uri": "https://localhost:8080/"
        },
        "id": "xwPUVhv9qHDU",
        "outputId": "533cfb31-2676-409c-d1fe-7dcc371d80dd"
      },
      "execution_count": null,
      "outputs": [
        {
          "output_type": "stream",
          "name": "stdout",
          "text": [
            "<__main__.House object at 0x789248b21850>\n",
            "White\n",
            "5\n",
            "Pink\n",
            "<__main__.House object at 0x789248b21850> <__main__.House object at 0x789249b52b10>\n"
          ]
        }
      ]
    },
    {
      "cell_type": "code",
      "source": [
        "# impotant Ques **\n",
        "# how to convert a number into hexadecimanl and binary\n",
        "# what is Pep8\n",
        "# frozen set\n",
        "# UTF code\n",
        "# what is __init__\n",
        "# what is self"
      ],
      "metadata": {
        "id": "qMqgCp0Srr9p"
      },
      "execution_count": null,
      "outputs": []
    },
    {
      "cell_type": "code",
      "source": [
        "class HouseMaking:\n",
        "  color = \"White\"  # class variable\n",
        "  room = 5         # class variable\n",
        "\n",
        "  # class variable is shared among all object of class\n",
        "\n",
        "  def hinfo(self):\n",
        "    print(\"House info:\",self.color, self.room)\n",
        "\n",
        "#object = Classname()\n",
        "h1 = HouseMaking()\n",
        "h1.hinfo()"
      ],
      "metadata": {
        "colab": {
          "base_uri": "https://localhost:8080/"
        },
        "id": "1rjlfOHAtk3X",
        "outputId": "410a5819-ec33-4c33-f338-8dafc0c3c2a1"
      },
      "execution_count": null,
      "outputs": [
        {
          "output_type": "stream",
          "name": "stdout",
          "text": [
            "House info: White 5\n"
          ]
        }
      ]
    },
    {
      "cell_type": "code",
      "source": [
        "# constructor is a function that is used to initalise a memory of an object\n",
        "\n",
        "class HouseMaking:\n",
        "\n",
        "  def __init__(self):   # __init__ is a Constructor\n",
        "    print(\"Mistri bulaya\", self)\n",
        "\n",
        "  # self is a variable that store the memory address of object #imp **\n",
        "  # self is just a variable that can be anything like ab, q\n",
        "\n",
        "\n",
        "#object = Classname()\n",
        "h1 = HouseMaking()   # constructor Calling (it called whenever we write () of class)\n",
        "print(h1)   #both self and h1 has same memory address"
      ],
      "metadata": {
        "colab": {
          "base_uri": "https://localhost:8080/"
        },
        "id": "Xb3kRQvYuCMH",
        "outputId": "5cb98bde-b76a-4724-f14b-f32fd01bfa13"
      },
      "execution_count": null,
      "outputs": [
        {
          "output_type": "stream",
          "name": "stdout",
          "text": [
            "Mistri bulaya <__main__.HouseMaking object at 0x789215947dd0>\n",
            "<__main__.HouseMaking object at 0x789215947dd0>\n"
          ]
        }
      ]
    },
    {
      "cell_type": "code",
      "source": [
        "# DocString\n",
        "# multiline comment\n",
        "# Reverse String leetcode\n",
        "# Shortest word distance\n",
        "# Move zeros\n",
        "# Contain Duplicate two\n",
        "#"
      ],
      "metadata": {
        "id": "y7H9H-C-waNi"
      },
      "execution_count": null,
      "outputs": []
    },
    {
      "cell_type": "code",
      "source": [
        "# Example with self\n",
        "class Dog:\n",
        "  def __init__(self, name, breed):  #constructor with 'self'\n",
        "    self.name = name  # self.name binds to the instance attribute\n",
        "    self.breed = breed\n",
        "\n",
        "  def bark(self):\n",
        "    print(f\"{self.name} says Woof!\")\n",
        "    print(f\"{self.breed} this is breed\")\n",
        "\n",
        "dog1 = Dog(\"Buddy\", \"Golden Retriever\")\n",
        "dog2 = Dog (\"Max\", \"Labrador\")\n",
        "\n",
        "\n",
        "# Access attributes and methods\n",
        "dog1.bark()\n",
        "dog2.bark()"
      ],
      "metadata": {
        "id": "DhEMqIWWw6lj",
        "colab": {
          "base_uri": "https://localhost:8080/"
        },
        "outputId": "36f15aa6-2511-4220-c11d-18056fa2eea7"
      },
      "execution_count": 3,
      "outputs": [
        {
          "output_type": "stream",
          "name": "stdout",
          "text": [
            "Buddy says Woof!\n",
            "Golden Retriever this is breed\n",
            "Max says Woof!\n",
            "Labrador this is breed\n"
          ]
        }
      ]
    },
    {
      "cell_type": "code",
      "source": [
        "# example Without Self\n",
        "class Dog:\n",
        "  def __init__(name, breed):  # Missing 'self'\n",
        "    name = name  # This won't binds to the instance\n",
        "    breed = breed   # This won't binds to the instance\n",
        "\n",
        "  def bark():\n",
        "    print(f\"{name} says Woof!\") # this cause an error\n",
        "\n",
        "# creating an object\n",
        "dog1 = Dog(\"Buddy\", \"Golden Retriever\")"
      ],
      "metadata": {
        "colab": {
          "base_uri": "https://localhost:8080/",
          "height": 176
        },
        "id": "LZUAqfzKL20z",
        "outputId": "7c6bc785-e580-45b3-e67c-b792c428105f"
      },
      "execution_count": 4,
      "outputs": [
        {
          "output_type": "error",
          "ename": "TypeError",
          "evalue": "Dog.__init__() takes 2 positional arguments but 3 were given",
          "traceback": [
            "\u001b[0;31m---------------------------------------------------------------------------\u001b[0m",
            "\u001b[0;31mTypeError\u001b[0m                                 Traceback (most recent call last)",
            "\u001b[0;32m<ipython-input-4-f254fce58351>\u001b[0m in \u001b[0;36m<cell line: 0>\u001b[0;34m()\u001b[0m\n\u001b[1;32m      9\u001b[0m \u001b[0;34m\u001b[0m\u001b[0m\n\u001b[1;32m     10\u001b[0m \u001b[0;31m# creating an object\u001b[0m\u001b[0;34m\u001b[0m\u001b[0;34m\u001b[0m\u001b[0m\n\u001b[0;32m---> 11\u001b[0;31m \u001b[0mdog1\u001b[0m \u001b[0;34m=\u001b[0m \u001b[0mDog\u001b[0m\u001b[0;34m(\u001b[0m\u001b[0;34m\"Buddy\"\u001b[0m\u001b[0;34m,\u001b[0m \u001b[0;34m\"Golden Retriever\"\u001b[0m\u001b[0;34m)\u001b[0m\u001b[0;34m\u001b[0m\u001b[0;34m\u001b[0m\u001b[0m\n\u001b[0m",
            "\u001b[0;31mTypeError\u001b[0m: Dog.__init__() takes 2 positional arguments but 3 were given"
          ]
        }
      ]
    },
    {
      "cell_type": "code",
      "source": [],
      "metadata": {
        "id": "aR5YfHLpM7Xe"
      },
      "execution_count": null,
      "outputs": []
    }
  ]
}