{
  "nbformat": 4,
  "nbformat_minor": 0,
  "metadata": {
    "colab": {
      "provenance": [],
      "authorship_tag": "ABX9TyOYxWf71soQnQ/HUWC73379",
      "include_colab_link": true
    },
    "kernelspec": {
      "name": "python3",
      "display_name": "Python 3"
    },
    "language_info": {
      "name": "python"
    }
  },
  "cells": [
    {
      "cell_type": "markdown",
      "metadata": {
        "id": "view-in-github",
        "colab_type": "text"
      },
      "source": [
        "<a href=\"https://colab.research.google.com/github/Gursewak-S/Python/blob/main/Day_18_OOPS.ipynb\" target=\"_parent\"><img src=\"https://colab.research.google.com/assets/colab-badge.svg\" alt=\"Open In Colab\"/></a>"
      ]
    },
    {
      "cell_type": "code",
      "execution_count": null,
      "metadata": {
        "id": "ELKPa4bBp3a7"
      },
      "outputs": [],
      "source": [
        "# OOPs\n",
        "\n",
        "# Object Oriented Programming System\n",
        "\n",
        "# Obejct:\n",
        "#     Real Time Entity:\n",
        "#     -Characterstics\n",
        "#     -Behaviour\n",
        "\n",
        "# Eg:- A Laptop is an object and it has features and its color which can say its characterstics\n",
        "# and its performance which is called as its behaviour\n",
        "\n",
        "# Class:\n",
        "#     Class is a collection of objects,and we can say its a blueprint or a template\n",
        "\n",
        "# Eg:- A House is an object, to create that object we can use a blueprint(Class) and using that blueprint we can create multiple houses\n",
        "\n",
        "    # First house:\n",
        "    # Blueprint (Class)\n",
        "    # Yellow Color (Characterstics)\n",
        "    # 3 Rooms (Characterstics)\n",
        "    # For Rental Use (Behaviour)\n",
        "\n",
        "    # Second house:\n",
        "    # Blueprint (Class)\n",
        "    # Red Color (Characterstics)\n",
        "    # 6 Rooms (Characterstics)\n",
        "    # For Personal Use (Behaviour)"
      ]
    },
    {
      "cell_type": "code",
      "source": [
        "class House:\n",
        "  color = \"White\"\n",
        "  room = 5\n",
        "\n",
        "# object = classname()\n",
        "h1 = House()\n",
        "print(h1)\n",
        "print(h1.color) # for accesing characteristics we use .\n",
        "print(h1.room)\n",
        "\n",
        "h2= House()\n",
        "h2.color = \"Pink\"  # Assign diff. value to h2  # interview Ques: Wap to change value inside class without Constructor\n",
        "print(h2.color)\n",
        "\n",
        "print(h1, h2)  # Both object has different memory address"
      ],
      "metadata": {
        "colab": {
          "base_uri": "https://localhost:8080/"
        },
        "id": "xwPUVhv9qHDU",
        "outputId": "533cfb31-2676-409c-d1fe-7dcc371d80dd"
      },
      "execution_count": null,
      "outputs": [
        {
          "output_type": "stream",
          "name": "stdout",
          "text": [
            "<__main__.House object at 0x789248b21850>\n",
            "White\n",
            "5\n",
            "Pink\n",
            "<__main__.House object at 0x789248b21850> <__main__.House object at 0x789249b52b10>\n"
          ]
        }
      ]
    },
    {
      "cell_type": "code",
      "source": [
        "# impotant Ques **\n",
        "# how to convert a number into hexadecimanl and binary\n",
        "# what is Pep8\n",
        "# frozen set\n",
        "# UTF code\n",
        "# what is __init__\n",
        "# what is self"
      ],
      "metadata": {
        "id": "qMqgCp0Srr9p"
      },
      "execution_count": null,
      "outputs": []
    },
    {
      "cell_type": "code",
      "source": [
        "class HouseMaking:\n",
        "  color = \"White\"  # class variable\n",
        "  room = 5         # class variable\n",
        "\n",
        "  # class variable is shared among all object of class\n",
        "\n",
        "  def hinfo(self):\n",
        "    print(\"House info:\",self.color, self.room)\n",
        "\n",
        "#object = Classname()\n",
        "h1 = HouseMaking()\n",
        "h1.hinfo()"
      ],
      "metadata": {
        "colab": {
          "base_uri": "https://localhost:8080/"
        },
        "id": "1rjlfOHAtk3X",
        "outputId": "410a5819-ec33-4c33-f338-8dafc0c3c2a1"
      },
      "execution_count": null,
      "outputs": [
        {
          "output_type": "stream",
          "name": "stdout",
          "text": [
            "House info: White 5\n"
          ]
        }
      ]
    },
    {
      "cell_type": "code",
      "source": [
        "# constructor is a function that is used to initalise a memory of an object\n",
        "\n",
        "class HouseMaking:\n",
        "\n",
        "  def __init__(self):   # __init__ is a Constructor\n",
        "    print(\"Mistri bulaya\", self)\n",
        "\n",
        "  # self is a variable that store the memory address of object #imp **\n",
        "  # self is just a variable that can be anything like ab, q\n",
        "\n",
        "\n",
        "#object = Classname()\n",
        "h1 = HouseMaking()   # constructor Calling (it called whenever we write () of class)\n",
        "print(h1)   #both self and h1 has same memory address"
      ],
      "metadata": {
        "colab": {
          "base_uri": "https://localhost:8080/"
        },
        "id": "Xb3kRQvYuCMH",
        "outputId": "5cb98bde-b76a-4724-f14b-f32fd01bfa13"
      },
      "execution_count": null,
      "outputs": [
        {
          "output_type": "stream",
          "name": "stdout",
          "text": [
            "Mistri bulaya <__main__.HouseMaking object at 0x789215947dd0>\n",
            "<__main__.HouseMaking object at 0x789215947dd0>\n"
          ]
        }
      ]
    },
    {
      "cell_type": "code",
      "source": [
        "# DocString\n",
        "# multiline comment\n",
        "# Reverse String leetcode\n",
        "# Shortest word distance\n",
        "# Move zeros\n",
        "# Contain Duplicate two\n",
        "#"
      ],
      "metadata": {
        "id": "y7H9H-C-waNi"
      },
      "execution_count": null,
      "outputs": []
    },
    {
      "cell_type": "code",
      "source": [
        "# Example with self\n",
        "class Dog:\n",
        "  def __init__(self, name, breed):  #constructor with 'self'\n",
        "    self.name = name  # self.name binds to the instance attribute\n",
        "    self.breed = breed\n",
        "\n",
        "  def bark(self):\n",
        "    print(f\"{self.name} says Woof!\")\n",
        "    print(f\"{self.breed} this is breed\")\n",
        "\n",
        "dog1 = Dog(\"Buddy\", \"Golden Retriever\")\n",
        "dog2 = Dog (\"Max\", \"Labrador\")\n",
        "\n",
        "\n",
        "# Access attributes and methods\n",
        "dog1.bark()\n",
        "dog2.bark()"
      ],
      "metadata": {
        "id": "DhEMqIWWw6lj",
        "colab": {
          "base_uri": "https://localhost:8080/"
        },
        "outputId": "36f15aa6-2511-4220-c11d-18056fa2eea7"
      },
      "execution_count": null,
      "outputs": [
        {
          "output_type": "stream",
          "name": "stdout",
          "text": [
            "Buddy says Woof!\n",
            "Golden Retriever this is breed\n",
            "Max says Woof!\n",
            "Labrador this is breed\n"
          ]
        }
      ]
    },
    {
      "cell_type": "code",
      "source": [
        "# example Without Self\n",
        "class Dog:\n",
        "  def __init__(name, breed):  # Missing 'self'\n",
        "    name = name  # This won't binds to the instance\n",
        "    breed = breed   # This won't binds to the instance\n",
        "\n",
        "  def bark():\n",
        "    print(f\"{name} says Woof!\") # this cause an error\n",
        "\n",
        "# creating an object\n",
        "dog1 = Dog(\"Buddy\", \"Golden Retriever\")"
      ],
      "metadata": {
        "colab": {
          "base_uri": "https://localhost:8080/",
          "height": 176
        },
        "id": "LZUAqfzKL20z",
        "outputId": "7c6bc785-e580-45b3-e67c-b792c428105f"
      },
      "execution_count": null,
      "outputs": [
        {
          "output_type": "error",
          "ename": "TypeError",
          "evalue": "Dog.__init__() takes 2 positional arguments but 3 were given",
          "traceback": [
            "\u001b[0;31m---------------------------------------------------------------------------\u001b[0m",
            "\u001b[0;31mTypeError\u001b[0m                                 Traceback (most recent call last)",
            "\u001b[0;32m<ipython-input-4-f254fce58351>\u001b[0m in \u001b[0;36m<cell line: 0>\u001b[0;34m()\u001b[0m\n\u001b[1;32m      9\u001b[0m \u001b[0;34m\u001b[0m\u001b[0m\n\u001b[1;32m     10\u001b[0m \u001b[0;31m# creating an object\u001b[0m\u001b[0;34m\u001b[0m\u001b[0;34m\u001b[0m\u001b[0m\n\u001b[0;32m---> 11\u001b[0;31m \u001b[0mdog1\u001b[0m \u001b[0;34m=\u001b[0m \u001b[0mDog\u001b[0m\u001b[0;34m(\u001b[0m\u001b[0;34m\"Buddy\"\u001b[0m\u001b[0;34m,\u001b[0m \u001b[0;34m\"Golden Retriever\"\u001b[0m\u001b[0;34m)\u001b[0m\u001b[0;34m\u001b[0m\u001b[0;34m\u001b[0m\u001b[0m\n\u001b[0m",
            "\u001b[0;31mTypeError\u001b[0m: Dog.__init__() takes 2 positional arguments but 3 were given"
          ]
        }
      ]
    },
    {
      "cell_type": "markdown",
      "source": [
        "Task1:\n",
        "Create a Calculator class.\n",
        "Add methods for addition, subtraction, multiplication, and division.\n",
        "Use the self parameter to access the numbers."
      ],
      "metadata": {
        "id": "OGEQIphOPhTw"
      }
    },
    {
      "cell_type": "code",
      "source": [
        "class Calculator:\n",
        "  def __init__(self, num1, num2):\n",
        "    self.num1 = num1\n",
        "    self.num2 = num2\n",
        "\n",
        "  def add(self):\n",
        "    return self.num1 + self.num2\n",
        "\n",
        "  def subtract(self):\n",
        "    return self.num1 - self.num2\n",
        "\n",
        "  def multiply(self):\n",
        "    return self.num1 * self.num2\n",
        "\n",
        "  def divide(self):\n",
        "    if self.num2 != 0:\n",
        "      return self.num1 / self.num2\n",
        "    else:\n",
        "      return \"Division by zero is not allowed!\"\n",
        "\n",
        "cal = Calculator(10,2)\n",
        "\n",
        "print(cal.add())\n",
        "print(cal.subtract())\n",
        "print(cal.multiply())\n",
        "print(cal.divide())"
      ],
      "metadata": {
        "id": "aR5YfHLpM7Xe",
        "colab": {
          "base_uri": "https://localhost:8080/"
        },
        "outputId": "b616bc42-75d4-40ff-e653-cc30c8bc06b1"
      },
      "execution_count": null,
      "outputs": [
        {
          "output_type": "stream",
          "name": "stdout",
          "text": [
            "12\n",
            "8\n",
            "20\n",
            "5.0\n"
          ]
        }
      ]
    },
    {
      "cell_type": "markdown",
      "source": [
        "Example 2: Create a Bank Account Class\n",
        "Task:\n",
        "Define a BankAccount class.\n",
        "\n",
        "Add attributes for account holder name and balance.\n",
        "\n",
        "Add methods to deposit, withdraw, and check balance."
      ],
      "metadata": {
        "id": "uExtBv-xQ-5G"
      }
    },
    {
      "cell_type": "code",
      "source": [
        "class BankAccount:\n",
        "  def __init__(self, holderName, balance):\n",
        "    self.holderName = holderName\n",
        "    self.balance = balance\n",
        "\n",
        "  def deposit(self):\n",
        "    amount = int(input(\"Enter Amount for Deposit: \"))\n",
        "    print(\"Total Amount Available: \")\n",
        "    self.balance = self.balance + amount\n",
        "    return self.balance\n",
        "\n",
        "  def withdraw(self):\n",
        "    withd = int(input(\"Enter Amount to Withdraw: \"))\n",
        "    self.balance = self.balance - withd\n",
        "    print(\"Total Amount Available: \")\n",
        "    return self.balance\n",
        "\n",
        "  def check_balance(self):\n",
        "    print(\"Total Amount Available: \")\n",
        "    return self.balance\n",
        "\n",
        "bank = BankAccount(\"Gursewak\", 10000)\n",
        "\n",
        "print(bank.deposit())\n",
        "print(bank.withdraw())\n",
        "print(bank.check_balance())\n",
        "\n",
        "# class BankAccount:\n",
        "#   def _init__(self, holder_name, balance):\n",
        "#     self.holder_name = holder_name\n",
        "#     self.balance = balance\n",
        "#   def deposit(self, amount):\n",
        "#     self.balance += amount\n",
        "#     print(f\"{amount} deposited. New balance: {self.balance)}\")\n",
        "\n",
        "#   def withdraw(self, amount):\n",
        "# if amount <= self.balance:\n",
        "# self.balance -= amount ## self.balance = self.balance - amount\n",
        "# print(f\"{amount} withdrawn. Remaining balance: {self.balance}\")\n",
        "# else:\n",
        "# print(\"Insufficient funds!\")\n",
        "# def check_balance(self):\n",
        "# return f\"Account balance for (self.holder_name}: (self.balance}\"\n",
        "# # Test the BankAccount class\n",
        "# account = BankAccount (\"Saurabh\", 1000)\n",
        "# account.deposit(500)\n",
        "# account.withdraw(300)\n",
        "# print(account.check_balance())"
      ],
      "metadata": {
        "colab": {
          "base_uri": "https://localhost:8080/"
        },
        "id": "CnQTN40cP6F8",
        "outputId": "42cf6285-f9e3-4c69-a61b-9493bc8985d1"
      },
      "execution_count": null,
      "outputs": [
        {
          "output_type": "stream",
          "name": "stdout",
          "text": [
            "Enter Amount for Deposit: 2000\n",
            "Total Amount Available: \n",
            "12000\n",
            "Enter Amount to Withdraw: 5000\n",
            "Total Amount Available: \n",
            "7000\n",
            "Total Amount Available: \n",
            "7000\n"
          ]
        }
      ]
    },
    {
      "cell_type": "markdown",
      "source": [
        "Example 3: Create a Student Class\n",
        "Task:\n",
        "Define a Student class with attributes like name, age, and marks.\n",
        "Add a method to display the student details.\n",
        "Add a method to check if the student passed (marks >= 40)."
      ],
      "metadata": {
        "id": "3gNYvkI9T6P1"
      }
    },
    {
      "cell_type": "code",
      "source": [
        "class Student_class:\n",
        "  def __init__(self, name, age, marks):\n",
        "    self.name = name\n",
        "    self.age = age\n",
        "    self.marks = marks\n",
        "\n",
        "  def details(self):\n",
        "    print(self.name, self.age, self.marks)\n",
        "\n",
        "  def passed(self):\n",
        "    if(self.marks >= 40):\n",
        "      print(\"Passed\")\n",
        "    else:\n",
        "      print(\"Fail\")\n",
        "\n",
        "Info = Student_class(\"Sam\", 20, 30)\n",
        "\n",
        "Info.passed()\n",
        "Info.details()"
      ],
      "metadata": {
        "colab": {
          "base_uri": "https://localhost:8080/"
        },
        "id": "VymACFsVSpvw",
        "outputId": "e2ea7c77-4af5-4771-f922-231962af538f"
      },
      "execution_count": null,
      "outputs": [
        {
          "output_type": "stream",
          "name": "stdout",
          "text": [
            "Fail\n",
            "Sam 20 30\n"
          ]
        }
      ]
    },
    {
      "cell_type": "markdown",
      "source": [
        "Example 4: Create a Library System\n",
        "Task:\n",
        "Define a Book class with attributes like title, author, and availability.\n",
        "Add methods to check availability and borrow/return the book."
      ],
      "metadata": {
        "id": "yB9A4tH8l4YL"
      }
    },
    {
      "cell_type": "code",
      "source": [
        "class Book:\n",
        "  def __init__(self, title, author, available):\n",
        "    print(\"Book Title: \", title)\n",
        "    print(\"Book author: \", author)\n",
        "    self.title = title\n",
        "    self.author = author\n",
        "    self.available = available\n",
        "\n",
        "  def availability(self):\n",
        "    if(self.available > 0):\n",
        "      print(\"Total book: \",  self.available)\n",
        "    else:\n",
        "      print(\"Not Available\")\n",
        "\n",
        "  def borrow(self):\n",
        "    b = int(input(\"Enter Total no of book you want to Borrow: \"))\n",
        "\n",
        "    print(\"Successfully purchase\")\n",
        "    self.available = self.available - b\n",
        "    print(\"Total book avilable: \",  self.available)\n",
        "\n",
        "  def returned(self):\n",
        "    r = int(input(\"Enter Total no of book you want to Return: \"))\n",
        "\n",
        "    print(\"Successfully Returned\")\n",
        "    self.available = self.available + r\n",
        "    print(\"Total book avilable: \",  self.available)\n",
        "\n",
        "\n",
        "library = Book( \"Money Matters\",\"sam\", 10)\n",
        "\n",
        "library.availability()\n",
        "library.borrow()\n",
        "library.returned()\n",
        "\n"
      ],
      "metadata": {
        "id": "_UVyQZ-PUuNa",
        "colab": {
          "base_uri": "https://localhost:8080/"
        },
        "outputId": "c87480dd-680e-42b8-e054-bb9f33df2974"
      },
      "execution_count": null,
      "outputs": [
        {
          "output_type": "stream",
          "name": "stdout",
          "text": [
            "Book Title:  Money Matters\n",
            "Book author:  sam\n",
            "Total book:  10\n",
            "Enter Total no of book you want to Borrow: 2\n",
            "Successfully purchase\n",
            "Total book avilable:  8\n",
            "Enter Total no of book you want to Return: 5\n",
            "Successfully Returned\n",
            "Total book avilable:  13\n"
          ]
        }
      ]
    },
    {
      "cell_type": "markdown",
      "source": [
        "Example 5: Create an Employee Management System\n",
        "Task:\n",
        "Define an Employee class with attributes Like name, ID, and salary.\n",
        "Add a method to calculate annual salary.\n",
        "Add a method to display employee details."
      ],
      "metadata": {
        "id": "-EE89l0Fpk9f"
      }
    },
    {
      "cell_type": "code",
      "source": [
        "class Employee:\n",
        "  def __init__(self, name, Id, salary):\n",
        "    self.name = name\n",
        "    self.Id = Id\n",
        "    self.salary = salary\n",
        "\n",
        "  def details(self):\n",
        "    print(\"Employee Name: \", self.name)\n",
        "    print(\"Employee Id: \", self.Id)\n",
        "    print(\"Employee Monthly salary:\", self.salary)\n",
        "\n",
        "  def annual_salary(self):\n",
        "    total = self.salary*12\n",
        "    print(\"Annual Salary: \", total)\n",
        "\n",
        "Emp = Employee(\"Sam\", 121, 35000)\n",
        "\n",
        "Emp.details()\n",
        "Emp.annual_salary()"
      ],
      "metadata": {
        "colab": {
          "base_uri": "https://localhost:8080/"
        },
        "id": "pDcrtj2pok_v",
        "outputId": "f2e4023e-2d58-4b7c-c232-d67e92117df6"
      },
      "execution_count": null,
      "outputs": [
        {
          "output_type": "stream",
          "name": "stdout",
          "text": [
            "Employee Name:  Sam\n",
            "Employee Id:  121\n",
            "Employee Monthly salary: 35000\n",
            "Annual Salary:  420000\n"
          ]
        }
      ]
    },
    {
      "cell_type": "code",
      "source": [],
      "metadata": {
        "id": "OQPxJdt5rWe-"
      },
      "execution_count": null,
      "outputs": []
    }
  ]
}