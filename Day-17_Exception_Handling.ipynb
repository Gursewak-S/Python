{
 "cells": [
  {
   "cell_type": "code",
   "execution_count": 1,
   "id": "d59b044b-5286-44c2-867b-ba5e12b4aead",
   "metadata": {},
   "outputs": [
    {
     "name": "stdout",
     "output_type": "stream",
     "text": [
      "hello\n"
     ]
    },
    {
     "ename": "NameError",
     "evalue": "name 'z' is not defined",
     "output_type": "error",
     "traceback": [
      "\u001b[1;31m---------------------------------------------------------------------------\u001b[0m",
      "\u001b[1;31mNameError\u001b[0m                                 Traceback (most recent call last)",
      "Cell \u001b[1;32mIn[1], line 5\u001b[0m\n\u001b[0;32m      1\u001b[0m \u001b[38;5;66;03m# Exception => unwanted condition, situation\u001b[39;00m\n\u001b[0;32m      2\u001b[0m \u001b[38;5;66;03m# code => correct output\u001b[39;00m\n\u001b[0;32m      4\u001b[0m \u001b[38;5;28mprint\u001b[39m(\u001b[38;5;124m\"\u001b[39m\u001b[38;5;124mhello\u001b[39m\u001b[38;5;124m\"\u001b[39m)\n\u001b[1;32m----> 5\u001b[0m \u001b[43mz\u001b[49m\u001b[38;5;241m+\u001b[39m\u001b[38;5;241m10\u001b[39m\n\u001b[0;32m      6\u001b[0m \u001b[38;5;28mprint\u001b[39m(\u001b[38;5;124m\"\u001b[39m\u001b[38;5;124mhey\u001b[39m\u001b[38;5;124m\"\u001b[39m)\n",
      "\u001b[1;31mNameError\u001b[0m: name 'z' is not defined"
     ]
    }
   ],
   "source": [
    "# Exception => unwanted condition, situation\n",
    "# code => correct output\n",
    "\n",
    "print(\"hello\")\n",
    "z+10\n",
    "print(\"hey\")"
   ]
  },
  {
   "cell_type": "code",
   "execution_count": 7,
   "id": "ca35f18d-2547-483e-9831-bb47a4992bc3",
   "metadata": {},
   "outputs": [
    {
     "name": "stdout",
     "output_type": "stream",
     "text": [
      "hello\n",
      "Error Handle name 'z' is not defined\n"
     ]
    }
   ],
   "source": [
    "try:\n",
    "    print(\"hello\")\n",
    "    z+10\n",
    "    uy+5\n",
    "    print(\"hey\")\n",
    "except NameError as e:\n",
    "    print(\"Error Handle\", e)"
   ]
  },
  {
   "cell_type": "code",
   "execution_count": 10,
   "id": "e9459943-1d66-465e-90c9-c562f2d98b2b",
   "metadata": {},
   "outputs": [
    {
     "name": "stdout",
     "output_type": "stream",
     "text": [
      "hello\n",
      "Error string index out of range\n"
     ]
    }
   ],
   "source": [
    "try:\n",
    "    print(\"hello\")\n",
    "    s=\"hey\"\n",
    "    s[5]\n",
    "    z+10\n",
    "    uy+5\n",
    "    print(\"hey\")\n",
    "except (NameError, IndexError) as e:  # we write both as it is predefined that NameError check nameerror and other error can show runtime error\n",
    "    print(\"Error\", e)"
   ]
  },
  {
   "cell_type": "code",
   "execution_count": 13,
   "id": "84dc826f-fd2d-4c8d-8e61-bdff7a9ae8b7",
   "metadata": {},
   "outputs": [
    {
     "name": "stdout",
     "output_type": "stream",
     "text": [
      "hello\n",
      "Inner Error\n",
      "hey\n"
     ]
    }
   ],
   "source": [
    "# Nested try: we use 2 try bcs we want to print hey into complier\n",
    "try:\n",
    "    print(\"hello\")\n",
    "    try:\n",
    "        s=\"hey\"\n",
    "        s[5]\n",
    "        z+10\n",
    "        uy+5\n",
    "    except:\n",
    "        print(\"Inner Error\")\n",
    "    print(\"hey\")\n",
    "except (NameError, IndexError) as e:  \n",
    "    print(\"Outer Error\", e)"
   ]
  },
  {
   "cell_type": "code",
   "execution_count": 14,
   "id": "65c45f5e-4027-499a-b5b3-8293505773e5",
   "metadata": {},
   "outputs": [
    {
     "name": "stdout",
     "output_type": "stream",
     "text": [
      "hello\n",
      "hey\n",
      "Else Statement\n"
     ]
    }
   ],
   "source": [
    "try:\n",
    "    print(\"hello\")\n",
    "    s=\"hey\"\n",
    "    s[1]\n",
    "    print(\"hey\")\n",
    "except (NameError, IndexError) as e:  \n",
    "    print(\"Outer Error\", e)\n",
    "else:  # if except statement did't run then else will execute\n",
    "    print(\"Else Statement\")"
   ]
  },
  {
   "cell_type": "code",
   "execution_count": 16,
   "id": "d7aac5cd-6369-4ba3-a73e-21cb9d3a9139",
   "metadata": {},
   "outputs": [
    {
     "name": "stdout",
     "output_type": "stream",
     "text": [
      "hello\n",
      "Outer Error string index out of range\n",
      "Finally Statement\n"
     ]
    }
   ],
   "source": [
    "try:\n",
    "    print(\"hello\")\n",
    "    s=\"hey\"\n",
    "    s[10]\n",
    "    print(\"hey\")\n",
    "except (NameError, IndexError) as e:  \n",
    "    print(\"Outer Error\", e)\n",
    "finally:  # finally will always execute if there is error it will akways run\n",
    "    print(\"Finally Statement\")"
   ]
  },
  {
   "cell_type": "code",
   "execution_count": 18,
   "id": "0903b44d-0177-4aa1-adfe-770389c7958b",
   "metadata": {},
   "outputs": [
    {
     "name": "stdout",
     "output_type": "stream",
     "text": [
      "Invalid age of user\n"
     ]
    }
   ],
   "source": [
    "# raise Keyword is used to raise exceptions or errors by coder by creating manually\n",
    "\n",
    "age=17\n",
    "try:\n",
    "    if(age<18):\n",
    "        raise ValueError \n",
    "    else:\n",
    "        print(\"Welcome user\")\n",
    "except ValueError:\n",
    "    print(\"Invalid age of user\")"
   ]
  },
  {
   "cell_type": "code",
   "execution_count": null,
   "id": "a3405045-c8c8-4704-9370-daa6bd6aedbb",
   "metadata": {},
   "outputs": [],
   "source": [
    "# Interview Question very importance\n",
    "\n",
    "# What is assert Keyword and why we use it\n",
    "# python 2 vs python3\n",
    "# call by object reference\n",
    "# list vs tuple\n",
    "# dictionary and set (Real life usecases)\n",
    "# function => *args vs **kwargs\n",
    "# normal function vs lambda function\n",
    "# first class vs high order\n",
    "# list/array/stack question => very important\n",
    "# stack, queus and LinkedList \n"
   ]
  },
  {
   "cell_type": "code",
   "execution_count": null,
   "id": "55ced419-3c81-49cb-b5aa-11ca3500ecc0",
   "metadata": {},
   "outputs": [],
   "source": [
    "# learning Assignment\n",
    "\n",
    "# assert statement\n",
    "# what is generator and how it's different from normal function and its return keyword\n"
   ]
  }
 ],
 "metadata": {
  "kernelspec": {
   "display_name": "Python 3 (ipykernel)",
   "language": "python",
   "name": "python3"
  },
  "language_info": {
   "codemirror_mode": {
    "name": "ipython",
    "version": 3
   },
   "file_extension": ".py",
   "mimetype": "text/x-python",
   "name": "python",
   "nbconvert_exporter": "python",
   "pygments_lexer": "ipython3",
   "version": "3.12.3"
  }
 },
 "nbformat": 4,
 "nbformat_minor": 5
}
