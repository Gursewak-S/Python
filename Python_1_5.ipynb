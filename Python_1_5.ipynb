{
  "nbformat": 4,
  "nbformat_minor": 0,
  "metadata": {
    "colab": {
      "provenance": [],
      "authorship_tag": "ABX9TyPGlPi+vR22q+6EvOPovxz/",
      "include_colab_link": true
    },
    "kernelspec": {
      "name": "python3",
      "display_name": "Python 3"
    },
    "language_info": {
      "name": "python"
    }
  },
  "cells": [
    {
      "cell_type": "markdown",
      "metadata": {
        "id": "view-in-github",
        "colab_type": "text"
      },
      "source": [
        "<a href=\"https://colab.research.google.com/github/Gursewak-S/Python/blob/main/Python_1_5.ipynb\" target=\"_parent\"><img src=\"https://colab.research.google.com/assets/colab-badge.svg\" alt=\"Open In Colab\"/></a>"
      ]
    },
    {
      "cell_type": "code",
      "execution_count": null,
      "metadata": {
        "id": "ieEh2NeQoPKk"
      },
      "outputs": [],
      "source": [
        "# Python ---> Python is a general purpose, interpreted programming language which was invented in 1991 by Guido van Rossoum.\n",
        "\n",
        "# for Check version\n",
        "# python --version"
      ]
    },
    {
      "cell_type": "code",
      "source": [
        "# Fundamentals of Python\n",
        "# 1. variable\n",
        "# 2. Datatype\n",
        "# 3. input(), print()"
      ],
      "metadata": {
        "id": "FWqmkFCVw1nR"
      },
      "execution_count": null,
      "outputs": []
    },
    {
      "cell_type": "code",
      "source": [
        "# 1. variable ---> This is a container in which we will store values or assign.\n",
        "a =56\n",
        "b = 'sam'\n",
        "c =78.26\n",
        "\n",
        "# here a,b,c are variable"
      ],
      "metadata": {
        "id": "-POTRvZDxKCZ"
      },
      "execution_count": null,
      "outputs": []
    },
    {
      "cell_type": "code",
      "source": [
        "# a. Global variable ---> Entirely Modify\n",
        "# b. Local Variable ---> Specific block of code modify\n"
      ],
      "metadata": {
        "id": "AUiNHRpexd8e"
      },
      "execution_count": null,
      "outputs": []
    },
    {
      "cell_type": "code",
      "source": [
        "# 2. Data type --->\n",
        "# a. integer --> All Positive or negative value\n",
        "# ex. 25, 65\n",
        "\n",
        "# b. Float --> All decimal values\n",
        "# Ex. 25.6, 45.65\n",
        "\n",
        "# c. String --> 'Single quote' , \"Double Quote\", '''Triple Quote'''\n",
        "# Ex. 'sam', \"sam\", '''sam'''\n",
        "\n",
        "# d. Boolean --> True or False\n",
        "# Ex. 5>4 --> True"
      ],
      "metadata": {
        "id": "lQQyYHx-xqSq"
      },
      "execution_count": null,
      "outputs": []
    },
    {
      "cell_type": "code",
      "source": [
        "# type() --> using type() , we can check data type."
      ],
      "metadata": {
        "id": "yQO2b3fRydg2"
      },
      "execution_count": null,
      "outputs": []
    },
    {
      "cell_type": "code",
      "source": [
        "type(25)"
      ],
      "metadata": {
        "colab": {
          "base_uri": "https://localhost:8080/"
        },
        "id": "zz2l9ttfynub",
        "outputId": "09ec25c0-7494-4695-d9be-44acca25f72b"
      },
      "execution_count": null,
      "outputs": [
        {
          "output_type": "execute_result",
          "data": {
            "text/plain": [
              "int"
            ]
          },
          "metadata": {},
          "execution_count": 9
        }
      ]
    },
    {
      "cell_type": "code",
      "source": [
        "type(5>4)"
      ],
      "metadata": {
        "colab": {
          "base_uri": "https://localhost:8080/"
        },
        "id": "FFxD4Wtvyp1E",
        "outputId": "5acc1dd7-4f2c-4230-af95-3c9c12aa871c"
      },
      "execution_count": null,
      "outputs": [
        {
          "output_type": "execute_result",
          "data": {
            "text/plain": [
              "bool"
            ]
          },
          "metadata": {},
          "execution_count": 10
        }
      ]
    },
    {
      "cell_type": "code",
      "source": [
        "# type-casting --> Using type-casting, we can convert or change value from one data type to another data type."
      ],
      "metadata": {
        "id": "6BBJ_09fysRB"
      },
      "execution_count": null,
      "outputs": []
    },
    {
      "cell_type": "code",
      "source": [
        "a=67\n",
        "type(a)\n",
        "b= float(a)\n",
        "type(b)"
      ],
      "metadata": {
        "colab": {
          "base_uri": "https://localhost:8080/"
        },
        "id": "fRPVwxCozBcw",
        "outputId": "4beaf265-0d17-4bed-e385-58db0e6cd722"
      },
      "execution_count": null,
      "outputs": [
        {
          "output_type": "execute_result",
          "data": {
            "text/plain": [
              "float"
            ]
          },
          "metadata": {},
          "execution_count": 12
        }
      ]
    },
    {
      "cell_type": "code",
      "source": [
        "# print() --> It will execute our Query on terminal"
      ],
      "metadata": {
        "id": "2hqI5QJ4zLSq"
      },
      "execution_count": null,
      "outputs": []
    },
    {
      "cell_type": "code",
      "source": [
        "a=1\n",
        "print(a)\n",
        "b = 2\n",
        "print(b)"
      ],
      "metadata": {
        "colab": {
          "base_uri": "https://localhost:8080/"
        },
        "id": "gAe2hXYGzYxG",
        "outputId": "eac17077-6f34-4508-8332-2ab34ebd89bf"
      },
      "execution_count": null,
      "outputs": [
        {
          "output_type": "stream",
          "name": "stdout",
          "text": [
            "1\n",
            "2\n"
          ]
        }
      ]
    },
    {
      "cell_type": "code",
      "source": [
        "# input --> this is a predefined function of python. It will take query from user and send it to the function\n",
        "#  And its output will be string format by default"
      ],
      "metadata": {
        "id": "CowJBslfzfeu"
      },
      "execution_count": null,
      "outputs": []
    },
    {
      "cell_type": "code",
      "source": [
        "a=1\n",
        "b = 2\n",
        "c = a + b\n",
        "c"
      ],
      "metadata": {
        "colab": {
          "base_uri": "https://localhost:8080/"
        },
        "id": "6aXwxYkxz7Vq",
        "outputId": "8b361a56-da72-407a-9e3e-4818052ac73f"
      },
      "execution_count": null,
      "outputs": [
        {
          "output_type": "execute_result",
          "data": {
            "text/plain": [
              "3"
            ]
          },
          "metadata": {},
          "execution_count": 16
        }
      ]
    },
    {
      "cell_type": "code",
      "source": [
        "a = '1'\n",
        "b = '2'\n",
        "c = a + b\n",
        "c"
      ],
      "metadata": {
        "colab": {
          "base_uri": "https://localhost:8080/",
          "height": 36
        },
        "id": "oN6Y28Ii0C5J",
        "outputId": "f53a829e-46ef-49e5-e9b4-16049f61c28b"
      },
      "execution_count": null,
      "outputs": [
        {
          "output_type": "execute_result",
          "data": {
            "text/plain": [
              "'12'"
            ],
            "application/vnd.google.colaboratory.intrinsic+json": {
              "type": "string"
            }
          },
          "metadata": {},
          "execution_count": 17
        }
      ]
    },
    {
      "cell_type": "code",
      "source": [
        "a = input(\"Enter first number: \")\n",
        "b = input(\"Enter Second number: \")\n",
        "c = a + b\n",
        "c"
      ],
      "metadata": {
        "colab": {
          "base_uri": "https://localhost:8080/",
          "height": 70
        },
        "id": "j-LsORoq0J1M",
        "outputId": "c64a4f8c-2d2a-4497-e5d9-1bf9d3f6c15d"
      },
      "execution_count": null,
      "outputs": [
        {
          "name": "stdout",
          "output_type": "stream",
          "text": [
            "Enter first number1\n",
            "Enter Second number2\n"
          ]
        },
        {
          "output_type": "execute_result",
          "data": {
            "text/plain": [
              "'12'"
            ],
            "application/vnd.google.colaboratory.intrinsic+json": {
              "type": "string"
            }
          },
          "metadata": {},
          "execution_count": 19
        }
      ]
    },
    {
      "cell_type": "code",
      "source": [
        "a = int(input(\"Enter first number: \"))\n",
        "b = int(input(\"Enter Second number: \"))\n",
        "c = a + b\n",
        "c"
      ],
      "metadata": {
        "colab": {
          "base_uri": "https://localhost:8080/"
        },
        "id": "-SOfU2EX0g-F",
        "outputId": "ba1866b8-4cc4-4c4b-fedf-4a797112c6f7"
      },
      "execution_count": null,
      "outputs": [
        {
          "name": "stdout",
          "output_type": "stream",
          "text": [
            "Enter first number: 1\n",
            "Enter Second number: 2\n"
          ]
        },
        {
          "output_type": "execute_result",
          "data": {
            "text/plain": [
              "3"
            ]
          },
          "metadata": {},
          "execution_count": 20
        }
      ]
    },
    {
      "cell_type": "code",
      "source": [
        "# Commonly used operator\n",
        "# 1. Add(+) ---> 5+3 = 8\n",
        "# 2. Sub(-)  ---> 5-3 = 2\n",
        "# 3. Multiplication(*) ---> 2*4 = 8\n",
        "# 4. Division(/) ---> 5/2 =2.5\n",
        "# 5. Floor Division(//) --> 5//2 =2\n",
        "# 6. MOdule(%) --> For Remainder Calculation --> 25%10 = 5\n",
        "# 7. Equal to(=) --> For values assignment --> a=5, b='sam'\n",
        "# 8. Equal Equal to(==) --> for value comparison --> a==4 , 'sam'=='mohit'\n",
        "# 9. Not equal to(!=)\n",
        "# 10. Greater than(>)\n",
        "# 11. Greater than or Equal to(>=)\n",
        "# 12. Less than(<)\n",
        "# 13. Less than or Equal to(<=)"
      ],
      "metadata": {
        "id": "mD_K3XcY0z0j"
      },
      "execution_count": null,
      "outputs": []
    },
    {
      "cell_type": "code",
      "source": [
        "# Conditional Statement in Python\n",
        "# (1). if\n",
        "# (2). elif\n",
        "# (3). else"
      ],
      "metadata": {
        "id": "tLt2tf0KkUsj"
      },
      "execution_count": null,
      "outputs": []
    },
    {
      "cell_type": "code",
      "source": [
        "# Ex.1\n",
        "a = input(\"Enter your name:\")\n",
        "\n",
        "if(a==\"sam\"):\n",
        "  print (\"yes\")\n",
        "elif(a==\"rahul\"):\n",
        "  print(\"no\")\n",
        "elif(a==\"ankit\"):\n",
        "  print (\"ok\")\n",
        "else:\n",
        "  print(\"Please enter a valid name....\")"
      ],
      "metadata": {
        "colab": {
          "base_uri": "https://localhost:8080/"
        },
        "id": "GJyRjtTLktYm",
        "outputId": "5e7f9b65-8bae-49c5-d400-9a09bcb354e5"
      },
      "execution_count": null,
      "outputs": [
        {
          "output_type": "stream",
          "name": "stdout",
          "text": [
            "Enter your name:sam\n",
            "yes\n"
          ]
        }
      ]
    },
    {
      "cell_type": "code",
      "source": [
        "# Ex.2\n",
        "print(\"We provide these items: pizza, burgur , icecream , sandwich\")\n",
        "print(\"Pizza:100, burgur:50 , icecream:50 , sandwich:100\" )\n",
        "a = input(\"Enter your item: \")\n",
        "\n",
        "if(a==\"pizza\"):\n",
        "  print(\"Pizza is available\")\n",
        "  b = int(input(\"Please tell me how many pizza you want:\"))\n",
        "  c = b*100\n",
        "  if(c>=2000):\n",
        "    print(\"Your Actual price is: \", с)\n",
        "    print(\"Your 20% discounted price is :\" , c-(c*0.2))\n",
        "  elif(1000<c<2000):\n",
        "    print(\"Your Actual price is: \" , c)\n",
        "    print(\"Your 10% discounted price is :\" , c-(c*0.1))\n",
        "  elif(c<1000):\n",
        "    print(\"Your total price is :\" , c)\n",
        "\n",
        "elif (a==\"burgur\"):\n",
        "    print( \"Burgur is available\")\n",
        "    b = int(input(\"Please tell me how many burgur you want:\"))\n",
        "    c = b*50\n",
        "    if(c>=2000):\n",
        "      print(\"Your Actual price is:\", с)\n",
        "      print(\"Your 20% discounted price is :\" , c-(c*0.2))\n",
        "    elif(1000<c<2000):\n",
        "      print(\"Your Actual price is:\" , c)\n",
        "      print(\"Your 10% discounted price is :\" , c-(c*0.1))\n",
        "    elif(c<1000):\n",
        "      print(\"Your total price is :\" , c)\n",
        "\n",
        "elif(a==\"icecream\"):\n",
        "  print(\"Icecream is available\")\n",
        "\n",
        "elif(a==\"sandwich\"):\n",
        "  print(\"Sandwich is available\")\n",
        "\n",
        "else:\n",
        "  print(\"Please enter a valid name....\")"
      ],
      "metadata": {
        "colab": {
          "base_uri": "https://localhost:8080/"
        },
        "id": "vCC0FnDCkzGw",
        "outputId": "6e3f3777-fa07-4cc0-ff62-946fca337758"
      },
      "execution_count": null,
      "outputs": [
        {
          "output_type": "stream",
          "name": "stdout",
          "text": [
            "We provide these items: pizza, burgur , icecream , sandwich\n",
            "Pizza:100, burgur:50 , icecream:50 , sandwich:100\n",
            "Enter your item: icecream\n",
            "Icecream is available\n"
          ]
        }
      ]
    },
    {
      "cell_type": "code",
      "source": [
        "a = 100\n",
        "b = 100*0.1\n",
        "c = a-b\n",
        "c"
      ],
      "metadata": {
        "colab": {
          "base_uri": "https://localhost:8080/"
        },
        "id": "--Zyqzcdm-E0",
        "outputId": "20b53a7d-876e-47fd-f5f7-30ff8bfbc576"
      },
      "execution_count": null,
      "outputs": [
        {
          "output_type": "execute_result",
          "data": {
            "text/plain": [
              "90.0"
            ]
          },
          "metadata": {},
          "execution_count": 17
        }
      ]
    },
    {
      "cell_type": "code",
      "source": [
        "# Student Information System\n",
        "# user (python, java, mern) --> course select (fees, time duration)\n",
        "\n",
        "name = input(\"Enter your name: \")\n",
        "print(\"Available Courses python, java, mern\")\n",
        "course = input(\"Enter your course: \")\n",
        "\n",
        "if(course == \"python\"):\n",
        "    print(\"Time Duration of Course: 3 Month\")\n",
        "    print(\"Fees: 25000\")\n",
        "\n",
        "elif(course == \"java\"):\n",
        "    print(\"Time Duration of Course: 5 Month\")\n",
        "    print(\"Fees: 40000\")\n",
        "\n",
        "elif(course == \"mern\"):\n",
        "    print(\"Time Duration of Course: 4 Month\")\n",
        "    print(\"Fees: 30000\")\n",
        "\n",
        "else:\n",
        "    print(\"Please enter a valid course....\")\n"
      ],
      "metadata": {
        "id": "UppZn_WWnAfw",
        "colab": {
          "base_uri": "https://localhost:8080/"
        },
        "outputId": "1c256c2c-0ca2-4f4c-ad56-de90aca25b05"
      },
      "execution_count": null,
      "outputs": [
        {
          "output_type": "stream",
          "name": "stdout",
          "text": [
            "Enter your name: sam\n",
            "Available Courses python, java, mern\n",
            "Enter your course: java\n",
            "Time Duration of Course: 5 Month\n",
            "Fees: 40000\n"
          ]
        }
      ]
    },
    {
      "cell_type": "code",
      "source": [
        "# Loop in Python\n",
        "# 1. For Loop\n",
        "# 2. While Loop"
      ],
      "metadata": {
        "id": "jUGGmmivAYty"
      },
      "execution_count": null,
      "outputs": []
    },
    {
      "cell_type": "code",
      "source": [
        "# 1. For Loop\n",
        "\n",
        "# index = 0 , length = 1\n",
        "# starting_values will include and last_value will exclude"
      ],
      "metadata": {
        "id": "bxFFi-WtC8br"
      },
      "execution_count": null,
      "outputs": []
    },
    {
      "cell_type": "code",
      "source": [
        "for i in range(1,5):\n",
        "  print(i)"
      ],
      "metadata": {
        "colab": {
          "base_uri": "https://localhost:8080/"
        },
        "id": "lH7oIBkmDSJU",
        "outputId": "fb5b3c00-1748-478f-c086-97d0c5921779"
      },
      "execution_count": null,
      "outputs": [
        {
          "output_type": "stream",
          "name": "stdout",
          "text": [
            "1\n",
            "2\n",
            "3\n",
            "4\n"
          ]
        }
      ]
    },
    {
      "cell_type": "code",
      "source": [
        "for i in range(1,10,2):\n",
        "  print(i)"
      ],
      "metadata": {
        "colab": {
          "base_uri": "https://localhost:8080/"
        },
        "id": "2NUYmwzxDWWu",
        "outputId": "affc92c8-d664-4a2d-c769-769c65dd502c"
      },
      "execution_count": null,
      "outputs": [
        {
          "output_type": "stream",
          "name": "stdout",
          "text": [
            "1\n",
            "3\n",
            "5\n",
            "7\n",
            "9\n"
          ]
        }
      ]
    },
    {
      "cell_type": "code",
      "source": [
        "for i in range(3):\n",
        "  for j in range(2):\n",
        "    print(f\"({i},{j})\")"
      ],
      "metadata": {
        "colab": {
          "base_uri": "https://localhost:8080/"
        },
        "id": "zKf7ipeVDc1y",
        "outputId": "1994a68d-8c5a-4412-d2aa-c114dccc3116"
      },
      "execution_count": null,
      "outputs": [
        {
          "output_type": "stream",
          "name": "stdout",
          "text": [
            "(0,0)\n",
            "(0,1)\n",
            "(1,0)\n",
            "(1,1)\n",
            "(2,0)\n",
            "(2,1)\n"
          ]
        }
      ]
    },
    {
      "cell_type": "code",
      "source": [
        "i = \"Sam\"\n",
        "print(f\"Hello, {i} Thanku for reaching out\")"
      ],
      "metadata": {
        "colab": {
          "base_uri": "https://localhost:8080/"
        },
        "id": "iv8MTPDnGTL4",
        "outputId": "2ffe0cd2-44c1-4189-f211-201d8d811f37"
      },
      "execution_count": null,
      "outputs": [
        {
          "output_type": "stream",
          "name": "stdout",
          "text": [
            "Hello, Sam Thanku for reaching out\n"
          ]
        }
      ]
    },
    {
      "cell_type": "code",
      "source": [
        "for i in range(1,6):\n",
        "  print('*' * i)"
      ],
      "metadata": {
        "colab": {
          "base_uri": "https://localhost:8080/"
        },
        "id": "ZNyQM2ScGdJ0",
        "outputId": "e49af6f0-aff7-448c-d73a-378648339db1"
      },
      "execution_count": null,
      "outputs": [
        {
          "output_type": "stream",
          "name": "stdout",
          "text": [
            "*\n",
            "**\n",
            "***\n",
            "****\n",
            "*****\n"
          ]
        }
      ]
    },
    {
      "cell_type": "code",
      "source": [
        "for i in range(1,6):\n",
        "  if i == 1 or i == 5:\n",
        "    print('*'*i)\n",
        "  else:\n",
        "    print('*' + (i-2)*' ' +'*' )"
      ],
      "metadata": {
        "colab": {
          "base_uri": "https://localhost:8080/"
        },
        "id": "MBX-d4sAHa7A",
        "outputId": "5a6432e2-963f-4d4b-cc06-46d36be2d34f"
      },
      "execution_count": null,
      "outputs": [
        {
          "output_type": "stream",
          "name": "stdout",
          "text": [
            "*\n",
            "**\n",
            "* *\n",
            "*  *\n",
            "*****\n"
          ]
        }
      ]
    },
    {
      "cell_type": "code",
      "source": [
        "n = 5\n",
        "for i in range(1, n+1):\n",
        "  print(' ' * (n-i) + '*' * (2*i-1))"
      ],
      "metadata": {
        "colab": {
          "base_uri": "https://localhost:8080/"
        },
        "id": "410mYpLFJBir",
        "outputId": "4513b605-da99-4914-9520-b1f06132126a"
      },
      "execution_count": null,
      "outputs": [
        {
          "output_type": "stream",
          "name": "stdout",
          "text": [
            "    *\n",
            "   ***\n",
            "  *****\n",
            " *******\n",
            "*********\n"
          ]
        }
      ]
    },
    {
      "cell_type": "code",
      "source": [
        "# 2. While loop\n",
        "\n",
        "# a. Initialization\n",
        "# b. Condition\n",
        "# c. Increment or Decrement"
      ],
      "metadata": {
        "id": "DrK6NJWYKo-J"
      },
      "execution_count": null,
      "outputs": []
    },
    {
      "cell_type": "code",
      "source": [
        "i = 1 #Initialization\n",
        "n = 4\n",
        "while(i<=n): #Condition\n",
        "  print(i)\n",
        "  i+=1  #Increment"
      ],
      "metadata": {
        "colab": {
          "base_uri": "https://localhost:8080/"
        },
        "id": "DkvyYFwOMlfz",
        "outputId": "a16f3e46-fd6d-456c-c90e-f6a90c6ecb38"
      },
      "execution_count": null,
      "outputs": [
        {
          "output_type": "stream",
          "name": "stdout",
          "text": [
            "1\n",
            "2\n",
            "3\n",
            "4\n"
          ]
        }
      ]
    },
    {
      "cell_type": "code",
      "source": [
        "i = int(input(\"Enter first number: \"))\n",
        "n = int(input(\"Enter last number: \"))\n",
        "p = int(input(\"Enter step number: \"))\n",
        "\n",
        "while(i<=n):\n",
        "  print(i)\n",
        "  i+=p"
      ],
      "metadata": {
        "colab": {
          "base_uri": "https://localhost:8080/"
        },
        "id": "747nPMSaMqtq",
        "outputId": "acb6cc35-78ae-4988-a244-9b7605bbfa8a"
      },
      "execution_count": null,
      "outputs": [
        {
          "output_type": "stream",
          "name": "stdout",
          "text": [
            "Enter first number: 1\n",
            "Enter last number: 20\n",
            "Enter step number: 4\n",
            "1\n",
            "5\n",
            "9\n",
            "13\n",
            "17\n"
          ]
        }
      ]
    },
    {
      "cell_type": "code",
      "source": [
        "i = 5 #Initialization\n",
        "n = 1\n",
        "while(i>=n): #Condition\n",
        "  print(i)\n",
        "  i-=1  #Decrement"
      ],
      "metadata": {
        "colab": {
          "base_uri": "https://localhost:8080/"
        },
        "id": "jQlde8SeNZqF",
        "outputId": "c9a5e5ab-d2d9-4f93-a6e1-ef43ac408c67"
      },
      "execution_count": null,
      "outputs": [
        {
          "output_type": "stream",
          "name": "stdout",
          "text": [
            "5\n",
            "4\n",
            "3\n",
            "2\n",
            "1\n"
          ]
        }
      ]
    },
    {
      "cell_type": "code",
      "source": [
        "# wap to print sum of given range\n",
        "i = 1\n",
        "n = 5\n",
        "sum = 0\n",
        "while(i<=n):\n",
        "  sum += i\n",
        "  i+=1\n",
        "print(sum)"
      ],
      "metadata": {
        "colab": {
          "base_uri": "https://localhost:8080/"
        },
        "id": "E862B5gQOuEw",
        "outputId": "2cdae91e-7305-4446-c833-d67aaee72820"
      },
      "execution_count": null,
      "outputs": [
        {
          "output_type": "stream",
          "name": "stdout",
          "text": [
            "15\n"
          ]
        }
      ]
    },
    {
      "cell_type": "code",
      "source": [
        "# wap to find minimum value out of 3 variable\n",
        "\n",
        "a = 4\n",
        "b = 2\n",
        "c = 6\n",
        "\n",
        "if(a<b and a<c):\n",
        "  print(\"a is minimum\")\n",
        "elif(b<a and b<c):\n",
        "  print(\"b is minimum\")\n",
        "else:\n",
        "  print(\"c is minimum\")"
      ],
      "metadata": {
        "colab": {
          "base_uri": "https://localhost:8080/"
        },
        "id": "iwiv4kQ6KZF0",
        "outputId": "cfa1ddc7-ffd4-4330-b861-c89c8debede3"
      },
      "execution_count": null,
      "outputs": [
        {
          "output_type": "stream",
          "name": "stdout",
          "text": [
            "b is minimum\n"
          ]
        }
      ]
    },
    {
      "cell_type": "code",
      "source": [
        "n = int(input(\"Enter Number: \"))\n",
        "\n",
        "if(n%2==0):\n",
        "  print(\"Hi\")\n",
        "elif(n%5==0):\n",
        "  print(\"Hello\")\n",
        "else:\n",
        "  print(\"Bye\")"
      ],
      "metadata": {
        "colab": {
          "base_uri": "https://localhost:8080/"
        },
        "id": "mkcbTEGeKokh",
        "outputId": "0d7ae6be-757d-4d65-c867-e18248fb6f92"
      },
      "execution_count": null,
      "outputs": [
        {
          "output_type": "stream",
          "name": "stdout",
          "text": [
            "Enter Number: 15\n",
            "Hello\n"
          ]
        }
      ]
    },
    {
      "cell_type": "code",
      "source": [
        "# Take a variable name as age if age is value is greater than 10 then, if greater than 18 adult, 30 mature, 60 old citizen, infant\n",
        "\n",
        "age = int(input(\"Enter the age: \"))\n",
        "\n",
        "if(age>=10 and age<18):\n",
        "  print(\"Child\")\n",
        "elif(age>=18 and age<30):\n",
        "  print(\"Adult\")\n",
        "elif(age>=30 and age<60):\n",
        "  print(\"Mature\")\n",
        "elif(age>=60):\n",
        "  print(\"Old Citizen\")\n",
        "else:\n",
        "  print(\"Infant\")\n"
      ],
      "metadata": {
        "colab": {
          "base_uri": "https://localhost:8080/"
        },
        "id": "L5H0QQDwOLOp",
        "outputId": "9e2a8bc2-b928-4b2b-e296-da811d468953"
      },
      "execution_count": null,
      "outputs": [
        {
          "output_type": "stream",
          "name": "stdout",
          "text": [
            "Enter the age: 18\n",
            "Adult\n"
          ]
        }
      ]
    },
    {
      "cell_type": "code",
      "source": [
        "age = 19\n",
        "\n",
        "if(age>5):\n",
        "  print(\"Aadhar card created\")\n",
        "  if(age>=18):\n",
        "    print(\"Aadhar and pan card is linked\")\n",
        "  else:\n",
        "    print(\"PAN CARD NOT CREATED\")\n",
        "else:\n",
        "  print(\"Age is small\")"
      ],
      "metadata": {
        "colab": {
          "base_uri": "https://localhost:8080/"
        },
        "id": "jrSZIVlYQyA3",
        "outputId": "72e79a5c-f11d-4c59-fd03-ae29bb16798c"
      },
      "execution_count": null,
      "outputs": [
        {
          "output_type": "stream",
          "name": "stdout",
          "text": [
            "Aadhar card created\n",
            "Aadhar and pan card is linked\n"
          ]
        }
      ]
    },
    {
      "cell_type": "code",
      "source": [
        "num = 4\n",
        "\n",
        "if(num%2==0):\n",
        "  if(num%3==0):\n",
        "    print(\"Number is Divisible by 6\")\n",
        "  else:\n",
        "    print(\"Number is Divisible by 2\")\n",
        "else:\n",
        "  print(\"Number is not Divisible\")"
      ],
      "metadata": {
        "colab": {
          "base_uri": "https://localhost:8080/"
        },
        "id": "cHfNfc4PT2dM",
        "outputId": "c8194522-b40b-40eb-d320-32d8a0d858f3"
      },
      "execution_count": null,
      "outputs": [
        {
          "output_type": "stream",
          "name": "stdout",
          "text": [
            "Number is Divisible by 2\n"
          ]
        }
      ]
    },
    {
      "cell_type": "code",
      "source": [
        "# what is the diff btn Python version 2 and version 3"
      ],
      "metadata": {
        "id": "dbH2jYgiUojq"
      },
      "execution_count": null,
      "outputs": []
    },
    {
      "cell_type": "code",
      "source": [
        "# String slicing & index\n",
        "#         ...-4-3-2-1\n",
        "# city = \"RAJASTHAN\"\n",
        "#         012345678\n",
        "\n",
        "city = \"RAJASTHAN\"\n",
        "print(city[0])\n"
      ],
      "metadata": {
        "colab": {
          "base_uri": "https://localhost:8080/"
        },
        "id": "5QNrUuFPZGyh",
        "outputId": "2d3ae5a0-a8d5-4b28-f585-684b63f7c4ef"
      },
      "execution_count": null,
      "outputs": [
        {
          "output_type": "stream",
          "name": "stdout",
          "text": [
            "R\n"
          ]
        }
      ]
    },
    {
      "cell_type": "code",
      "source": [
        "city = \"RAJASTHAN\"\n",
        "print(city[0:4])"
      ],
      "metadata": {
        "colab": {
          "base_uri": "https://localhost:8080/"
        },
        "id": "kGiY5b-rWO_C",
        "outputId": "b6404e72-f72b-4825-845a-98f252e16fca"
      },
      "execution_count": null,
      "outputs": [
        {
          "output_type": "stream",
          "name": "stdout",
          "text": [
            "RAJA\n"
          ]
        }
      ]
    },
    {
      "cell_type": "code",
      "source": [
        "city = \"RAJASTHAN\"\n",
        "print(city[0])"
      ],
      "metadata": {
        "colab": {
          "base_uri": "https://localhost:8080/"
        },
        "id": "_ZEp2khrWWOe",
        "outputId": "babe6409-02a2-4693-c994-b842927dbc97"
      },
      "execution_count": null,
      "outputs": [
        {
          "output_type": "stream",
          "name": "stdout",
          "text": [
            "R\n"
          ]
        }
      ]
    },
    {
      "cell_type": "code",
      "source": [
        "city = \"RAJASTHAN\"\n",
        "print(city[2:])"
      ],
      "metadata": {
        "colab": {
          "base_uri": "https://localhost:8080/"
        },
        "id": "HEFB6k16W2cj",
        "outputId": "e18bcac7-db53-4bf1-d0ae-98b537094e3c"
      },
      "execution_count": null,
      "outputs": [
        {
          "output_type": "stream",
          "name": "stdout",
          "text": [
            "JASTHAN\n"
          ]
        }
      ]
    },
    {
      "cell_type": "code",
      "source": [
        "city = \"RAJASTHAN\"\n",
        "print(city[:4])"
      ],
      "metadata": {
        "colab": {
          "base_uri": "https://localhost:8080/"
        },
        "id": "7Eve9b7pWuSl",
        "outputId": "7a0041bc-5ff4-4e59-85f8-1eab34eaba24"
      },
      "execution_count": null,
      "outputs": [
        {
          "output_type": "stream",
          "name": "stdout",
          "text": [
            "RAJA\n"
          ]
        }
      ]
    },
    {
      "cell_type": "code",
      "source": [
        "city = \"RAJASTHAN\"\n",
        "print(city[-3])"
      ],
      "metadata": {
        "colab": {
          "base_uri": "https://localhost:8080/"
        },
        "id": "bEgLUfmZWvPA",
        "outputId": "2145aecf-2d57-4ded-ee7e-375050f1acd2"
      },
      "execution_count": null,
      "outputs": [
        {
          "output_type": "stream",
          "name": "stdout",
          "text": [
            "H\n"
          ]
        }
      ]
    },
    {
      "cell_type": "code",
      "source": [
        "city = \"RAJASTHAN\"\n",
        "print(city[0:4:2])"
      ],
      "metadata": {
        "colab": {
          "base_uri": "https://localhost:8080/"
        },
        "id": "RdIHZ-m7WxJu",
        "outputId": "86233218-4ca3-4d99-9aaf-7ec7518f63e1"
      },
      "execution_count": null,
      "outputs": [
        {
          "output_type": "stream",
          "name": "stdout",
          "text": [
            "RJ\n"
          ]
        }
      ]
    },
    {
      "cell_type": "code",
      "source": [
        "city = \"RAJASTHAN\"\n",
        "print(city[2:7:3])"
      ],
      "metadata": {
        "colab": {
          "base_uri": "https://localhost:8080/"
        },
        "id": "CWFAw_63XSqE",
        "outputId": "4c84e0c5-641d-4456-b0e2-f5a111d5d75f"
      },
      "execution_count": null,
      "outputs": [
        {
          "output_type": "stream",
          "name": "stdout",
          "text": [
            "JT\n"
          ]
        }
      ]
    },
    {
      "cell_type": "code",
      "source": [
        "city = \"RAJASTHAN\"\n",
        "print(city[0:4:-1])  # empty String"
      ],
      "metadata": {
        "colab": {
          "base_uri": "https://localhost:8080/"
        },
        "id": "ZV68NoY5X1IG",
        "outputId": "3eff50bc-a3ed-4760-d144-b891caab7772"
      },
      "execution_count": null,
      "outputs": [
        {
          "output_type": "stream",
          "name": "stdout",
          "text": [
            "\n"
          ]
        }
      ]
    },
    {
      "cell_type": "code",
      "source": [
        "city = \"RAJASTHAN\"\n",
        "print(city[-1:-3]) # Empty bcs it will add +1\n",
        "# -1 +1 = 0 So Empty"
      ],
      "metadata": {
        "colab": {
          "base_uri": "https://localhost:8080/"
        },
        "id": "qG4QkqebYAMt",
        "outputId": "a16d247a-2bf2-48fb-bb5a-881ca19c0844"
      },
      "execution_count": null,
      "outputs": [
        {
          "output_type": "stream",
          "name": "stdout",
          "text": [
            "\n"
          ]
        }
      ]
    },
    {
      "cell_type": "code",
      "source": [
        "city = \"RAJASTHAN\"\n",
        "print(city[-1:-3:-1])"
      ],
      "metadata": {
        "colab": {
          "base_uri": "https://localhost:8080/"
        },
        "id": "fYWwiPgRYiKN",
        "outputId": "b48bbafe-5009-462b-f391-de4879f79ad7"
      },
      "execution_count": null,
      "outputs": [
        {
          "output_type": "stream",
          "name": "stdout",
          "text": [
            "NA\n"
          ]
        }
      ]
    },
    {
      "cell_type": "code",
      "source": [
        "city = \"RAJASTHAN\"\n",
        "print(city[:])\n",
        "\n",
        "city = \"RAJASTHAN\"\n",
        "print(city[::-1])"
      ],
      "metadata": {
        "colab": {
          "base_uri": "https://localhost:8080/"
        },
        "id": "sVdxXm8JYlOu",
        "outputId": "dd5e18b5-ff03-4bfe-9394-65bf8602cd06"
      },
      "execution_count": null,
      "outputs": [
        {
          "output_type": "stream",
          "name": "stdout",
          "text": [
            "RAJASTHAN\n",
            "NAHTSAJAR\n"
          ]
        }
      ]
    },
    {
      "cell_type": "code",
      "source": [
        "# IN normal Division answer come in Float\n",
        "\n",
        "10/2"
      ],
      "metadata": {
        "colab": {
          "base_uri": "https://localhost:8080/"
        },
        "id": "jmFYCZYlY4LJ",
        "outputId": "e2be05ea-26ee-4e0e-df78-c0e2069de2f8"
      },
      "execution_count": null,
      "outputs": [
        {
          "output_type": "execute_result",
          "data": {
            "text/plain": [
              "5.0"
            ]
          },
          "metadata": {},
          "execution_count": 20
        }
      ]
    },
    {
      "cell_type": "code",
      "source": [
        "#  In Floor Division answer come in integer\n",
        "\n",
        "10//2"
      ],
      "metadata": {
        "colab": {
          "base_uri": "https://localhost:8080/"
        },
        "id": "Uo1uLIX0Z4yG",
        "outputId": "0dfe62ef-4ca1-487b-bd8b-9a7fac69ea28"
      },
      "execution_count": null,
      "outputs": [
        {
          "output_type": "execute_result",
          "data": {
            "text/plain": [
              "5"
            ]
          },
          "metadata": {},
          "execution_count": 22
        }
      ]
    },
    {
      "cell_type": "code",
      "source": [
        "11//2+5-1"
      ],
      "metadata": {
        "colab": {
          "base_uri": "https://localhost:8080/"
        },
        "id": "coGQzLlOZ-TR",
        "outputId": "e0b2948f-8853-432c-9576-b960cb323829"
      },
      "execution_count": null,
      "outputs": [
        {
          "output_type": "execute_result",
          "data": {
            "text/plain": [
              "9"
            ]
          },
          "metadata": {},
          "execution_count": 23
        }
      ]
    },
    {
      "cell_type": "code",
      "source": [
        "# Membership operator\n",
        "\"y\" in \"yash\""
      ],
      "metadata": {
        "colab": {
          "base_uri": "https://localhost:8080/"
        },
        "id": "b8p9eQslaR26",
        "outputId": "5299dcb8-611c-4369-80d8-33ad3fc5f599"
      },
      "execution_count": null,
      "outputs": [
        {
          "output_type": "execute_result",
          "data": {
            "text/plain": [
              "False"
            ]
          },
          "metadata": {},
          "execution_count": 27
        }
      ]
    },
    {
      "cell_type": "code",
      "source": [
        "\"z\" in \"yash\""
      ],
      "metadata": {
        "colab": {
          "base_uri": "https://localhost:8080/"
        },
        "id": "6lalz5adbtTI",
        "outputId": "00e2b320-b308-41c1-b461-bbc4bea55b92"
      },
      "execution_count": null,
      "outputs": [
        {
          "output_type": "execute_result",
          "data": {
            "text/plain": [
              "False"
            ]
          },
          "metadata": {},
          "execution_count": 25
        }
      ]
    },
    {
      "cell_type": "code",
      "source": [
        "\"A\" in \"yash\""
      ],
      "metadata": {
        "colab": {
          "base_uri": "https://localhost:8080/"
        },
        "id": "IOIxIwadbu9R",
        "outputId": "036d9da3-f7d9-42eb-8720-ef116b643054"
      },
      "execution_count": null,
      "outputs": [
        {
          "output_type": "execute_result",
          "data": {
            "text/plain": [
              "False"
            ]
          },
          "metadata": {},
          "execution_count": 26
        }
      ]
    },
    {
      "cell_type": "code",
      "source": [
        "\"a\" not in \"yash\" # not convert True value to false"
      ],
      "metadata": {
        "colab": {
          "base_uri": "https://localhost:8080/"
        },
        "id": "QfUqruTpbwgu",
        "outputId": "db917d5b-ab64-4bc7-a8ec-335649d6f8b3"
      },
      "execution_count": null,
      "outputs": [
        {
          "output_type": "execute_result",
          "data": {
            "text/plain": [
              "False"
            ]
          },
          "metadata": {},
          "execution_count": 31
        }
      ]
    },
    {
      "cell_type": "code",
      "source": [
        "# Through List\n",
        "9 in [1,2,5,8,9,4]"
      ],
      "metadata": {
        "colab": {
          "base_uri": "https://localhost:8080/"
        },
        "id": "mABp_1sBb1jb",
        "outputId": "e37dd1c5-ef23-4377-fe12-7feae9934f14"
      },
      "execution_count": null,
      "outputs": [
        {
          "output_type": "execute_result",
          "data": {
            "text/plain": [
              "True"
            ]
          },
          "metadata": {},
          "execution_count": 33
        }
      ]
    },
    {
      "cell_type": "code",
      "source": [
        "# Identity Operator\n",
        "# to check whether a variable is a instance of Class or not\n",
        "#  to check the memory address\n",
        "\n",
        "x=10\n",
        "type(x) is int   # int is a datatype which basically is in a class"
      ],
      "metadata": {
        "colab": {
          "base_uri": "https://localhost:8080/"
        },
        "id": "N81A43oocGHv",
        "outputId": "e1b80f71-6f34-44aa-d05f-f5713e73598a"
      },
      "execution_count": null,
      "outputs": [
        {
          "output_type": "execute_result",
          "data": {
            "text/plain": [
              "True"
            ]
          },
          "metadata": {},
          "execution_count": 34
        }
      ]
    },
    {
      "cell_type": "code",
      "source": [
        "# bitwise operator\n",
        "# 0,1\n",
        "# 8421  => 0-15\n",
        "# 128 64 32 16    8421  => 0-255\n",
        "\n",
        "# Eg          8421\n",
        "#    8        1000\n",
        "#    14       1110\n",
        "# ----------------------\n",
        "#  8 & 14     1000\n",
        "#             8421\n",
        "\n",
        "print(8 & 14)\n",
        "\n",
        "# Eg-2        8421\n",
        "# 11          1011\n",
        "# 14          1110\n",
        "# ----------------------\n",
        "# 11& 14      1010\n",
        "#             8421   8+2=10\n",
        "\n",
        "print(11 & 14)\n",
        "\n",
        "# Eg-3        8421\n",
        "# 11          1011\n",
        "# 14          1110\n",
        "# ----------------------\n",
        "# 11& 14      1111\n",
        "#             8421   8+4+2+1=14\n",
        "\n",
        "print(11 | 14)"
      ],
      "metadata": {
        "colab": {
          "base_uri": "https://localhost:8080/"
        },
        "id": "S3Ujcq_TcpOD",
        "outputId": "5ca6ba21-e36f-49ad-b6cc-cbe5a6e87d79"
      },
      "execution_count": null,
      "outputs": [
        {
          "output_type": "stream",
          "name": "stdout",
          "text": [
            "8\n",
            "10\n",
            "15\n"
          ]
        }
      ]
    },
    {
      "cell_type": "code",
      "source": [
        "# number // 2**bit  (right shift in bitwise)\n",
        "# 54 >> 3\n",
        "# 54 // 2**3\n",
        "# 54 // 8 =6\n",
        "\n",
        "print(54>>3)\n",
        "\n",
        "# Left shift .. number * 2**bit\n",
        "\n",
        "print(54 << 3)"
      ],
      "metadata": {
        "colab": {
          "base_uri": "https://localhost:8080/"
        },
        "id": "AR4RaCHjfX1M",
        "outputId": "9ae52236-c590-4bcb-9ca1-4483dac7d4ce"
      },
      "execution_count": null,
      "outputs": [
        {
          "output_type": "stream",
          "name": "stdout",
          "text": [
            "6\n",
            "432\n"
          ]
        }
      ]
    },
    {
      "cell_type": "code",
      "source": [
        "# There are 7 Operator in Python\n",
        "# Arithmetic\n",
        "# comparison\n",
        "# logical\n",
        "# assignment\n",
        "# bitwise\n",
        "# membership\n",
        "# Identity"
      ],
      "metadata": {
        "id": "R-_Sd8_5i0Lb"
      },
      "execution_count": null,
      "outputs": []
    },
    {
      "cell_type": "code",
      "source": [
        "# For Loop\n",
        "\n",
        "for i in range(0,10,2):\n",
        "  print(i)"
      ],
      "metadata": {
        "colab": {
          "base_uri": "https://localhost:8080/"
        },
        "id": "VwX-ZvbBjpir",
        "outputId": "2ab6d24e-175d-4a8d-839f-3a2f2d0982a4"
      },
      "execution_count": null,
      "outputs": [
        {
          "output_type": "stream",
          "name": "stdout",
          "text": [
            "0\n",
            "2\n",
            "4\n",
            "6\n",
            "8\n"
          ]
        }
      ]
    },
    {
      "cell_type": "code",
      "source": [
        "for i in range(15,9,-1):\n",
        "  print(i)"
      ],
      "metadata": {
        "colab": {
          "base_uri": "https://localhost:8080/"
        },
        "id": "C__cY2mYlaMS",
        "outputId": "6b219360-0cc7-442b-ba80-dea822ebd0aa"
      },
      "execution_count": null,
      "outputs": [
        {
          "output_type": "stream",
          "name": "stdout",
          "text": [
            "15\n",
            "14\n",
            "13\n",
            "12\n",
            "11\n",
            "10\n"
          ]
        }
      ]
    },
    {
      "cell_type": "code",
      "source": [
        "sum=0\n",
        "for i in range(1,11):\n",
        "  sum +=i\n",
        "print(sum)"
      ],
      "metadata": {
        "colab": {
          "base_uri": "https://localhost:8080/"
        },
        "id": "ZG6lO7hVlj3w",
        "outputId": "e1fb9335-2f26-4624-9c9f-075a587373aa"
      },
      "execution_count": null,
      "outputs": [
        {
          "output_type": "stream",
          "name": "stdout",
          "text": [
            "55\n"
          ]
        }
      ]
    },
    {
      "cell_type": "code",
      "source": [
        "count = 0\n",
        "for i in range(69,3,-1):\n",
        "  count +=1\n",
        "\n",
        "print(count)"
      ],
      "metadata": {
        "colab": {
          "base_uri": "https://localhost:8080/"
        },
        "id": "TKGvBwcol9DG",
        "outputId": "e3ae657f-6b42-4ea1-d4ce-6f274602507c"
      },
      "execution_count": null,
      "outputs": [
        {
          "output_type": "stream",
          "name": "stdout",
          "text": [
            "66\n"
          ]
        }
      ]
    },
    {
      "cell_type": "code",
      "source": [
        "for i in range(1,13):\n",
        "  if(i%3==0):\n",
        "    print(i)"
      ],
      "metadata": {
        "colab": {
          "base_uri": "https://localhost:8080/"
        },
        "id": "XdYeoHsaniBh",
        "outputId": "2056edd7-a369-46d5-b413-db7a1b349905"
      },
      "execution_count": null,
      "outputs": [
        {
          "output_type": "stream",
          "name": "stdout",
          "text": [
            "3\n",
            "6\n",
            "9\n",
            "12\n"
          ]
        }
      ]
    },
    {
      "cell_type": "code",
      "source": [
        "even=0\n",
        "odd=0\n",
        "for i in range(55,21,-1):\n",
        "  if(i%2==0):\n",
        "    even +=i\n",
        "  else:\n",
        "    odd +=i\n",
        "print(\"Even no: \",even)\n",
        "print(\"Odd no: \",odd)"
      ],
      "metadata": {
        "colab": {
          "base_uri": "https://localhost:8080/"
        },
        "id": "WfLLuzw4oOjH",
        "outputId": "f9345410-48e0-4e76-f60a-ff1c3e45eb9b"
      },
      "execution_count": null,
      "outputs": [
        {
          "output_type": "stream",
          "name": "stdout",
          "text": [
            "Even no:  646\n",
            "Odd no:  663\n"
          ]
        }
      ]
    },
    {
      "cell_type": "code",
      "source": [
        "# What is the diff btn Call by value & Call by reference\n",
        "# what is ASCII value and UTF value\n",
        "# Diff Datatype in Python\n",
        "# Diff btn is operator & == operator"
      ],
      "metadata": {
        "id": "_A7-T4nfo0-q"
      },
      "execution_count": null,
      "outputs": []
    },
    {
      "cell_type": "code",
      "source": [
        "data = \"regex\"\n",
        "\n",
        "for i in data:\n",
        "  print(i)"
      ],
      "metadata": {
        "colab": {
          "base_uri": "https://localhost:8080/"
        },
        "id": "hn1k0KUededQ",
        "outputId": "7f27280d-6f86-484c-be79-c9ed4976a7d2"
      },
      "execution_count": null,
      "outputs": [
        {
          "output_type": "stream",
          "name": "stdout",
          "text": [
            "r\n",
            "e\n",
            "g\n",
            "e\n",
            "x\n"
          ]
        }
      ]
    },
    {
      "cell_type": "code",
      "source": [
        "data = \"regexsoftware\"\n",
        "\n",
        "for i in range(0,len(data)):   # len is used to find the length of String\n",
        "  print(i,data[i])"
      ],
      "metadata": {
        "colab": {
          "base_uri": "https://localhost:8080/"
        },
        "id": "e45qiJLydza3",
        "outputId": "a970cd5a-397a-41df-8b3d-b2dc2fd0ad6f"
      },
      "execution_count": null,
      "outputs": [
        {
          "output_type": "stream",
          "name": "stdout",
          "text": [
            "0 r\n",
            "1 e\n",
            "2 g\n",
            "3 e\n",
            "4 x\n",
            "5 s\n",
            "6 o\n",
            "7 f\n",
            "8 t\n",
            "9 w\n",
            "10 a\n",
            "11 r\n",
            "12 e\n"
          ]
        }
      ]
    },
    {
      "cell_type": "code",
      "source": [
        "str = \"jcedodsnduyefwbcnxacnebvw\"\n",
        "\n",
        "for i in range(0,len(str)):\n",
        "  if(str[i] in [\"a\", \"e\", \"i\", \"o\", \"u\"]):\n",
        "    print(i,str[i])\n"
      ],
      "metadata": {
        "colab": {
          "base_uri": "https://localhost:8080/"
        },
        "id": "BOrbegXreHti",
        "outputId": "a24a26ef-f83b-43ef-ff8d-17103325603a"
      },
      "execution_count": null,
      "outputs": [
        {
          "output_type": "stream",
          "name": "stdout",
          "text": [
            "2 e\n",
            "4 o\n",
            "9 u\n",
            "11 e\n",
            "18 a\n",
            "21 e\n"
          ]
        }
      ]
    },
    {
      "cell_type": "code",
      "source": [
        "# other way of using membership operator\n",
        "\n",
        "str = \"jcedodsnduyefwbcnxacnebvw\"\n",
        "\n",
        "for i in range(0,len(str)):\n",
        "  if(str[i] in \"aeiou\"):\n",
        "    print(i,str[i])\n"
      ],
      "metadata": {
        "colab": {
          "base_uri": "https://localhost:8080/"
        },
        "id": "xs4DZONHeku4",
        "outputId": "7e85fd17-02c3-4ea5-9ea3-640aec07a8ee"
      },
      "execution_count": null,
      "outputs": [
        {
          "output_type": "stream",
          "name": "stdout",
          "text": [
            "2 e\n",
            "4 o\n",
            "9 u\n",
            "11 e\n",
            "18 a\n",
            "21 e\n"
          ]
        }
      ]
    },
    {
      "cell_type": "code",
      "source": [
        "# Print all the consonant\n",
        "\n",
        "str = \"jcedodsnduyefwbcnxacnebvw\"\n",
        "count=0\n",
        "\n",
        "for i in str:\n",
        "  if(i not in \"aeiou\"):\n",
        "    count+=1;\n",
        "print(count)"
      ],
      "metadata": {
        "colab": {
          "base_uri": "https://localhost:8080/"
        },
        "id": "QEVrdFMYgP87",
        "outputId": "4f4f7d2e-b4ef-4258-e9a5-c1f6ff88c50b"
      },
      "execution_count": null,
      "outputs": [
        {
          "output_type": "stream",
          "name": "stdout",
          "text": [
            "19\n"
          ]
        }
      ]
    },
    {
      "cell_type": "code",
      "source": [
        "# print half string\n",
        "\n",
        "str = \"rajasthan\"\n",
        "\n",
        "for i in range(0,len(str)//2):\n",
        "  print(str[i])"
      ],
      "metadata": {
        "colab": {
          "base_uri": "https://localhost:8080/"
        },
        "id": "MwMNCtBohx8F",
        "outputId": "1276d8e4-a884-40bd-bd73-258e46ba22d7"
      },
      "execution_count": null,
      "outputs": [
        {
          "output_type": "stream",
          "name": "stdout",
          "text": [
            "r\n",
            "a\n",
            "j\n",
            "a\n"
          ]
        }
      ]
    },
    {
      "cell_type": "code",
      "source": [
        "for i in range (1,5):\n",
        "  if(i==2):\n",
        "    continue\n",
        "    print(\"######\")\n",
        "  else:\n",
        "    print (i)\n",
        "print(\"Outside loop\")"
      ],
      "metadata": {
        "colab": {
          "base_uri": "https://localhost:8080/"
        },
        "id": "F_ajG6oIjm_8",
        "outputId": "8d694ea7-6793-454a-c277-bd789014ba3b"
      },
      "execution_count": null,
      "outputs": [
        {
          "output_type": "stream",
          "name": "stdout",
          "text": [
            "1\n",
            "3\n",
            "4\n",
            "Outside loop\n"
          ]
        }
      ]
    },
    {
      "cell_type": "code",
      "source": [
        "for i in range(1,21):\n",
        "  if(i%3==0):\n",
        "    continue\n",
        "  else:\n",
        "    print(i)"
      ],
      "metadata": {
        "colab": {
          "base_uri": "https://localhost:8080/"
        },
        "id": "E2By-BnPlkt_",
        "outputId": "a3b96cd2-15c3-438f-dec8-a1180e8d2931"
      },
      "execution_count": null,
      "outputs": [
        {
          "output_type": "stream",
          "name": "stdout",
          "text": [
            "1\n",
            "2\n",
            "4\n",
            "5\n",
            "7\n",
            "8\n",
            "10\n",
            "11\n",
            "13\n",
            "14\n",
            "16\n",
            "17\n",
            "19\n",
            "20\n"
          ]
        }
      ]
    },
    {
      "cell_type": "code",
      "source": [
        "num = int(input(\"Enter number: \"))\n",
        "var = 0\n",
        "\n",
        "for i in range(2,num):\n",
        "  if(num%i == 0):\n",
        "    print(\"Not Prime\")\n",
        "    var = 1\n",
        "    break\n",
        "\n",
        "if(var==0):\n",
        "  print(\"Prime No\")"
      ],
      "metadata": {
        "colab": {
          "base_uri": "https://localhost:8080/"
        },
        "id": "9m_VxibNlv_N",
        "outputId": "e632b74d-9359-4d93-df6a-28926155c232"
      },
      "execution_count": null,
      "outputs": [
        {
          "output_type": "stream",
          "name": "stdout",
          "text": [
            "Enter number: 8\n",
            "Not Prime\n"
          ]
        }
      ]
    },
    {
      "cell_type": "code",
      "source": [
        "# While Loop\n",
        "# It is used to perform repeation tasks\n",
        "# we use if we dont know how many time it will run\n",
        "# Its iteration is not fixed\n",
        "\n",
        "i = 1\n",
        "while(i<5):\n",
        "  print(i)\n",
        "  i+=1"
      ],
      "metadata": {
        "colab": {
          "base_uri": "https://localhost:8080/"
        },
        "id": "S_QkrK0enT6Q",
        "outputId": "2a6b1732-9cdc-4bd0-9e19-e0e68729e08c"
      },
      "execution_count": null,
      "outputs": [
        {
          "output_type": "stream",
          "name": "stdout",
          "text": [
            "1\n",
            "2\n",
            "3\n",
            "4\n"
          ]
        }
      ]
    },
    {
      "cell_type": "code",
      "source": [
        "i = 1\n",
        "count = 1\n",
        "\n",
        "while(count<=5):\n",
        "  if(i%3==0):\n",
        "    print(i)\n",
        "    count +=1\n",
        "  i +=1"
      ],
      "metadata": {
        "colab": {
          "base_uri": "https://localhost:8080/"
        },
        "id": "p-u9yO7js6Mg",
        "outputId": "72c74be9-de84-4492-e789-9ce65b7e0567"
      },
      "execution_count": null,
      "outputs": [
        {
          "output_type": "stream",
          "name": "stdout",
          "text": [
            "3\n",
            "6\n",
            "9\n",
            "12\n",
            "15\n"
          ]
        }
      ]
    },
    {
      "cell_type": "code",
      "source": [
        "# Wap to take random no 1-10\n",
        "\n",
        "i = int(input(\"Enter any number from 1-10: \"))\n",
        "sum=0\n",
        "\n",
        "while(sum<100):\n",
        "  temp = sum\n",
        "  sum +=i\n",
        "  print(\"No used\", i)\n",
        "  i+=1\n",
        "\n",
        "if(sum>100):\n",
        "  print(\"Total sum: \", temp)\n",
        "else:\n",
        "  print(\"Total sum: \", sum)"
      ],
      "metadata": {
        "colab": {
          "base_uri": "https://localhost:8080/"
        },
        "id": "r9wgZctjtcOy",
        "outputId": "2239a860-4c8e-4c31-ddb4-082dab7e4d8d"
      },
      "execution_count": null,
      "outputs": [
        {
          "output_type": "stream",
          "name": "stdout",
          "text": [
            "Enter any number from 1-10: 5\n",
            "No used 5\n",
            "No used 6\n",
            "No used 7\n",
            "No used 8\n",
            "No used 9\n",
            "No used 10\n",
            "No used 11\n",
            "No used 12\n",
            "No used 13\n",
            "No used 14\n",
            "No used 15\n",
            "Total sum:  95\n"
          ]
        }
      ]
    },
    {
      "cell_type": "code",
      "source": [
        "a=3\n",
        "b=7\n",
        "num=1\n",
        "\n",
        "while(True):\n",
        "  if(num%a==0 and num%b==0):\n",
        "    print(num)\n",
        "    break\n",
        "  num +=1\n"
      ],
      "metadata": {
        "colab": {
          "base_uri": "https://localhost:8080/"
        },
        "id": "uvWBb-GxljkI",
        "outputId": "25125e11-53f4-450c-d036-d0865aef4567"
      },
      "execution_count": null,
      "outputs": [
        {
          "output_type": "stream",
          "name": "stdout",
          "text": [
            "21\n"
          ]
        }
      ]
    },
    {
      "cell_type": "code",
      "source": [
        "a = int(input(\"Enter any number: \"))\n",
        "b = int(input(\"Enter any number: \"))\n",
        "\n",
        "if(a>b):\n",
        "  greater = a\n",
        "else:\n",
        "  greater=b\n",
        "\n",
        "while(True):\n",
        "  if(greater%a==0 and greater%b==0):\n",
        "    LCM = greater\n",
        "    break\n",
        "  greater += 1\n",
        "\n",
        "print(LCM)"
      ],
      "metadata": {
        "colab": {
          "base_uri": "https://localhost:8080/"
        },
        "id": "XRAKnEOZn837",
        "outputId": "5e61f9c5-c1df-4375-d892-2eb0f15b1a5b"
      },
      "execution_count": null,
      "outputs": [
        {
          "output_type": "stream",
          "name": "stdout",
          "text": [
            "Enter any number: 2\n",
            "Enter any number: 4\n",
            "4\n"
          ]
        }
      ]
    },
    {
      "cell_type": "code",
      "source": [
        "# Wap to find the palindrome of String\n",
        "\n",
        "data = input(\"Enter Any string: \")\n",
        "start = 0\n",
        "end = len(data)-1\n",
        "x=0                   # Flag variable / indicator variable\n",
        "\n",
        "while(start<end):\n",
        "  if(data[start] != data[end]):\n",
        "    x+=1\n",
        "    break\n",
        "\n",
        "  start += 1\n",
        "  end -= 1\n",
        "\n",
        "if(x==0):\n",
        "  print(\"Palindrome\")\n",
        "else:\n",
        "  print(\"Not Palindrome\")"
      ],
      "metadata": {
        "id": "b81igOAprHxf",
        "colab": {
          "base_uri": "https://localhost:8080/"
        },
        "outputId": "82ce522d-e920-434e-bc18-f693d5034431"
      },
      "execution_count": null,
      "outputs": [
        {
          "output_type": "stream",
          "name": "stdout",
          "text": [
            "Enter Any string: NAMAN\n",
            "Palindrome\n"
          ]
        }
      ]
    },
    {
      "cell_type": "code",
      "source": [
        "# Nested Loop\n",
        "for x in range(1,5):\n",
        "  print(x)\n",
        "  for y in range(1,x+1):\n",
        "    print(\"Food coupon\", y)"
      ],
      "metadata": {
        "colab": {
          "base_uri": "https://localhost:8080/"
        },
        "id": "MFW6uha7zNZ9",
        "outputId": "9c95d905-8e0e-4ec6-c236-ab48261f23d3"
      },
      "execution_count": null,
      "outputs": [
        {
          "output_type": "stream",
          "name": "stdout",
          "text": [
            "1\n",
            "Food coupon 1\n",
            "2\n",
            "Food coupon 1\n",
            "Food coupon 2\n",
            "3\n",
            "Food coupon 1\n",
            "Food coupon 2\n",
            "Food coupon 3\n",
            "4\n",
            "Food coupon 1\n",
            "Food coupon 2\n",
            "Food coupon 3\n",
            "Food coupon 4\n"
          ]
        }
      ]
    },
    {
      "cell_type": "code",
      "source": [
        "for x in range(1,5):\n",
        "  print(x)\n",
        "  for y in range(x,5):\n",
        "    print(\"Food coupon\", y)"
      ],
      "metadata": {
        "colab": {
          "base_uri": "https://localhost:8080/"
        },
        "id": "P2IXP-jO30Qa",
        "outputId": "56b8acfc-7d9c-4270-8ccd-43abcc27e730"
      },
      "execution_count": null,
      "outputs": [
        {
          "output_type": "stream",
          "name": "stdout",
          "text": [
            "1\n",
            "Food coupon 1\n",
            "Food coupon 2\n",
            "Food coupon 3\n",
            "Food coupon 4\n",
            "2\n",
            "Food coupon 2\n",
            "Food coupon 3\n",
            "Food coupon 4\n",
            "3\n",
            "Food coupon 3\n",
            "Food coupon 4\n",
            "4\n",
            "Food coupon 4\n"
          ]
        }
      ]
    },
    {
      "cell_type": "code",
      "source": [
        "\n",
        "for i in range(2,8):\n",
        "  for y in range(1,11):\n",
        "    print(i*y)\n",
        "  print(\"Next Table\")\n"
      ],
      "metadata": {
        "colab": {
          "base_uri": "https://localhost:8080/"
        },
        "id": "7ISC_Xw_5F6g",
        "outputId": "582c6d9e-dd6f-4da1-870c-cbcd626b1892"
      },
      "execution_count": null,
      "outputs": [
        {
          "output_type": "stream",
          "name": "stdout",
          "text": [
            "2\n",
            "4\n",
            "6\n",
            "8\n",
            "10\n",
            "12\n",
            "14\n",
            "16\n",
            "18\n",
            "20\n",
            "Next Table\n",
            "3\n",
            "6\n",
            "9\n",
            "12\n",
            "15\n",
            "18\n",
            "21\n",
            "24\n",
            "27\n",
            "30\n",
            "Next Table\n",
            "4\n",
            "8\n",
            "12\n",
            "16\n",
            "20\n",
            "24\n",
            "28\n",
            "32\n",
            "36\n",
            "40\n",
            "Next Table\n",
            "5\n",
            "10\n",
            "15\n",
            "20\n",
            "25\n",
            "30\n",
            "35\n",
            "40\n",
            "45\n",
            "50\n",
            "Next Table\n",
            "6\n",
            "12\n",
            "18\n",
            "24\n",
            "30\n",
            "36\n",
            "42\n",
            "48\n",
            "54\n",
            "60\n",
            "Next Table\n",
            "7\n",
            "14\n",
            "21\n",
            "28\n",
            "35\n",
            "42\n",
            "49\n",
            "56\n",
            "63\n",
            "70\n",
            "Next Table\n"
          ]
        }
      ]
    },
    {
      "cell_type": "code",
      "source": [],
      "metadata": {
        "colab": {
          "base_uri": "https://localhost:8080/"
        },
        "id": "B8YqSIMG6GXm",
        "outputId": "93f44d5d-a740-4d97-cdaf-b1d836244d77"
      },
      "execution_count": null,
      "outputs": [
        {
          "output_type": "stream",
          "name": "stderr",
          "text": [
            "<>:5: SyntaxWarning: \"is\" with a literal. Did you mean \"==\"?\n",
            "<>:5: SyntaxWarning: \"is\" with a literal. Did you mean \"==\"?\n",
            "<ipython-input-34-627452bbe102>:5: SyntaxWarning: \"is\" with a literal. Did you mean \"==\"?\n",
            "  y is \"300\"\n"
          ]
        },
        {
          "output_type": "execute_result",
          "data": {
            "text/plain": [
              "False"
            ]
          },
          "metadata": {},
          "execution_count": 34
        }
      ]
    },
    {
      "cell_type": "code",
      "source": [
        "x=255\n",
        "y=255\n",
        "\n",
        "print(id(x), id(y))  # id shows the memory address"
      ],
      "metadata": {
        "colab": {
          "base_uri": "https://localhost:8080/"
        },
        "id": "pCE0PDgv-z0g",
        "outputId": "2b5c6ccd-9527-4a55-bcfb-e84d14bc4cbc"
      },
      "execution_count": null,
      "outputs": [
        {
          "output_type": "stream",
          "name": "stdout",
          "text": [
            "138758430744752 138758430744752\n"
          ]
        }
      ]
    },
    {
      "cell_type": "code",
      "source": [
        "# Square Pattern\n",
        "\n",
        "for i in range(1,5):\n",
        "  for j in range(1,5):\n",
        "    print(\"*\",end=\" \")\n",
        "  print(\"\")"
      ],
      "metadata": {
        "id": "rDQw-WfG_fHz",
        "colab": {
          "base_uri": "https://localhost:8080/"
        },
        "outputId": "216b2ab7-1586-4245-997c-71004b97aee5"
      },
      "execution_count": null,
      "outputs": [
        {
          "output_type": "stream",
          "name": "stdout",
          "text": [
            "1 1 1 1 \n",
            "2 2 2 2 \n",
            "3 3 3 3 \n",
            "4 4 4 4 \n"
          ]
        }
      ]
    },
    {
      "cell_type": "code",
      "source": [
        "for i in range(1,5):\n",
        "  for j in range(1,5):\n",
        "    print(i,end=\" \")\n",
        "  print(\"\")"
      ],
      "metadata": {
        "colab": {
          "base_uri": "https://localhost:8080/"
        },
        "id": "GB4qnQ1AGR0T",
        "outputId": "459f430b-2fb5-4379-b854-911301241a21"
      },
      "execution_count": null,
      "outputs": [
        {
          "output_type": "stream",
          "name": "stdout",
          "text": [
            "1 1 1 1 \n",
            "2 2 2 2 \n",
            "3 3 3 3 \n",
            "4 4 4 4 \n"
          ]
        }
      ]
    },
    {
      "cell_type": "code",
      "source": [
        "for i in range(1,5):\n",
        "  for j in range(1,5):\n",
        "    print(j,end=\" \")\n",
        "  print(\"\")"
      ],
      "metadata": {
        "colab": {
          "base_uri": "https://localhost:8080/"
        },
        "id": "_4NuFVfWIp1L",
        "outputId": "bc76c6bf-9132-4713-c02e-f479f4e8503c"
      },
      "execution_count": null,
      "outputs": [
        {
          "output_type": "stream",
          "name": "stdout",
          "text": [
            "1 2 3 4 \n",
            "1 2 3 4 \n",
            "1 2 3 4 \n",
            "1 2 3 4 \n"
          ]
        }
      ]
    },
    {
      "cell_type": "code",
      "source": [
        "for i in range(4,0,-1):\n",
        "  for j in range(1,5):\n",
        "    print(i,end=\" \")\n",
        "  print(\"\")"
      ],
      "metadata": {
        "colab": {
          "base_uri": "https://localhost:8080/"
        },
        "id": "o95A0XpIIrcf",
        "outputId": "3dfaa7f9-23fe-4b17-ee80-d8023c5d50bc"
      },
      "execution_count": null,
      "outputs": [
        {
          "output_type": "stream",
          "name": "stdout",
          "text": [
            "4 4 4 4 \n",
            "3 3 3 3 \n",
            "2 2 2 2 \n",
            "1 1 1 1 \n"
          ]
        }
      ]
    },
    {
      "cell_type": "code",
      "source": [
        "count = 1\n",
        "for i in range(0,5):\n",
        "  for j in range(0,5):\n",
        "    print(count,end=\" \")\n",
        "    count+=1\n",
        "  print(\"\")\n"
      ],
      "metadata": {
        "colab": {
          "base_uri": "https://localhost:8080/"
        },
        "id": "BZ2hkROtJJvw",
        "outputId": "da699b34-1e8c-4b27-9c10-f3b2e44f670b"
      },
      "execution_count": null,
      "outputs": [
        {
          "output_type": "stream",
          "name": "stdout",
          "text": [
            "1 2 3 4 5 \n",
            "6 7 8 9 10 \n",
            "11 12 13 14 15 \n",
            "16 17 18 19 20 \n",
            "21 22 23 24 25 \n"
          ]
        }
      ]
    },
    {
      "cell_type": "code",
      "source": [
        "for i in range(1,5):\n",
        "  count = 2\n",
        "  for j in range(1,5):\n",
        "    print(count*2,end=\" \")\n",
        "    count+=1\n",
        "  print(\"\")"
      ],
      "metadata": {
        "colab": {
          "base_uri": "https://localhost:8080/"
        },
        "id": "RXYzd2M0JV26",
        "outputId": "fefe5215-e59d-468a-9cb0-c063ed4ecc37"
      },
      "execution_count": null,
      "outputs": [
        {
          "output_type": "stream",
          "name": "stdout",
          "text": [
            "4 6 8 10 \n",
            "4 6 8 10 \n",
            "4 6 8 10 \n",
            "4 6 8 10 \n"
          ]
        }
      ]
    },
    {
      "cell_type": "code",
      "source": [
        "for i in range(1,5):\n",
        "  for j in range(0,i):\n",
        "    print(\"*\",end=\" \")\n",
        "  print(\"\")"
      ],
      "metadata": {
        "colab": {
          "base_uri": "https://localhost:8080/"
        },
        "id": "mxyXO2A1JtDR",
        "outputId": "3db67bf7-7298-4d74-800d-ec2803f8a9ad"
      },
      "execution_count": null,
      "outputs": [
        {
          "output_type": "stream",
          "name": "stdout",
          "text": [
            "* \n",
            "* * \n",
            "* * * \n",
            "* * * * \n"
          ]
        }
      ]
    },
    {
      "cell_type": "code",
      "source": [
        "for i in range(0,5):\n",
        "  for j in range(5,i,-1):\n",
        "    print(\"*\",end=\" \")\n",
        "  print(\"\")"
      ],
      "metadata": {
        "colab": {
          "base_uri": "https://localhost:8080/"
        },
        "id": "GEel4PAMNrrg",
        "outputId": "64af7926-98ec-4476-aefd-c601a4169c40"
      },
      "execution_count": null,
      "outputs": [
        {
          "output_type": "stream",
          "name": "stdout",
          "text": [
            "* * * * * \n",
            "* * * * \n",
            "* * * \n",
            "* * \n",
            "* \n"
          ]
        }
      ]
    },
    {
      "cell_type": "code",
      "source": [
        "for i in range(1,5):\n",
        "  for j in range(1,i+1):\n",
        "    print(j,end=\" \")\n",
        "  print(\"\")"
      ],
      "metadata": {
        "colab": {
          "base_uri": "https://localhost:8080/"
        },
        "id": "k3YyHYHCOYHp",
        "outputId": "f8d04702-1cd7-435f-c78f-8f20c71face6"
      },
      "execution_count": null,
      "outputs": [
        {
          "output_type": "stream",
          "name": "stdout",
          "text": [
            "1 \n",
            "1 2 \n",
            "1 2 3 \n",
            "1 2 3 4 \n"
          ]
        }
      ]
    },
    {
      "cell_type": "code",
      "source": [
        "for i in range(4,0,-1):\n",
        "  for j in range(1,i+1):\n",
        "    print(j,end=\" \")\n",
        "  print(\"\")"
      ],
      "metadata": {
        "colab": {
          "base_uri": "https://localhost:8080/"
        },
        "id": "8BheOLaJPIKl",
        "outputId": "6fd5a963-af3a-41af-e78e-663a0169b799"
      },
      "execution_count": null,
      "outputs": [
        {
          "output_type": "stream",
          "name": "stdout",
          "text": [
            "1 2 3 4 \n",
            "1 2 3 \n",
            "1 2 \n",
            "1 \n"
          ]
        }
      ]
    },
    {
      "cell_type": "code",
      "source": [
        "for i in range(1,5):\n",
        "  for j in range(4,i-1,-1):\n",
        "    print(j,end=\" \")\n",
        "  print(\"\")"
      ],
      "metadata": {
        "colab": {
          "base_uri": "https://localhost:8080/"
        },
        "id": "1gGSfwxyPs3x",
        "outputId": "3f5005e2-94ed-4018-9aaa-61ec6ad24729"
      },
      "execution_count": null,
      "outputs": [
        {
          "output_type": "stream",
          "name": "stdout",
          "text": [
            "4 3 2 1 \n",
            "4 3 2 \n",
            "4 3 \n",
            "4 \n"
          ]
        }
      ]
    },
    {
      "cell_type": "code",
      "source": [
        "for i in range(4,0,-1):\n",
        "  for j in range(4,i-1,-1):\n",
        "    print(j,end=\" \")\n",
        "  print(\"\")"
      ],
      "metadata": {
        "colab": {
          "base_uri": "https://localhost:8080/"
        },
        "id": "j-kXmI6SQXz8",
        "outputId": "8b02a653-ae45-4476-f7f2-18cb26982dce"
      },
      "execution_count": null,
      "outputs": [
        {
          "output_type": "stream",
          "name": "stdout",
          "text": [
            "4 \n",
            "4 3 \n",
            "4 3 2 \n",
            "4 3 2 1 \n"
          ]
        }
      ]
    },
    {
      "cell_type": "code",
      "source": [
        "count=10\n",
        "for i in range(1,5):\n",
        "  for j in range(0,i):\n",
        "    print(count,end=\" \")\n",
        "    count +=2\n",
        "  print(\"\")"
      ],
      "metadata": {
        "colab": {
          "base_uri": "https://localhost:8080/"
        },
        "id": "50snRwI3Qxfz",
        "outputId": "420bb67f-e89f-4d2f-de84-1a1b93c61c3c"
      },
      "execution_count": null,
      "outputs": [
        {
          "output_type": "stream",
          "name": "stdout",
          "text": [
            "10 \n",
            "12 14 \n",
            "16 18 20 \n",
            "22 24 26 28 \n"
          ]
        }
      ]
    },
    {
      "cell_type": "code",
      "source": [
        "for i in range(1,5):\n",
        "  c = 65\n",
        "  for j in range(4,i-1,-1):\n",
        "    # print(chr(c),end=\" \")\n",
        "    c+=1\n",
        "  print(\"\")"
      ],
      "metadata": {
        "id": "DKemh-_dRWr2",
        "colab": {
          "base_uri": "https://localhost:8080/"
        },
        "outputId": "b2133e4c-867a-4b82-809b-e549b6a4e345"
      },
      "execution_count": null,
      "outputs": [
        {
          "output_type": "stream",
          "name": "stdout",
          "text": [
            "\n",
            "\n",
            "\n",
            "\n"
          ]
        }
      ]
    },
    {
      "cell_type": "code",
      "source": [
        "for i in range(1,5):\n",
        "  for s in range(4,i,-1):\n",
        "    print(\" \", end=\" \")\n",
        "  for j in range(0,i):\n",
        "    print(\"*\",end=\" \")\n",
        "  print(\"\")"
      ],
      "metadata": {
        "colab": {
          "base_uri": "https://localhost:8080/"
        },
        "id": "k15Ws9AOUf2I",
        "outputId": "b3541f03-27c4-4313-c2b4-e84dcf373f1a"
      },
      "execution_count": null,
      "outputs": [
        {
          "output_type": "stream",
          "name": "stdout",
          "text": [
            "      * \n",
            "    * * \n",
            "  * * * \n",
            "* * * * \n"
          ]
        }
      ]
    },
    {
      "cell_type": "code",
      "source": [
        "for i in range(1,5):\n",
        "  for s in range(i,4):\n",
        "    print(\" \", end=\"\")\n",
        "  for j in range(0,i):\n",
        "    print(\"*\",end=\" \")\n",
        "  print(\"\")"
      ],
      "metadata": {
        "colab": {
          "base_uri": "https://localhost:8080/"
        },
        "id": "Vc36AQBBU16o",
        "outputId": "8d112727-9af9-48e0-e514-111cf7aa3300"
      },
      "execution_count": null,
      "outputs": [
        {
          "output_type": "stream",
          "name": "stdout",
          "text": [
            "   * \n",
            "  * * \n",
            " * * * \n",
            "* * * * \n"
          ]
        }
      ]
    },
    {
      "cell_type": "code",
      "source": [
        "for i in range(1,5):\n",
        "  for s in range(1,i):\n",
        "    print(\" \",end=\"\")\n",
        "  for j in range(i,5):\n",
        "    print(\"*\",end=\" \")\n",
        "  print(\"\")"
      ],
      "metadata": {
        "id": "_mBqsLZUVI6Z",
        "colab": {
          "base_uri": "https://localhost:8080/"
        },
        "outputId": "0bf590f8-8ad3-4f03-c726-b43bde5ebb8c"
      },
      "execution_count": null,
      "outputs": [
        {
          "output_type": "stream",
          "name": "stdout",
          "text": [
            "* * * * \n",
            " * * * \n",
            "  * * \n",
            "   * \n"
          ]
        }
      ]
    },
    {
      "cell_type": "code",
      "source": [
        "for i in range(1,5):\n",
        "  ch=65\n",
        "  for s in range(1,i):\n",
        "    print(\" \",end=\"\")\n",
        "  for j in range(i,5):\n",
        "    print(chr(ch),end=\" \")\n",
        "    ch+=1\n",
        "  print(\"\")"
      ],
      "metadata": {
        "colab": {
          "base_uri": "https://localhost:8080/"
        },
        "id": "WkN7MOgHZUWD",
        "outputId": "ab86e2f5-f1f0-48ff-f533-417656c3ad87"
      },
      "execution_count": null,
      "outputs": [
        {
          "output_type": "stream",
          "name": "stdout",
          "text": [
            "A B C D \n",
            " A B C \n",
            "  A B \n",
            "   A \n"
          ]
        }
      ]
    },
    {
      "cell_type": "code",
      "source": [
        "for i in range(1,5):\n",
        "  ch=65\n",
        "  for s in range(i,4):\n",
        "    print(\" \",end=\"\")\n",
        "  for j in range(1,i+1):\n",
        "    print(chr(ch),end=\" \")\n",
        "    ch+=1\n",
        "  print(\"\")"
      ],
      "metadata": {
        "colab": {
          "base_uri": "https://localhost:8080/"
        },
        "id": "izAQiJVuaAri",
        "outputId": "8271abf8-4da1-4415-8019-a5bd18acd09a"
      },
      "execution_count": null,
      "outputs": [
        {
          "output_type": "stream",
          "name": "stdout",
          "text": [
            "   A \n",
            "  A B \n",
            " A B C \n",
            "A B C D \n"
          ]
        }
      ]
    },
    {
      "cell_type": "code",
      "source": [
        "for i  in range(1,6):\n",
        "  for j in range(1,i+1):\n",
        "    if(i==5 or j==1 or j==i):\n",
        "      print(\"*\",end=\"\")\n",
        "    else:\n",
        "      print(\" \",end=\"\")\n",
        "  print(\"\")"
      ],
      "metadata": {
        "colab": {
          "base_uri": "https://localhost:8080/"
        },
        "id": "MBnPGmMaaRtu",
        "outputId": "3de692e9-25d4-4064-e077-bc64edf16c79"
      },
      "execution_count": null,
      "outputs": [
        {
          "output_type": "stream",
          "name": "stdout",
          "text": [
            "*\n",
            "**\n",
            "* *\n",
            "*  *\n",
            "*****\n"
          ]
        }
      ]
    },
    {
      "cell_type": "code",
      "source": [
        "c=1\n",
        "for i  in range(1,6):\n",
        "  for s in range(i,5):\n",
        "    print(\" \",end=\"\")\n",
        "  for j in range(1,i+1):\n",
        "    if(i==5 or j==1 or j==i):\n",
        "      if(c<=10):\n",
        "        print(c,end=\" \")\n",
        "      else:\n",
        "        print(c,end=\"\")\n",
        "    else:\n",
        "      print(\" \",end=\" \")\n",
        "    c+=1\n",
        "  print(\"\")"
      ],
      "metadata": {
        "id": "YICg9bsEcGDG",
        "colab": {
          "base_uri": "https://localhost:8080/"
        },
        "outputId": "3f7da6de-bcf2-4f65-974b-0509ede265e1"
      },
      "execution_count": 22,
      "outputs": [
        {
          "output_type": "stream",
          "name": "stdout",
          "text": [
            "    1 \n",
            "   2 3 \n",
            "  4   6 \n",
            " 7     10 \n",
            "1112131415\n"
          ]
        }
      ]
    },
    {
      "cell_type": "code",
      "source": [],
      "metadata": {
        "id": "GoNBZ4zwe8-I"
      },
      "execution_count": null,
      "outputs": []
    }
  ]
}