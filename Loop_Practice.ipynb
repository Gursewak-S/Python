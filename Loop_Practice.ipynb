{
  "nbformat": 4,
  "nbformat_minor": 0,
  "metadata": {
    "colab": {
      "provenance": [],
      "authorship_tag": "ABX9TyOpttlee5AJhD56b9IO+Ro0"
    },
    "kernelspec": {
      "name": "python3",
      "display_name": "Python 3"
    },
    "language_info": {
      "name": "python"
    }
  },
  "cells": [
    {
      "cell_type": "code",
      "execution_count": 2,
      "metadata": {
        "colab": {
          "base_uri": "https://localhost:8080/"
        },
        "id": "Axas_uCaqR_m",
        "outputId": "4e01c6f5-580c-4d5d-9f4a-7d443cafaacc"
      },
      "outputs": [
        {
          "output_type": "stream",
          "name": "stdout",
          "text": [
            "Enter Number: 6\n",
            "1\n",
            "2\n",
            "3\n",
            "4\n",
            "5\n",
            "6\n"
          ]
        }
      ],
      "source": [
        "# 1. Write a program to print all natural numbers from 1 to n. – using while loop\n",
        "\n",
        "n= int(input(\"Enter Number: \"))\n",
        "i=1\n",
        "while(i<=n):\n",
        "  print(i)\n",
        "  i += 1"
      ]
    },
    {
      "cell_type": "code",
      "source": [
        "# 2. Write a program to print all natural numbers in reverse (from n to 1). – using while loop\n",
        "\n",
        "n = int(input(\"Enter Number: \"))\n",
        "\n",
        "while(n>=1):\n",
        "  print(n)\n",
        "  n -= 1"
      ],
      "metadata": {
        "colab": {
          "base_uri": "https://localhost:8080/"
        },
        "id": "n-uA3G_XqtYM",
        "outputId": "63c5edb5-cbcd-498e-bf29-911a9d6178b0"
      },
      "execution_count": 5,
      "outputs": [
        {
          "output_type": "stream",
          "name": "stdout",
          "text": [
            "Enter Number: 10\n",
            "10\n",
            "9\n",
            "8\n",
            "7\n",
            "6\n",
            "5\n",
            "4\n",
            "3\n",
            "2\n",
            "1\n"
          ]
        }
      ]
    },
    {
      "cell_type": "code",
      "source": [
        "# 3. Write a program to print all alphabets from a to z. – using while loop\n",
        "\n",
        "i = 97\n",
        "while(i<=122):\n",
        "  print(chr(i))\n",
        "  i +=1"
      ],
      "metadata": {
        "colab": {
          "base_uri": "https://localhost:8080/"
        },
        "id": "7eYvEMW1rMEo",
        "outputId": "6b38ac73-61e5-4a58-b8d6-5f6e1e5d3547"
      },
      "execution_count": 10,
      "outputs": [
        {
          "output_type": "stream",
          "name": "stdout",
          "text": [
            "a\n",
            "b\n",
            "c\n",
            "d\n",
            "e\n",
            "f\n",
            "g\n",
            "h\n",
            "i\n",
            "j\n",
            "k\n",
            "l\n",
            "m\n",
            "n\n",
            "o\n",
            "p\n",
            "q\n",
            "r\n",
            "s\n",
            "t\n",
            "u\n",
            "v\n",
            "w\n",
            "x\n",
            "y\n",
            "z\n"
          ]
        }
      ]
    },
    {
      "cell_type": "code",
      "source": [
        "# 4. Write a program to print all even numbers between 1 to 100. – using while loop\n",
        "\n",
        "i=1\n",
        "\n",
        "while(i<=100):\n",
        "  if(i%2==0):\n",
        "    print(i)\n",
        "  i +=1"
      ],
      "metadata": {
        "colab": {
          "base_uri": "https://localhost:8080/"
        },
        "id": "lmjsJ5t3rlvo",
        "outputId": "4a44d4c9-f532-44df-a7a6-9dc1909afc25"
      },
      "execution_count": 11,
      "outputs": [
        {
          "output_type": "stream",
          "name": "stdout",
          "text": [
            "2\n",
            "4\n",
            "6\n",
            "8\n",
            "10\n",
            "12\n",
            "14\n",
            "16\n",
            "18\n",
            "20\n",
            "22\n",
            "24\n",
            "26\n",
            "28\n",
            "30\n",
            "32\n",
            "34\n",
            "36\n",
            "38\n",
            "40\n",
            "42\n",
            "44\n",
            "46\n",
            "48\n",
            "50\n",
            "52\n",
            "54\n",
            "56\n",
            "58\n",
            "60\n",
            "62\n",
            "64\n",
            "66\n",
            "68\n",
            "70\n",
            "72\n",
            "74\n",
            "76\n",
            "78\n",
            "80\n",
            "82\n",
            "84\n",
            "86\n",
            "88\n",
            "90\n",
            "92\n",
            "94\n",
            "96\n",
            "98\n",
            "100\n"
          ]
        }
      ]
    },
    {
      "cell_type": "code",
      "source": [
        "# 5. Write a program to find the sum of all odd numbers between 1 to n.\n",
        "\n",
        "n = int(input(\"Enter Number: \"))\n",
        "i=1\n",
        "sum =0\n",
        "while(i<=n):\n",
        "  if(i%2 != 0 ):\n",
        "    sum +=i\n",
        "  i +=1\n",
        "\n",
        "print(sum)"
      ],
      "metadata": {
        "colab": {
          "base_uri": "https://localhost:8080/"
        },
        "id": "drr60FIksUZN",
        "outputId": "55ecde8b-abf3-4337-907c-6fbda78c9573"
      },
      "execution_count": 13,
      "outputs": [
        {
          "output_type": "stream",
          "name": "stdout",
          "text": [
            "Enter Number: 5\n",
            "9\n"
          ]
        }
      ]
    },
    {
      "cell_type": "code",
      "source": [
        "# 6. Write a program to count the number of digits in a number.\n",
        "\n",
        "n = int(input(\"Enter Number: \"))\n",
        "count=0\n",
        "\n",
        "while(n>0):\n",
        "  count +=1\n",
        "  n = n//10\n",
        "\n",
        "print(count)"
      ],
      "metadata": {
        "colab": {
          "base_uri": "https://localhost:8080/"
        },
        "id": "pe1WzALAslwL",
        "outputId": "72ec076d-9cee-4195-9f63-648c0b250c9d"
      },
      "execution_count": 19,
      "outputs": [
        {
          "output_type": "stream",
          "name": "stdout",
          "text": [
            "Enter Number: 12345\n",
            "5\n"
          ]
        }
      ]
    },
    {
      "cell_type": "code",
      "source": [
        "# 7. Write a program to calculate the sum of digits of a number.\n",
        "\n",
        "n = int(input(\"Enter Number: \"))\n",
        "sum=0\n",
        "\n",
        "while(n>0):\n",
        "  rem = n%10\n",
        "  sum += rem\n",
        "  n = n//10\n",
        "\n",
        "print(sum)"
      ],
      "metadata": {
        "colab": {
          "base_uri": "https://localhost:8080/"
        },
        "id": "j4BPcLcMtDlf",
        "outputId": "d9706976-61b3-4eea-c7b1-02db6e3f0376"
      },
      "execution_count": 21,
      "outputs": [
        {
          "output_type": "stream",
          "name": "stdout",
          "text": [
            "Enter Number: 123\n",
            "6\n"
          ]
        }
      ]
    },
    {
      "cell_type": "code",
      "source": [
        "# 8. Write a program to find the first and last digit of a number.\n",
        "\n",
        "n = int(input(\"Enter Number: \"))\n",
        "count = 0\n",
        "temp = n\n",
        "\n",
        "while(n>0):\n",
        "  count +=1\n",
        "  n = n//10\n",
        "count -=1\n",
        "\n",
        "pow = 10**count\n",
        "\n",
        "last = temp%10\n",
        "print(\"Last Digit: \", last)\n",
        "\n",
        "first = temp//pow\n",
        "print(\"First Digit: \",first)"
      ],
      "metadata": {
        "colab": {
          "base_uri": "https://localhost:8080/"
        },
        "id": "m47jBuxCtFjW",
        "outputId": "6d10041f-cf26-49c8-b0e9-be5fd3647ea9"
      },
      "execution_count": 31,
      "outputs": [
        {
          "output_type": "stream",
          "name": "stdout",
          "text": [
            "Enter Number: 12345\n",
            "Last Digit:  5\n",
            "First Digit:  1\n"
          ]
        }
      ]
    },
    {
      "cell_type": "code",
      "source": [
        "# 9. Write a program to find the sum of first and last digit of a number.\n",
        "\n",
        "n = int(input(\"Enter Number: \"))\n",
        "count = 0\n",
        "temp = n\n",
        "\n",
        "while(n>0):\n",
        "  count +=1\n",
        "  n = n//10\n",
        "count -=1\n",
        "\n",
        "pow = 10**count\n",
        "\n",
        "last = temp%10\n",
        "first = temp//pow\n",
        "\n",
        "print(\"Sum of First & last Digit: \",first+last)"
      ],
      "metadata": {
        "colab": {
          "base_uri": "https://localhost:8080/"
        },
        "id": "ZCmKs3WitzPu",
        "outputId": "61ef328c-cdf6-48cc-cf94-4ddfbc099ae5"
      },
      "execution_count": 32,
      "outputs": [
        {
          "output_type": "stream",
          "name": "stdout",
          "text": [
            "Enter Number: 12345\n",
            "Sum of First & last Digit:  6\n"
          ]
        }
      ]
    },
    {
      "cell_type": "code",
      "source": [
        "# 10.Write a program to enter a number and print its reverse.\n",
        "\n",
        "n = int(input(\"Enter Number: \"))\n",
        "rev=0\n",
        "\n",
        "while(n>0):\n",
        "  rem = n%10\n",
        "  rev = rev*10+ rem\n",
        "  n = n//10\n",
        "\n",
        "print(rev)"
      ],
      "metadata": {
        "colab": {
          "base_uri": "https://localhost:8080/"
        },
        "id": "3RGdJpD0tv6D",
        "outputId": "03df34d0-f4a4-4959-9a51-1017cc220658"
      },
      "execution_count": 33,
      "outputs": [
        {
          "output_type": "stream",
          "name": "stdout",
          "text": [
            "Enter Number: 12345\n",
            "54321\n"
          ]
        }
      ]
    },
    {
      "cell_type": "code",
      "source": [
        "# 11.Write a program to find the power of a number using for loop.\n",
        "\n",
        "n = int(input(\"Enter Number: \"))\n",
        "power = int(input(\"Enter Power: \"))\n",
        "temp=1\n",
        "\n",
        "for i in range(0,power):\n",
        "  temp *= n\n",
        "\n",
        "print(temp)"
      ],
      "metadata": {
        "colab": {
          "base_uri": "https://localhost:8080/"
        },
        "id": "yOpM2NnewZyC",
        "outputId": "45d4c9ba-0be0-4f0e-99bb-829b91a952a4"
      },
      "execution_count": 44,
      "outputs": [
        {
          "output_type": "stream",
          "name": "stdout",
          "text": [
            "Enter Number: 2\n",
            "Enter Power: 3\n",
            "8\n"
          ]
        }
      ]
    },
    {
      "cell_type": "code",
      "source": [
        "# 12.Write a program to find all factors of a number.\n",
        "\n",
        "n = int(input(\"Enter Number: \"))\n",
        "\n",
        "for i in range(1,n):\n",
        "  if(n%i==0):\n",
        "    print(i)\n"
      ],
      "metadata": {
        "colab": {
          "base_uri": "https://localhost:8080/"
        },
        "id": "-cX7Ey6vwgPI",
        "outputId": "35d1da6f-4235-4db3-ca79-8fa942640c24"
      },
      "execution_count": 46,
      "outputs": [
        {
          "output_type": "stream",
          "name": "stdout",
          "text": [
            "Enter Number: 5\n",
            "1\n"
          ]
        }
      ]
    },
    {
      "cell_type": "code",
      "source": [
        "# 13.Write a program to calculate the factorial of a number.\n",
        "\n",
        "n = int(input(\"Enter Number: \"))\n",
        "fact=1\n",
        "for i in range(1,n+1):\n",
        "    fact *=i\n",
        "\n",
        "print(fact)\n"
      ],
      "metadata": {
        "colab": {
          "base_uri": "https://localhost:8080/"
        },
        "id": "7xlQTfwzwiBh",
        "outputId": "9a5b53cc-1c06-4f5b-d08e-fe5a84aaa02a"
      },
      "execution_count": 50,
      "outputs": [
        {
          "output_type": "stream",
          "name": "stdout",
          "text": [
            "Enter Number: 5\n",
            "120\n"
          ]
        }
      ]
    },
    {
      "cell_type": "code",
      "source": [
        "# 14.Write a program to find LCM of two numbers.\n",
        "\n",
        "n1 = int(input(\"Enter First Number: \"))\n",
        "n2 = int(input(\"Enter Second Number: \"))\n",
        "\n",
        "i=1\n",
        "while(i<=n1):\n",
        "  if(n1%i==0 and n2%i==0):\n",
        "    x=i\n",
        "  i+=1\n",
        "  LCM = n1*n2//x\n",
        "print(LCM)"
      ],
      "metadata": {
        "colab": {
          "base_uri": "https://localhost:8080/"
        },
        "id": "1Xab3Uwdwhz3",
        "outputId": "b375bb9c-f4bd-4db1-a307-4816b6128e63"
      },
      "execution_count": 60,
      "outputs": [
        {
          "output_type": "stream",
          "name": "stdout",
          "text": [
            "Enter First Number: 2\n",
            "Enter Second Number: 4\n",
            "4\n"
          ]
        }
      ]
    },
    {
      "cell_type": "code",
      "source": [
        "# 15.Write a program to check whether a number is Prime number or not.\n",
        "\n",
        "n = int(input(\"Enter Number: \"))\n",
        "var=0\n",
        "\n",
        "for i in range(2,n):\n",
        "    if(n%i==0):\n",
        "      print(\"Not Prime\")\n",
        "      var+=1\n",
        "      break\n",
        "\n",
        "if(var==0):\n",
        "  print(\"Prime No\")"
      ],
      "metadata": {
        "colab": {
          "base_uri": "https://localhost:8080/"
        },
        "id": "AWqan8oswhTH",
        "outputId": "98c52428-c998-4e92-93fb-e8c831995de1"
      },
      "execution_count": 55,
      "outputs": [
        {
          "output_type": "stream",
          "name": "stdout",
          "text": [
            "Enter Number: 18\n",
            "Not Prime\n"
          ]
        }
      ]
    }
  ]
}