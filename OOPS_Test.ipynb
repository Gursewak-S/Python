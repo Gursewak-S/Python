{
  "nbformat": 4,
  "nbformat_minor": 0,
  "metadata": {
    "colab": {
      "provenance": [],
      "authorship_tag": "ABX9TyOO2NliPt/2ugbs1XyKQRHw",
      "include_colab_link": true
    },
    "kernelspec": {
      "name": "python3",
      "display_name": "Python 3"
    },
    "language_info": {
      "name": "python"
    }
  },
  "cells": [
    {
      "cell_type": "markdown",
      "metadata": {
        "id": "view-in-github",
        "colab_type": "text"
      },
      "source": [
        "<a href=\"https://colab.research.google.com/github/Gursewak-S/Python/blob/main/OOPS_Test.ipynb\" target=\"_parent\"><img src=\"https://colab.research.google.com/assets/colab-badge.svg\" alt=\"Open In Colab\"/></a>"
      ]
    },
    {
      "cell_type": "markdown",
      "source": [
        "Q.1 Case Study 1: Healthcare System (Patient Record Management)\n",
        "Problem: Develop a system for managing patient records in a hospital where:\n",
        "Patient details (name, age, and medical history) should be private.\n",
        "Only authorized methods can retrieve or update medical history.\n",
        "Provide a method to add new medical records while keeping previous data secure.\n"
      ],
      "metadata": {
        "id": "OLq9Y_wUVW9N"
      }
    },
    {
      "cell_type": "code",
      "source": [
        "class Healthcare:\n",
        "  def __init__(self, name,age,med_history):\n",
        "    self.__name = name\n",
        "    self.__age = age\n",
        "    self.__med_history = med_history\n",
        "\n",
        "  def updatedata(self, new_history):\n",
        "    self.__med_history = new_history\n",
        "\n",
        "  def getdata(self):\n",
        "    print(self.__name)\n",
        "    print(self.__age)\n",
        "    print(self.__med_history)\n",
        "\n",
        "  def adddata(self, new):\n",
        "    self.__med_history.append(new)\n",
        "\n",
        "p1 = Healthcare(\"sam\", 28, [\"Fever\", \"Cold\"])\n",
        "p1.getdata()\n",
        "p1.updatedata([\"cancer\"])\n",
        "p1.adddata(\"virus\")\n",
        "p1.getdata()"
      ],
      "metadata": {
        "colab": {
          "base_uri": "https://localhost:8080/"
        },
        "id": "W6d_xjwsVaus",
        "outputId": "20043bd2-ada1-45b3-977f-2e2441e27cfc"
      },
      "execution_count": 1,
      "outputs": [
        {
          "output_type": "stream",
          "name": "stdout",
          "text": [
            "sam\n",
            "28\n",
            "['Fever', 'Cold']\n",
            "sam\n",
            "28\n",
            "['cancer', 'virus']\n"
          ]
        }
      ]
    },
    {
      "cell_type": "markdown",
      "source": [
        "Case Study 2: Online Examination System\n",
        "Problem: Create a system for online examinations where:\n",
        "Student scores are private and cannot be accessed directly.\n",
        "Scores can only be added or retrieved using specific methods.\n",
        "Implement a feature to calculate the average score of the student."
      ],
      "metadata": {
        "id": "jImVqvbmW4d5"
      }
    },
    {
      "cell_type": "code",
      "source": [
        "class Data:\n",
        "  def __init__(self, name, score):\n",
        "    self.__name = name\n",
        "    self.__score = score\n",
        "\n",
        "  def getdata(self):\n",
        "    print(\"Name: \", self.__name)\n",
        "    print(\"Score: \", self.__score)\n",
        "\n",
        "  def update(self, new):\n",
        "    self.__score.append(new)\n",
        "    print(\"Update Succesful\")\n",
        "\n",
        "  def avg(self):\n",
        "    if(len(self.__score) == 0):\n",
        "      print(\"Add Score\")\n",
        "    else:\n",
        "      sum=0\n",
        "      for i in self.__score:\n",
        "        sum += i\n",
        "\n",
        "      print(\"Avg score is: \", sum//len(self.__score))\n",
        "\n",
        "S1 = Data(\"sam\", [10,50,30])\n",
        "S1.getdata()\n",
        "S1.update(40)\n",
        "S1.getdata()\n",
        "S1.avg()"
      ],
      "metadata": {
        "colab": {
          "base_uri": "https://localhost:8080/"
        },
        "id": "xA9GmP9nW659",
        "outputId": "c60bb093-d0e0-4ab0-9e4e-b14251297f76"
      },
      "execution_count": 4,
      "outputs": [
        {
          "output_type": "stream",
          "name": "stdout",
          "text": [
            "Name:  sam\n",
            "Score:  [10, 50, 30]\n",
            "Update Succesful\n",
            "Name:  sam\n",
            "Score:  [10, 50, 30, 40]\n",
            "Avg score is:  32\n"
          ]
        }
      ]
    },
    {
      "cell_type": "markdown",
      "source": [
        "Q.3 E-Commerce Order Management\n",
        "Scenario: You are designing an e-commerce order system. The system includes:\n",
        "Customer class (with name and contact details).\n",
        "Product class (with name and price).\n",
        "Order class (that inherits Customer and Product to manage customer orders).\n",
        "Requirements:\n",
        "Customer should store customer details.\n",
        "Product should store product details.\n",
        "Order should generate an order summary for a customer, including product details."
      ],
      "metadata": {
        "id": "4LGEOfb-YsAZ"
      }
    },
    {
      "cell_type": "code",
      "source": [
        "\n",
        "class Customer:\n",
        "  def __init__(self, name, contact):\n",
        "    self.name = name\n",
        "    self.contact = contact\n",
        "\n",
        "  def detail(self):\n",
        "    print(\"Customer Name: \", self.name)\n",
        "    print(\"Contact Number: \", self.contact)\n",
        "\n",
        "class product:\n",
        "  def __init__(self, name, price):\n",
        "    self.name = name\n",
        "    self.price = price\n",
        "\n",
        "  def product_detail(self):\n",
        "    print(\"Product Name: \", self.name)\n",
        "    print(\"Product price: \", self.price)\n",
        "\n",
        "class Order(Customer, product):\n",
        "  def Summary():\n",
        "    super().detail()\n",
        "    super().product_detail()\n",
        "\n",
        "C1 = Customer(\"sam\", 741919)\n",
        "P1 = product(\"tshirt\", 800)\n",
        "O = Order(C1,P1)\n",
        "O.Summary()"
      ],
      "metadata": {
        "colab": {
          "base_uri": "https://localhost:8080/",
          "height": 176
        },
        "id": "DGlpBbUFYsxU",
        "outputId": "561ddfa9-bd53-478e-d4bd-34204158a27a"
      },
      "execution_count": 9,
      "outputs": [
        {
          "output_type": "error",
          "ename": "TypeError",
          "evalue": "Order.Summary() takes 0 positional arguments but 1 was given",
          "traceback": [
            "\u001b[0;31m---------------------------------------------------------------------------\u001b[0m",
            "\u001b[0;31mTypeError\u001b[0m                                 Traceback (most recent call last)",
            "\u001b[0;32m<ipython-input-9-0359630be1f2>\u001b[0m in \u001b[0;36m<cell line: 0>\u001b[0;34m()\u001b[0m\n\u001b[1;32m     26\u001b[0m \u001b[0mP1\u001b[0m \u001b[0;34m=\u001b[0m \u001b[0mproduct\u001b[0m\u001b[0;34m(\u001b[0m\u001b[0;34m\"tshirt\"\u001b[0m\u001b[0;34m,\u001b[0m \u001b[0;36m800\u001b[0m\u001b[0;34m)\u001b[0m\u001b[0;34m\u001b[0m\u001b[0;34m\u001b[0m\u001b[0m\n\u001b[1;32m     27\u001b[0m \u001b[0mO\u001b[0m \u001b[0;34m=\u001b[0m \u001b[0mOrder\u001b[0m\u001b[0;34m(\u001b[0m\u001b[0mC1\u001b[0m\u001b[0;34m,\u001b[0m\u001b[0mP1\u001b[0m\u001b[0;34m)\u001b[0m\u001b[0;34m\u001b[0m\u001b[0;34m\u001b[0m\u001b[0m\n\u001b[0;32m---> 28\u001b[0;31m \u001b[0mO\u001b[0m\u001b[0;34m.\u001b[0m\u001b[0mSummary\u001b[0m\u001b[0;34m(\u001b[0m\u001b[0;34m)\u001b[0m\u001b[0;34m\u001b[0m\u001b[0;34m\u001b[0m\u001b[0m\n\u001b[0m",
            "\u001b[0;31mTypeError\u001b[0m: Order.Summary() takes 0 positional arguments but 1 was given"
          ]
        }
      ]
    }
  ]
}