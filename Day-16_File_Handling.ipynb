{
 "cells": [
  {
   "cell_type": "code",
   "execution_count": 1,
   "id": "4e6dc323-3b42-4789-a175-4034e3b91b35",
   "metadata": {},
   "outputs": [],
   "source": [
    "# file handling\n",
    "# mechanism => file yh data store kr sakte hai in file"
   ]
  },
  {
   "cell_type": "code",
   "execution_count": 2,
   "id": "88b4324d-39ae-4cd4-95bb-d5b92b120e26",
   "metadata": {},
   "outputs": [],
   "source": [
    "# open => access mode\n",
    "# read / write\n",
    "# close"
   ]
  },
  {
   "cell_type": "code",
   "execution_count": null,
   "id": "76f15c7b-3cc6-455b-b22c-9473a1fbac03",
   "metadata": {},
   "outputs": [],
   "source": [
    "# File Handling\n",
    "# The key function for working with files in Python is the open() function.\n",
    "# The open() function takes two parameters; filename, and mode.\n",
    "\n",
    "# There are four different methods (modes) for opening a file:\n",
    "\n",
    "# \"r\" - Read - Default value. Opens a file for reading, error if the file does not exist\n",
    "# \"a\" - Append - Opens a file for appending, creates the file if it does not exist\n",
    "# \"w\" - Write - Opens a file for writing, creates the file if it does not exist\n",
    "# \"x\" - Create - Creates the specified file, returns an error if the file exists\n",
    "\n",
    "# In addition you can specify if the file should be handled as binary or text mode\n",
    "# \"t\" - Text - Default value. Text mode\n",
    "# \"b\" - Binary - Binary mode (e.g. images)"
   ]
  },
  {
   "cell_type": "code",
   "execution_count": 5,
   "id": "b385b2c0-05cd-4bed-af29-df29b286e46b",
   "metadata": {},
   "outputs": [
    {
     "name": "stdout",
     "output_type": "stream",
     "text": [
      "Hello World\n",
      "\n"
     ]
    }
   ],
   "source": [
    "fileobj = open(\"Regex.txt\")\n",
    "x_data = fileobj.read()\n",
    "fileobj.close()\n",
    "print(x_data)"
   ]
  },
  {
   "cell_type": "code",
   "execution_count": 8,
   "id": "3817028a-206a-4523-b9a7-6de81d84a9b0",
   "metadata": {},
   "outputs": [],
   "source": [
    "fileobj = open(\"Regex.txt\",\"w\")\n",
    "# w => overwrite all its previous content\n",
    "fileobj.write(\"Japan\")\n",
    "fileobj.close()"
   ]
  },
  {
   "cell_type": "code",
   "execution_count": 9,
   "id": "982f3325-8751-4ad7-a606-8e2e3c32afb3",
   "metadata": {},
   "outputs": [
    {
     "name": "stdout",
     "output_type": "stream",
     "text": [
      "Japan\n"
     ]
    }
   ],
   "source": [
    "fileobj = open(\"Regex.txt\",\"r+\")\n",
    "data = fileobj.read()\n",
    "fileobj.write(\"12\")\n",
    "fileobj.close()\n",
    "# show\n",
    "print(data)"
   ]
  },
  {
   "cell_type": "code",
   "execution_count": 10,
   "id": "e3ba06e0",
   "metadata": {},
   "outputs": [
    {
     "name": "stdout",
     "output_type": "stream",
     "text": [
      "pan12\n"
     ]
    }
   ],
   "source": [
    "fileobj = open(\"Regex.txt\",\"r+\")\n",
    "# r+ is used to read and write both at same time\n",
    "fileobj.write(\"##\")\n",
    "data = fileobj.read()\n",
    "fileobj.close()\n",
    "# show\n",
    "print(data)"
   ]
  },
  {
   "cell_type": "code",
   "execution_count": 15,
   "id": "5d229139-18da-471f-809b-77d240a98ecd",
   "metadata": {},
   "outputs": [
    {
     "name": "stdout",
     "output_type": "stream",
     "text": [
      "1: 0\n",
      "2: 13\n",
      "3 time: 4\n",
      "u&Kashmir\n"
     ]
    }
   ],
   "source": [
    "fileobj = open(\"Regex.txt\",\"w+\")\n",
    "# w+ is delete all the existing data into it and add data we provided\n",
    "print(\"1:\", fileobj.tell())  # tell() method show the position of cursour\n",
    "fileobj.write(\"jammu&Kashmir\")\n",
    "print(\"2:\", fileobj.tell())\n",
    "\n",
    "fileobj.seek(4)  # seek() Change the position of cursor\n",
    "print(\"3 time:\", fileobj.tell())\n",
    "data = fileobj.read()\n",
    "fileobj.close()\n",
    "# show\n",
    "print(data)"
   ]
  },
  {
   "cell_type": "code",
   "execution_count": 16,
   "id": "11c38640-6181-488a-962e-e13a38757cdf",
   "metadata": {},
   "outputs": [
    {
     "name": "stdout",
     "output_type": "stream",
     "text": [
      "jammu&Kashmir\n"
     ]
    }
   ],
   "source": [
    "# Another method \n",
    "\n",
    "with open(\"Regex.txt\",\"r\") as f:\n",
    "    x=f.read()\n",
    "\n",
    "print(x)"
   ]
  },
  {
   "cell_type": "code",
   "execution_count": 29,
   "id": "c3c1a318-0ed0-4c25-9452-2797be783ee1",
   "metadata": {},
   "outputs": [
    {
     "name": "stdout",
     "output_type": "stream",
     "text": [
      "jammu and kashmir\n",
      "\n",
      "punjab\n",
      "\n"
     ]
    }
   ],
   "source": [
    "with open(\"Regex.txt\",\"r\") as f:\n",
    "    print(f.readline())      # readline() read the single line present in text file\n",
    "    print(f.readline())"
   ]
  },
  {
   "cell_type": "code",
   "execution_count": 36,
   "id": "ceae0a6c-fca9-4c4b-abcd-a247110463cf",
   "metadata": {},
   "outputs": [
    {
     "name": "stdout",
     "output_type": "stream",
     "text": [
      "jammu and kashmir <class 'str'>\n",
      "punjab <class 'str'>\n",
      "Goa <class 'str'>\n"
     ]
    }
   ],
   "source": [
    "with open(\"Regex.txt\",\"r\") as f:\n",
    "    for line in f:\n",
    "        print(line.strip()) # strip() remove the \\n means enter space btn them"
   ]
  },
  {
   "cell_type": "code",
   "execution_count": 31,
   "id": "ea1b0886-2950-4765-ab60-66852aa636b8",
   "metadata": {},
   "outputs": [
    {
     "name": "stdout",
     "output_type": "stream",
     "text": [
      "['jammu and kashmir\\n', 'punjab\\n', 'Goa']\n"
     ]
    }
   ],
   "source": [
    "with open(\"Regex.txt\",\"r\") as f:\n",
    "    print(f.readlines())  # lines read all the line and print in list format"
   ]
  },
  {
   "cell_type": "code",
   "execution_count": 41,
   "id": "12c20ea2-6ee3-4947-9913-54462bc85540",
   "metadata": {},
   "outputs": [
    {
     "data": {
      "text/plain": [
       "['hey', 'sam', 'and,Amrit']"
      ]
     },
     "execution_count": 41,
     "metadata": {},
     "output_type": "execute_result"
    }
   ],
   "source": [
    "\"hey sam and,Amrit\".split()  #split() convert the String into list\n",
    "\n",
    "# and,Amrit by adding , into it, will consider as a single character"
   ]
  },
  {
   "cell_type": "code",
   "execution_count": 42,
   "id": "c4f26b37-d925-4d41-9b0a-24a842b1ce7e",
   "metadata": {},
   "outputs": [
    {
     "data": {
      "text/plain": [
       "'hey sam and Amrit'"
      ]
     },
     "execution_count": 42,
     "metadata": {},
     "output_type": "execute_result"
    }
   ],
   "source": [
    "\" \".join(['hey', 'sam', 'and', 'Amrit']) # join() convert the List into string"
   ]
  },
  {
   "cell_type": "code",
   "execution_count": 47,
   "id": "2f95ff87-e82f-447d-adda-d7b76038e35c",
   "metadata": {},
   "outputs": [],
   "source": [
    "with open(\"Regex.txt\",\"w\") as f:\n",
    "    x= f.write(\"raj,10\\nAmrit,20\\nSam,30\")"
   ]
  },
  {
   "cell_type": "code",
   "execution_count": 48,
   "id": "edf4c699-c97b-47af-bb91-19a894ab2704",
   "metadata": {},
   "outputs": [
    {
     "name": "stdout",
     "output_type": "stream",
     "text": [
      "name:  raj Age:  10\n",
      "name:  Amrit Age:  20\n",
      "name:  Sam Age:  30\n"
     ]
    }
   ],
   "source": [
    "with open(\"Regex.txt\",\"r\") as f:\n",
    "    for line in f:\n",
    "        line = line.strip()\n",
    "        name,age = line.split(\",\")\n",
    "        print(\"name: \", name, \"Age: \", age)"
   ]
  },
  {
   "cell_type": "code",
   "execution_count": null,
   "id": "0d641eb9-68a1-4917-819d-21e9e4d68c25",
   "metadata": {},
   "outputs": [],
   "source": [
    "# comma Seperator Value\n",
    "# tab Seperator Value\n",
    "# delimeter Seperator Value"
   ]
  },
  {
   "cell_type": "code",
   "execution_count": 50,
   "id": "e431e500-dd78-478e-8d5a-e05baf0d8a19",
   "metadata": {},
   "outputs": [
    {
     "name": "stdout",
     "output_type": "stream",
     "text": [
      "name:  raj Age:  10\n",
      "name:  Amrit Age:  20\n",
      "name:  Sam Age:  30\n"
     ]
    }
   ],
   "source": [
    "import csv   # comma Seperator Value : it removes comma into the string\n",
    "with open(\"Regex.txt\",\"r\") as fileobj:\n",
    "    fCsv = csv.reader(fileobj)\n",
    "    for line in fCsv:\n",
    "        name,age = line\n",
    "        print(\"name: \", name, \"Age: \", age)"
   ]
  },
  {
   "cell_type": "code",
   "execution_count": 7,
   "id": "c23ff724-9251-4ba9-b01c-6ae248834493",
   "metadata": {},
   "outputs": [
    {
     "name": "stdout",
     "output_type": "stream",
     "text": [
      "raj,10\n",
      "Amrit,20\n",
      "Sam,30Now the file has more content!\n"
     ]
    }
   ],
   "source": [
    "f = open(\"Regex.txt\", \"a\")\n",
    "f.write(\"Now the file has more content!\")\n",
    "f.close()\n",
    "\n",
    "f = open(\"Regex.txt\", \"r\")\n",
    "x= f.read()\n",
    "f.close()\n",
    "print(x)"
   ]
  },
  {
   "cell_type": "code",
   "execution_count": 8,
   "id": "40ebd7ca-8006-4a42-8b5d-f12ab918901a",
   "metadata": {},
   "outputs": [],
   "source": [
    "f = open(\"myfile.txt\", \"x\")"
   ]
  },
  {
   "cell_type": "code",
   "execution_count": null,
   "id": "32295824-cd2a-464c-be8e-64e20bc2e802",
   "metadata": {},
   "outputs": [],
   "source": [
    "# isomorphic String\n",
    "# 3 sum smaller\n",
    "# 3 sum closet"
   ]
  }
 ],
 "metadata": {
  "kernelspec": {
   "display_name": "Python 3 (ipykernel)",
   "language": "python",
   "name": "python3"
  },
  "language_info": {
   "codemirror_mode": {
    "name": "ipython",
    "version": 3
   },
   "file_extension": ".py",
   "mimetype": "text/x-python",
   "name": "python",
   "nbconvert_exporter": "python",
   "pygments_lexer": "ipython3",
   "version": "3.12.3"
  }
 },
 "nbformat": 4,
 "nbformat_minor": 5
}
