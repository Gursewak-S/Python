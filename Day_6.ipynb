{
  "nbformat": 4,
  "nbformat_minor": 0,
  "metadata": {
    "colab": {
      "provenance": [],
      "authorship_tag": "ABX9TyPwGvRMS26c2qcWFjwFVREJ",
      "include_colab_link": true
    },
    "kernelspec": {
      "name": "python3",
      "display_name": "Python 3"
    },
    "language_info": {
      "name": "python"
    }
  },
  "cells": [
    {
      "cell_type": "markdown",
      "metadata": {
        "id": "view-in-github",
        "colab_type": "text"
      },
      "source": [
        "<a href=\"https://colab.research.google.com/github/Gursewak-S/Python/blob/main/Day_6.ipynb\" target=\"_parent\"><img src=\"https://colab.research.google.com/assets/colab-badge.svg\" alt=\"Open In Colab\"/></a>"
      ]
    },
    {
      "cell_type": "code",
      "execution_count": 1,
      "metadata": {
        "colab": {
          "base_uri": "https://localhost:8080/"
        },
        "id": "Qn4NhMFFhixV",
        "outputId": "2b6bc72c-b28a-4a6a-c5c8-801325143591"
      },
      "outputs": [
        {
          "output_type": "stream",
          "name": "stdout",
          "text": [
            "<class 'list'>\n"
          ]
        }
      ],
      "source": [
        "# List Datatype\n",
        "# Collection of element\n",
        "# stored based on index position\n",
        "# list mutuable database\n",
        "#  sequence datatype\n",
        "\n",
        "x=[10,20,30,\"hey\",100.1]\n",
        "print(type(x))"
      ]
    },
    {
      "cell_type": "code",
      "source": [
        "mylist=[10,20,30,\"hey\",100.1]\n",
        "print(mylist[0])"
      ],
      "metadata": {
        "colab": {
          "base_uri": "https://localhost:8080/"
        },
        "id": "UBmjKtnTiBu_",
        "outputId": "662d2394-1ebd-4153-c4dc-2ac0628993e4"
      },
      "execution_count": 2,
      "outputs": [
        {
          "output_type": "stream",
          "name": "stdout",
          "text": [
            "10\n"
          ]
        }
      ]
    },
    {
      "cell_type": "code",
      "source": [
        "mylist=[10,20,30,\"hey\",100.1]\n",
        "print(mylist[1:5])"
      ],
      "metadata": {
        "colab": {
          "base_uri": "https://localhost:8080/"
        },
        "id": "RYFIYEhDiMBS",
        "outputId": "e38ee4e7-c2e0-4b26-9b92-6ddbb066b12d"
      },
      "execution_count": 3,
      "outputs": [
        {
          "output_type": "stream",
          "name": "stdout",
          "text": [
            "[20, 30, 'hey', 100.1]\n"
          ]
        }
      ]
    },
    {
      "cell_type": "code",
      "source": [
        "mylist=[10,20,30,\"hey\",100.1]\n",
        "print(mylist[-1])"
      ],
      "metadata": {
        "colab": {
          "base_uri": "https://localhost:8080/"
        },
        "id": "aVS_Z5NViQbk",
        "outputId": "96b23fd9-17a6-4e72-ec98-d439ae895fe7"
      },
      "execution_count": 4,
      "outputs": [
        {
          "output_type": "stream",
          "name": "stdout",
          "text": [
            "100.1\n"
          ]
        }
      ]
    },
    {
      "cell_type": "code",
      "source": [
        "mylist=[10,20,30,\"hey\",100.1]\n",
        "print(mylist[0])"
      ],
      "metadata": {
        "colab": {
          "base_uri": "https://localhost:8080/"
        },
        "id": "wXE_vP1GiRpJ",
        "outputId": "7b231a89-965e-4273-d65a-9cc4af3ea044"
      },
      "execution_count": 5,
      "outputs": [
        {
          "output_type": "stream",
          "name": "stdout",
          "text": [
            "10\n"
          ]
        }
      ]
    },
    {
      "cell_type": "code",
      "source": [
        "mylist=[10,20,30,\"hey\",100.1]\n",
        "mylist[2]=90   #update\n",
        "print(mylist)"
      ],
      "metadata": {
        "colab": {
          "base_uri": "https://localhost:8080/"
        },
        "id": "j8noYAhhiZ2n",
        "outputId": "d2bfb2b9-e447-4f21-99c0-0dd6afaa98cb"
      },
      "execution_count": 6,
      "outputs": [
        {
          "output_type": "stream",
          "name": "stdout",
          "text": [
            "[10, 20, 90, 'hey', 100.1]\n"
          ]
        }
      ]
    },
    {
      "cell_type": "code",
      "source": [
        "mylist=[10,20,30,\"hey\",100.1]\n",
        "mylist.append(400)       # add new data into list\n",
        "print(mylist)"
      ],
      "metadata": {
        "colab": {
          "base_uri": "https://localhost:8080/"
        },
        "id": "q1j4jm0Vid6x",
        "outputId": "303dd5ec-e46b-445e-e1d5-b831e163efe8"
      },
      "execution_count": 7,
      "outputs": [
        {
          "output_type": "stream",
          "name": "stdout",
          "text": [
            "[10, 20, 30, 'hey', 100.1, 400]\n"
          ]
        }
      ]
    },
    {
      "cell_type": "code",
      "source": [
        "mylist=[10,20,30,\"hey\",100.1]\n",
        "mylist.extend(\"hello\")       # to add multiple value into it but it will not add Integer value\n",
        "mylist.extend([999,\"hello\"]) # this happen because extend uses for loop to add value in list as into extend data-\n",
        "                            # -is written in list it takes index of that list not single char\n",
        "\n",
        "# mylist.extend(12) # this will show error it will not take integer value\n",
        "\n",
        "print(mylist)"
      ],
      "metadata": {
        "colab": {
          "base_uri": "https://localhost:8080/"
        },
        "id": "ZQm943fOi_Uj",
        "outputId": "a8c61e7c-e121-4b48-b77c-c013d6946d5c"
      },
      "execution_count": 11,
      "outputs": [
        {
          "output_type": "stream",
          "name": "stdout",
          "text": [
            "[10, 20, 30, 'hey', 100.1, 'h', 'e', 'l', 'l', 'o', 999, 'hello']\n"
          ]
        }
      ]
    },
    {
      "cell_type": "code",
      "source": [
        "mylist=[10,20,30,\"hey\",100.1]\n",
        "mylist.pop()\n",
        "print(mylist)"
      ],
      "metadata": {
        "colab": {
          "base_uri": "https://localhost:8080/"
        },
        "id": "TfogbUZvjKFY",
        "outputId": "c08bdd80-4994-4f32-b97f-5f06efe63631"
      },
      "execution_count": 13,
      "outputs": [
        {
          "output_type": "stream",
          "name": "stdout",
          "text": [
            "[10, 20, 30, 'hey']\n"
          ]
        }
      ]
    },
    {
      "cell_type": "code",
      "source": [
        "mylist=[10,20,30,\"hey\",100.1]\n",
        "mylist.pop(2)\n",
        "print(mylist)"
      ],
      "metadata": {
        "colab": {
          "base_uri": "https://localhost:8080/"
        },
        "id": "Jgpd2UEnkSzj",
        "outputId": "a59429ba-8d8c-4c9f-8ba5-4b86a872d155"
      },
      "execution_count": 14,
      "outputs": [
        {
          "output_type": "stream",
          "name": "stdout",
          "text": [
            "[10, 20, 'hey', 100.1]\n"
          ]
        }
      ]
    },
    {
      "cell_type": "code",
      "source": [
        "mylist=[10,20,30,\"hey\",100.1]\n",
        "x = mylist.pop()\n",
        "print(mylist)\n",
        "print(x)"
      ],
      "metadata": {
        "colab": {
          "base_uri": "https://localhost:8080/"
        },
        "id": "ti_S263jkWop",
        "outputId": "9c065760-edbc-4e49-82dd-577589de3b32"
      },
      "execution_count": 15,
      "outputs": [
        {
          "output_type": "stream",
          "name": "stdout",
          "text": [
            "[10, 20, 30, 'hey']\n",
            "100.1\n"
          ]
        }
      ]
    },
    {
      "cell_type": "code",
      "source": [
        "mylist=[10,20,30,\"hey\",100.1]\n",
        "mylist.remove(20) # In remove we give value and in pop we give index\n",
        "print(mylist)"
      ],
      "metadata": {
        "colab": {
          "base_uri": "https://localhost:8080/"
        },
        "id": "oDlV7w_pkcQv",
        "outputId": "906cd569-6bff-47f4-8429-5cd7a335e4e5"
      },
      "execution_count": 16,
      "outputs": [
        {
          "output_type": "stream",
          "name": "stdout",
          "text": [
            "[10, 30, 'hey', 100.1]\n"
          ]
        }
      ]
    },
    {
      "cell_type": "code",
      "source": [
        "mylist=[10,20,30,\"hey\",100.1]\n",
        "mylist.insert(2,500)  # insert is used to add value in certain index\n",
        "print(mylist)"
      ],
      "metadata": {
        "colab": {
          "base_uri": "https://localhost:8080/"
        },
        "id": "VQvvhls5lqVW",
        "outputId": "a5ad4058-e130-480b-baa4-6ec9b72400c2"
      },
      "execution_count": 19,
      "outputs": [
        {
          "output_type": "stream",
          "name": "stdout",
          "text": [
            "[10, 20, 500, 30, 'hey', 100.1]\n"
          ]
        }
      ]
    },
    {
      "cell_type": "code",
      "source": [
        "mylist=[10,20,30,\"hey\",100.1]\n",
        "for i in mylist:\n",
        "  print(i)"
      ],
      "metadata": {
        "colab": {
          "base_uri": "https://localhost:8080/"
        },
        "id": "CJTIG1WJk-pU",
        "outputId": "d8d9167e-432b-4071-b413-d8244dcdeed0"
      },
      "execution_count": 17,
      "outputs": [
        {
          "output_type": "stream",
          "name": "stdout",
          "text": [
            "10\n",
            "20\n",
            "30\n",
            "hey\n",
            "100.1\n"
          ]
        }
      ]
    },
    {
      "cell_type": "code",
      "source": [
        "mylist=[10,20,30,\"hey\",100.1]\n",
        "for i in range(0,len(mylist)):\n",
        "  print(i, mylist[i])"
      ],
      "metadata": {
        "colab": {
          "base_uri": "https://localhost:8080/"
        },
        "id": "Gq9sLLymlXVC",
        "outputId": "4515931d-72d8-4b19-874b-6e0520694818"
      },
      "execution_count": 18,
      "outputs": [
        {
          "output_type": "stream",
          "name": "stdout",
          "text": [
            "0 10\n",
            "1 20\n",
            "2 30\n",
            "3 hey\n",
            "4 100.1\n"
          ]
        }
      ]
    },
    {
      "cell_type": "code",
      "source": [
        "mylist=[10,20,30,\"hey\",100.1,45]\n",
        "for i in range(0,len(mylist)):\n",
        "  if(type(mylist[i])==int):\n",
        "    print(i, mylist[i])"
      ],
      "metadata": {
        "colab": {
          "base_uri": "https://localhost:8080/"
        },
        "id": "jrkTBHbPlmRD",
        "outputId": "4b682c36-41a9-4e75-cbd2-0f9bb245a7a6"
      },
      "execution_count": 22,
      "outputs": [
        {
          "output_type": "stream",
          "name": "stdout",
          "text": [
            "0 10\n",
            "1 20\n",
            "2 30\n",
            "5 45\n"
          ]
        }
      ]
    },
    {
      "cell_type": "code",
      "source": [],
      "metadata": {
        "id": "4sE0lSp0mH90"
      },
      "execution_count": null,
      "outputs": []
    }
  ]
}