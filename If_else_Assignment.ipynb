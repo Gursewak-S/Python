{
  "nbformat": 4,
  "nbformat_minor": 0,
  "metadata": {
    "colab": {
      "provenance": [],
      "authorship_tag": "ABX9TyN0CxzRiMCLiREdbwoVpgkm",
      "include_colab_link": true
    },
    "kernelspec": {
      "name": "python3",
      "display_name": "Python 3"
    },
    "language_info": {
      "name": "python"
    }
  },
  "cells": [
    {
      "cell_type": "markdown",
      "metadata": {
        "id": "view-in-github",
        "colab_type": "text"
      },
      "source": [
        "<a href=\"https://colab.research.google.com/github/Gursewak-S/Python/blob/main/If_else_Assignment.ipynb\" target=\"_parent\"><img src=\"https://colab.research.google.com/assets/colab-badge.svg\" alt=\"Open In Colab\"/></a>"
      ]
    },
    {
      "cell_type": "code",
      "execution_count": null,
      "metadata": {
        "colab": {
          "base_uri": "https://localhost:8080/"
        },
        "id": "KNBvB9XnYo8k",
        "outputId": "c6d9a91c-02bf-434f-e85b-7c70a4c8625f"
      },
      "outputs": [
        {
          "output_type": "stream",
          "name": "stdout",
          "text": [
            "Enter a number: 16\n",
            "Even\n"
          ]
        }
      ],
      "source": [
        "# Q1 Write a program that takes an integer input from the user and checks whether the number is odd or even\n",
        "\n",
        "num = int(input(\"Enter a number: \"))\n",
        "\n",
        "if(num%2 == 0):\n",
        "    print(\"Even\")\n",
        "else:\n",
        "    print(\"Odd\")"
      ]
    },
    {
      "cell_type": "code",
      "source": [
        "# Q2 Write a program that takes three numbers as input and prints the largest of the three.\n",
        "\n",
        "a = int(input(\"Enter first no: \"))\n",
        "b = int(input(\"Enter Second no: \"))\n",
        "c = int(input(\"Enter Third no: \"))\n",
        "\n",
        "if(a>b and a>c):\n",
        "    print(\"a is largest\")\n",
        "elif(b>a and b>c):\n",
        "    print(\"b is largest\")\n",
        "else:\n",
        "    print(\"c is largest\")"
      ],
      "metadata": {
        "colab": {
          "base_uri": "https://localhost:8080/"
        },
        "id": "-3yFeI46ZtaS",
        "outputId": "ed0a5364-0a84-4d9c-96aa-47514a78b3a5"
      },
      "execution_count": null,
      "outputs": [
        {
          "output_type": "stream",
          "name": "stdout",
          "text": [
            "Enter first no5\n",
            "Enter Second no4\n",
            "Enter Third no9\n",
            "9\n"
          ]
        }
      ]
    },
    {
      "cell_type": "code",
      "source": [
        "# Q3 Write a program to check if a given year is a leap year. A leap year is divisible by 4 but not by 100 unless it is also divisible by 400.\n",
        "\n",
        "year = int(input(\"Enter a year: \"))\n",
        "\n",
        "if(year%4 == 0 and year%100 != 0 or year%400 == 0):\n",
        "    print(\"Leap Year\")\n",
        "else:\n",
        "    print(\"Not a Leap Year\")"
      ],
      "metadata": {
        "colab": {
          "base_uri": "https://localhost:8080/"
        },
        "id": "p2jRcBFuZ3oH",
        "outputId": "3b92c9a1-8566-4aa2-bcc6-f9923022ff1b"
      },
      "execution_count": null,
      "outputs": [
        {
          "output_type": "stream",
          "name": "stdout",
          "text": [
            "Enter a year: 2000\n",
            "Leap Year\n"
          ]
        }
      ]
    },
    {
      "cell_type": "code",
      "source": [
        "# Q4 Write a program that takes a percentage (integer) as input and prints the corresponding grade based\n",
        "# on the following criteria:\n",
        "# >= 90: Grade A\n",
        "# >= 80: Grade B\n",
        "# >= 70: Grade C\n",
        "# >= 60: Grade D\n",
        "# < 60: Grade F\n",
        "\n",
        "Percent = int(input(\"Enter your percent: \"))\n",
        "\n",
        "if(Percent >= 90):\n",
        "    print(\"Grade A\")\n",
        "elif(Percent >= 80):\n",
        "    print(\"Grade B\")\n",
        "elif(Percent >= 70):\n",
        "    print(\"Grade C\")\n",
        "elif(Percent >= 60):\n",
        "    print(\"Grade D\")\n",
        "else:\n",
        "    print(\"Grade F\")"
      ],
      "metadata": {
        "colab": {
          "base_uri": "https://localhost:8080/"
        },
        "id": "hoHnxztuauTG",
        "outputId": "5616f73e-74ff-41a0-8028-cb77c35ab0b2"
      },
      "execution_count": null,
      "outputs": [
        {
          "output_type": "stream",
          "name": "stdout",
          "text": [
            "Enter your percent: 75\n",
            "Grade C\n"
          ]
        }
      ]
    },
    {
      "cell_type": "code",
      "source": [
        "# Q5 Write a program that checks if a given letter is a vowel (a, e, i, o, u) or a consonant.\n",
        "\n",
        "var = input(\"Enter variable: \")\n",
        "\n",
        "if(var == 'a' or var == 'e' or var == 'i' or var == 'o' or var == 'u'):\n",
        "    print(\"Vowel\")\n",
        "else:\n",
        "    print(\"Consonant\")"
      ],
      "metadata": {
        "colab": {
          "base_uri": "https://localhost:8080/"
        },
        "id": "t_AQo1t6a48t",
        "outputId": "6d5a2b20-4587-44dd-bf48-87c308fbed37"
      },
      "execution_count": null,
      "outputs": [
        {
          "output_type": "stream",
          "name": "stdout",
          "text": [
            "Enter variable: f\n",
            "Consonant\n"
          ]
        }
      ]
    },
    {
      "cell_type": "code",
      "source": [
        "# Q6 Write a basic calculator program that takes two numbers and an operator (+, -, *, /) as input and\n",
        "# performs the specified operation. Print the result based on the operation.\n",
        "\n",
        "a = int(input(\"Enter first no: \"))\n",
        "b = int(input(\"Enter second no: \"))\n",
        "\n",
        "sign = input(\"Enter sign: \")\n",
        "\n",
        "if(sign == '+'):\n",
        "    print(a+b)\n",
        "elif(sign == '-'):\n",
        "    print(a-b)\n",
        "elif(sign == '*'):\n",
        "    print(a*b)\n",
        "elif(sign == '/'):\n",
        "    print(a/b)\n",
        "else:\n",
        "    print(\"Invalid sign\")"
      ],
      "metadata": {
        "colab": {
          "base_uri": "https://localhost:8080/"
        },
        "id": "bb6PSu-rbVTn",
        "outputId": "7a282680-1d06-453c-822a-8f5e3fd2bb2a"
      },
      "execution_count": null,
      "outputs": [
        {
          "output_type": "stream",
          "name": "stdout",
          "text": [
            "Enter first no: 2\n",
            "Enter second no: 3\n",
            "Enter sign: *\n",
            "6\n"
          ]
        }
      ]
    },
    {
      "cell_type": "code",
      "source": [
        "#  Q7 Write a program that takes a number as input and checks whether it is positive, negative, or zero.\n",
        "\n",
        "num = int(input(\"Enter a number: \"))\n",
        "\n",
        "if(num > 0):\n",
        "    print(\"Positive\")\n",
        "elif(num < 0):\n",
        "    print(\"Negative\")\n",
        "else:\n",
        "    print(\"Zero\")"
      ],
      "metadata": {
        "colab": {
          "base_uri": "https://localhost:8080/"
        },
        "id": "Xo1DLoiXcA1D",
        "outputId": "e58a7f9a-0a60-4753-de87-2595eb47f3f6"
      },
      "execution_count": null,
      "outputs": [
        {
          "output_type": "stream",
          "name": "stdout",
          "text": [
            "Enter a number: -25\n",
            "Negative\n"
          ]
        }
      ]
    },
    {
      "cell_type": "code",
      "source": [
        "# Q8 Write a program that checks if a username and password entered by the user match the pre-set values\n",
        "# username = \"admin\" and password = \"1234\". If both match, print \"Login Successful\", otherwise print\n",
        "# \"Login Failed\".\n"
      ],
      "metadata": {
        "id": "7uDUmftZcbnr"
      },
      "execution_count": null,
      "outputs": []
    }
  ]
}