{
  "nbformat": 4,
  "nbformat_minor": 0,
  "metadata": {
    "colab": {
      "provenance": [],
      "authorship_tag": "ABX9TyMyX/8XeIFZAFegG9JWY1zN",
      "include_colab_link": true
    },
    "kernelspec": {
      "name": "python3",
      "display_name": "Python 3"
    },
    "language_info": {
      "name": "python"
    }
  },
  "cells": [
    {
      "cell_type": "markdown",
      "metadata": {
        "id": "view-in-github",
        "colab_type": "text"
      },
      "source": [
        "<a href=\"https://colab.research.google.com/github/Gursewak-S/Python/blob/main/Pattern_Practice.ipynb\" target=\"_parent\"><img src=\"https://colab.research.google.com/assets/colab-badge.svg\" alt=\"Open In Colab\"/></a>"
      ]
    },
    {
      "cell_type": "code",
      "execution_count": 6,
      "metadata": {
        "colab": {
          "base_uri": "https://localhost:8080/"
        },
        "id": "alE2ETS7TVbY",
        "outputId": "dbfd951c-6073-4545-cd28-69c6c558134e"
      },
      "outputs": [
        {
          "output_type": "stream",
          "name": "stdout",
          "text": [
            "****\n",
            " ****\n",
            "  ****\n",
            "   ****\n"
          ]
        }
      ],
      "source": [
        "for i in range(1,5):\n",
        "  for s in range(1,i):\n",
        "    print(\" \", end=\"\")\n",
        "  for j in range(1,5):\n",
        "    print(\"*\", end=\"\")\n",
        "  print(\"\")"
      ]
    },
    {
      "cell_type": "code",
      "source": [
        "for i in range(1,5):\n",
        "  for j in range(1,7):\n",
        "    if(i==1 or i==4 or i==2 and j==1 or i==2 and j==6 or i==3 and j==1 or i==3 and j==6):\n",
        "      print(\"*\",end=\"\")\n",
        "    else:\n",
        "      print(\" \",end=\"\")\n",
        "  print(\"\")"
      ],
      "metadata": {
        "colab": {
          "base_uri": "https://localhost:8080/"
        },
        "id": "LqjYLDfST0eh",
        "outputId": "d3da25ab-8e2e-44d1-a382-3b998b71f46c"
      },
      "execution_count": 9,
      "outputs": [
        {
          "output_type": "stream",
          "name": "stdout",
          "text": [
            "******\n",
            "*    *\n",
            "*    *\n",
            "******\n"
          ]
        }
      ]
    },
    {
      "cell_type": "code",
      "source": [
        "for i in range(1,6):\n",
        "  ch=65\n",
        "  for j in range(0,i):\n",
        "    print(chr(ch+j),end='')\n",
        "  print(\"\")"
      ],
      "metadata": {
        "colab": {
          "base_uri": "https://localhost:8080/"
        },
        "id": "Y7ID3boxWQ__",
        "outputId": "eef6be1f-046b-490d-cfd3-0769701356ad"
      },
      "execution_count": 13,
      "outputs": [
        {
          "output_type": "stream",
          "name": "stdout",
          "text": [
            "A\n",
            "AB\n",
            "ABC\n",
            "ABCD\n",
            "ABCDE\n"
          ]
        }
      ]
    },
    {
      "cell_type": "code",
      "source": [
        "ch=65\n",
        "for i in range(1,6):\n",
        "  for j in range(0,i):\n",
        "    print(chr(ch),end='')\n",
        "  print(\"\")\n",
        "  ch +=1"
      ],
      "metadata": {
        "colab": {
          "base_uri": "https://localhost:8080/"
        },
        "id": "aiA4ulfwWqjZ",
        "outputId": "f68904b4-501d-4a1b-9fc0-e07805f34aa7"
      },
      "execution_count": 14,
      "outputs": [
        {
          "output_type": "stream",
          "name": "stdout",
          "text": [
            "A\n",
            "BB\n",
            "CCC\n",
            "DDDD\n",
            "EEEEE\n"
          ]
        }
      ]
    },
    {
      "cell_type": "code",
      "source": [
        "for i in range(0,6):\n",
        "  ch=70\n",
        "  ch-=i\n",
        "  for j in range(0,i):\n",
        "    print(chr(ch),end='')\n",
        "    ch +=1\n",
        "  print(\"\")\n",
        ""
      ],
      "metadata": {
        "colab": {
          "base_uri": "https://localhost:8080/"
        },
        "id": "mGJ2WjA6W8Rk",
        "outputId": "cb32425f-ff9c-47bd-a723-e7e200ef0fcd"
      },
      "execution_count": 18,
      "outputs": [
        {
          "output_type": "stream",
          "name": "stdout",
          "text": [
            "\n",
            "E\n",
            "DE\n",
            "CDE\n",
            "BCDE\n",
            "ABCDE\n"
          ]
        }
      ]
    },
    {
      "cell_type": "code",
      "source": [
        "for i in range(0,5):\n",
        "  for s in range(4,i,-1):\n",
        "    print(\" \",end=\"\")\n",
        "  for j in range(0,i+1):\n",
        "    print(\"*\",end=\"\")\n",
        "  print(\"\")"
      ],
      "metadata": {
        "colab": {
          "base_uri": "https://localhost:8080/"
        },
        "id": "q9dlGMO-Xf5F",
        "outputId": "06d4a30b-79e8-4a5a-cf23-ed8353136317"
      },
      "execution_count": 19,
      "outputs": [
        {
          "output_type": "stream",
          "name": "stdout",
          "text": [
            "    *\n",
            "   **\n",
            "  ***\n",
            " ****\n",
            "*****\n"
          ]
        }
      ]
    },
    {
      "cell_type": "code",
      "source": [
        "for i in range(0,5):\n",
        "  for s in range(4,i,-1):\n",
        "    print(\" \",end=\"\")\n",
        "  for j in range(0,i+1):\n",
        "    print(j+1,end=\"\")\n",
        "  print(\"\")"
      ],
      "metadata": {
        "colab": {
          "base_uri": "https://localhost:8080/"
        },
        "id": "atRb6dM0Y0tA",
        "outputId": "c2e61c32-bf58-4f74-d209-5eeffcce5868"
      },
      "execution_count": 20,
      "outputs": [
        {
          "output_type": "stream",
          "name": "stdout",
          "text": [
            "    1\n",
            "   12\n",
            "  123\n",
            " 1234\n",
            "12345\n"
          ]
        }
      ]
    },
    {
      "cell_type": "code",
      "source": [
        "for i in range(0,5):\n",
        "  for s in range(0,i):\n",
        "    print(\" \",end=\"\")\n",
        "  for j in range(0,5-i):\n",
        "    print(j+1,end=\"\")\n",
        "  print(\"\")"
      ],
      "metadata": {
        "colab": {
          "base_uri": "https://localhost:8080/"
        },
        "id": "tmnRp6pyZIGD",
        "outputId": "914f439f-a2be-4b0d-d7db-30231e26aa76"
      },
      "execution_count": 21,
      "outputs": [
        {
          "output_type": "stream",
          "name": "stdout",
          "text": [
            "12345\n",
            " 1234\n",
            "  123\n",
            "   12\n",
            "    1\n"
          ]
        }
      ]
    },
    {
      "cell_type": "code",
      "source": [
        "for i in range(0,5):\n",
        "  ch=65\n",
        "  for s in range(0,i):\n",
        "    print(\" \",end=\"\")\n",
        "  for j in range(0,5-i):\n",
        "    print(chr(ch),end=\"\")\n",
        "    ch+=1\n",
        "  print(\"\")"
      ],
      "metadata": {
        "colab": {
          "base_uri": "https://localhost:8080/"
        },
        "id": "OzK-uHkLZwNP",
        "outputId": "d91e8aa4-fc70-4016-c070-7a21a79c7c0b"
      },
      "execution_count": 22,
      "outputs": [
        {
          "output_type": "stream",
          "name": "stdout",
          "text": [
            "ABCDE\n",
            " ABCD\n",
            "  ABC\n",
            "   AB\n",
            "    A\n"
          ]
        }
      ]
    },
    {
      "cell_type": "code",
      "source": [
        "for i in range(0,5):\n",
        "  for s in range(4,i,-1):\n",
        "    print(\" \",end=\"\")\n",
        "  for j in range(0,5):\n",
        "    print(\"*\",end=\"\")\n",
        "  print(\"\")"
      ],
      "metadata": {
        "colab": {
          "base_uri": "https://localhost:8080/"
        },
        "id": "27GwKw8BZ5K9",
        "outputId": "0292566c-134b-4b2b-ef00-7b9c39279811"
      },
      "execution_count": 24,
      "outputs": [
        {
          "output_type": "stream",
          "name": "stdout",
          "text": [
            "    *****\n",
            "   *****\n",
            "  *****\n",
            " *****\n",
            "*****\n"
          ]
        }
      ]
    },
    {
      "cell_type": "code",
      "source": [
        "for i in range(0,5):\n",
        "  for s in range(4,i,-1):\n",
        "    print(\" \",end=\"\")\n",
        "  for j in range(0,5):\n",
        "    print(j+1,end=\"\")\n",
        "  print(\"\")"
      ],
      "metadata": {
        "colab": {
          "base_uri": "https://localhost:8080/"
        },
        "id": "dm5ms79laBgY",
        "outputId": "3868685d-0be9-4ca1-fbf4-5ebe6540b14e"
      },
      "execution_count": 25,
      "outputs": [
        {
          "output_type": "stream",
          "name": "stdout",
          "text": [
            "    12345\n",
            "   12345\n",
            "  12345\n",
            " 12345\n",
            "12345\n"
          ]
        }
      ]
    },
    {
      "cell_type": "code",
      "source": [
        "for i in range(0,5):\n",
        "  ch=65\n",
        "  for s in range(4,i,-1):\n",
        "    print(\" \",end=\"\")\n",
        "  for j in range(0,5):\n",
        "    print(chr(ch),end=\"\")\n",
        "    ch+=1\n",
        "  print(\"\")"
      ],
      "metadata": {
        "colab": {
          "base_uri": "https://localhost:8080/"
        },
        "id": "d637bPsaaH9y",
        "outputId": "e607b23a-d097-49da-849d-8c56529c9ecb"
      },
      "execution_count": 26,
      "outputs": [
        {
          "output_type": "stream",
          "name": "stdout",
          "text": [
            "    ABCDE\n",
            "   ABCDE\n",
            "  ABCDE\n",
            " ABCDE\n",
            "ABCDE\n"
          ]
        }
      ]
    },
    {
      "cell_type": "code",
      "source": [],
      "metadata": {
        "id": "DfN4zp8GaOtF"
      },
      "execution_count": null,
      "outputs": []
    }
  ]
}