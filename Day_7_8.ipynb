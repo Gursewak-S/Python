{
  "nbformat": 4,
  "nbformat_minor": 0,
  "metadata": {
    "colab": {
      "provenance": [],
      "authorship_tag": "ABX9TyNCtgae9NardZkzOUntWW4G",
      "include_colab_link": true
    },
    "kernelspec": {
      "name": "python3",
      "display_name": "Python 3"
    },
    "language_info": {
      "name": "python"
    }
  },
  "cells": [
    {
      "cell_type": "markdown",
      "metadata": {
        "id": "view-in-github",
        "colab_type": "text"
      },
      "source": [
        "<a href=\"https://colab.research.google.com/github/Gursewak-S/Python/blob/main/Day_7_8.ipynb\" target=\"_parent\"><img src=\"https://colab.research.google.com/assets/colab-badge.svg\" alt=\"Open In Colab\"/></a>"
      ]
    },
    {
      "cell_type": "code",
      "source": [],
      "metadata": {
        "id": "nsmL9SbaNBFc"
      },
      "execution_count": null,
      "outputs": []
    },
    {
      "cell_type": "code",
      "execution_count": 1,
      "metadata": {
        "colab": {
          "base_uri": "https://localhost:8080/"
        },
        "id": "u6DJt9TRMH4m",
        "outputId": "a6bd8fdc-1b9c-41ec-abcf-8e70cd195f50"
      },
      "outputs": [
        {
          "output_type": "stream",
          "name": "stdout",
          "text": [
            "10751144 10751144\n",
            "10751464 10751144\n"
          ]
        }
      ],
      "source": [
        "# Call by object refernce\n",
        "\n",
        "a=10\n",
        "b=a\n",
        "print(id(a),id(b)) #in this both have same memory address\n",
        "\n",
        "a=20\n",
        "print(id(a),id(b)) # as the data change in 'a' the memory address change in a but not in b as numeric is immutable"
      ]
    },
    {
      "cell_type": "code",
      "source": [
        "# Dictionary datatype\n",
        "# Key and value\n",
        "# key => unique (identifier)\n",
        "# value => duplicate or unique\n",
        "# mutuable datatype\n",
        "# no index position\n",
        "# ordered collection of element\n",
        "\n",
        "# it uses key not index value to perform certain function like pop, update,"
      ],
      "metadata": {
        "id": "wyVCqpVYMaGT"
      },
      "execution_count": 2,
      "outputs": []
    },
    {
      "cell_type": "code",
      "source": [
        "mydictionary = {1: \"sam\", 2: \"aman\", \"city\": \"jaipur\"} # format Key : value\n",
        "print(mydictionary)\n",
        "len(mydictionary)"
      ],
      "metadata": {
        "colab": {
          "base_uri": "https://localhost:8080/"
        },
        "id": "9mYlCZgyOprf",
        "outputId": "654b8c93-7143-46bc-966e-cbd12219c701"
      },
      "execution_count": 4,
      "outputs": [
        {
          "output_type": "stream",
          "name": "stdout",
          "text": [
            "{1: 'sam', 2: 'aman', 'city': 'jaipur'}\n"
          ]
        },
        {
          "output_type": "execute_result",
          "data": {
            "text/plain": [
              "3"
            ]
          },
          "metadata": {},
          "execution_count": 4
        }
      ]
    },
    {
      "cell_type": "code",
      "source": [
        "mydictionary = {1: \"sam\", 2: \"aman\", \"city\": \"jaipur\"}\n",
        "print(mydictionary[2])  # it doennot follow index it uses Key to call value\n",
        "print(mydictionary[\"city\"])\n",
        "\n",
        "mydictionary[2] = \"honey\"  # Update the value\n",
        "print(mydictionary[2])\n",
        "\n",
        "mydictionary[5] = \"Amrit\" # it will insert new value if it doesnt have key enter in []\n",
        "print(mydictionary)"
      ],
      "metadata": {
        "colab": {
          "base_uri": "https://localhost:8080/"
        },
        "id": "1rrmq5wHO2V9",
        "outputId": "1b7d4ffa-6877-4a9e-db04-2817c0b0a33c"
      },
      "execution_count": 9,
      "outputs": [
        {
          "output_type": "stream",
          "name": "stdout",
          "text": [
            "aman\n",
            "jaipur\n",
            "honey\n",
            "{1: 'sam', 2: 'honey', 'city': 'jaipur', 5: 'Amrit'}\n"
          ]
        }
      ]
    },
    {
      "cell_type": "code",
      "source": [
        "mydictionary = {1: \"sam\", 2: \"aman\", \"city\": \"jaipur\"}\n",
        "\n",
        "help(mydictionary)  # to find all the datatype function we can use on dictionary"
      ],
      "metadata": {
        "id": "yobfZlvyPKZE"
      },
      "execution_count": 11,
      "outputs": []
    },
    {
      "cell_type": "code",
      "source": [
        "mydictionary = {1: \"sam\", 2: \"aman\", \"city\": \"jaipur\"}\n",
        "\n",
        "for i in mydictionary:\n",
        "  print(i, mydictionary[i])"
      ],
      "metadata": {
        "colab": {
          "base_uri": "https://localhost:8080/"
        },
        "id": "zgFar6uPQL-y",
        "outputId": "33f84f2e-2bb4-46a7-c942-85b52b440fd4"
      },
      "execution_count": 12,
      "outputs": [
        {
          "output_type": "stream",
          "name": "stdout",
          "text": [
            "1 sam\n",
            "2 aman\n",
            "city jaipur\n"
          ]
        }
      ]
    },
    {
      "cell_type": "code",
      "source": [
        "mydictionary = {1: \"sam\", 2: \"aman\", \"city\": \"jaipur\"}\n",
        "\n",
        "for i in mydictionary.keys(): # it will print only keys\n",
        "  print(i)\n",
        "\n",
        "print(\"\")\n",
        "\n",
        "for i in mydictionary.values(): # it will print only values\n",
        "  print(i)\n",
        "\n",
        "print(\"\")\n",
        "\n",
        "for i in mydictionary.items(): # it will print both key and values in tuples form\n",
        "  print(i)\n",
        "\n",
        "print(\"\")\n",
        "\n",
        "for i in mydictionary.items(): # it will print both key and values in tuples form\n",
        "  print(i, i[0])   # 0 will print key , 1 will print values"
      ],
      "metadata": {
        "colab": {
          "base_uri": "https://localhost:8080/"
        },
        "id": "GD6RoGmEQ2tG",
        "outputId": "2713b93f-94bb-410c-b38b-590241962b3e"
      },
      "execution_count": 27,
      "outputs": [
        {
          "output_type": "stream",
          "name": "stdout",
          "text": [
            "1\n",
            "2\n",
            "city\n",
            "\n",
            "sam\n",
            "aman\n",
            "jaipur\n",
            "\n",
            "(1, 'sam')\n",
            "(2, 'aman')\n",
            "('city', 'jaipur')\n",
            "\n",
            "(1, 'sam') 1\n",
            "(2, 'aman') 2\n",
            "('city', 'jaipur') city\n"
          ]
        }
      ]
    },
    {
      "cell_type": "code",
      "source": [
        "# in tuple\n",
        "\n",
        "x= (10,20)\n",
        "a=x[0]\n",
        "b=x[1]\n",
        "print(a,b)\n",
        "\n",
        "# Short way to assign value\n",
        "\n",
        "x= (10,20,30)\n",
        "a,b,c = x    # tuple unpacking\n",
        "print(a,b,c)"
      ],
      "metadata": {
        "colab": {
          "base_uri": "https://localhost:8080/"
        },
        "id": "TAz2uPgRQ98h",
        "outputId": "2b4c6b08-b498-4df1-f6af-57cc6a79d023"
      },
      "execution_count": 24,
      "outputs": [
        {
          "output_type": "stream",
          "name": "stdout",
          "text": [
            "10 20\n",
            "10 20 30\n"
          ]
        }
      ]
    },
    {
      "cell_type": "code",
      "source": [
        "mydict = {\"x\" : 100}\n",
        "mydict[\"x\"] += 50\n",
        "print(mydict)"
      ],
      "metadata": {
        "colab": {
          "base_uri": "https://localhost:8080/"
        },
        "id": "YsDEbZZlSHE-",
        "outputId": "f3318db2-8107-41c7-b320-f1e3562f25b3"
      },
      "execution_count": 28,
      "outputs": [
        {
          "output_type": "stream",
          "name": "stdout",
          "text": [
            "{'x': 150}\n"
          ]
        }
      ]
    },
    {
      "cell_type": "code",
      "source": [
        "mydict = {\"count\" : 0}\n",
        "str1= \"hello\"\n",
        "\n",
        "for i in str1:\n",
        "  mydict[\"count\"] +=1\n",
        "\n",
        "print(mydict)"
      ],
      "metadata": {
        "colab": {
          "base_uri": "https://localhost:8080/"
        },
        "id": "TipZXYpFS_Lq",
        "outputId": "a5ebed65-da44-4021-a587-52b5af7b6f5f"
      },
      "execution_count": 31,
      "outputs": [
        {
          "output_type": "stream",
          "name": "stdout",
          "text": [
            "{'count': 5}\n"
          ]
        }
      ]
    },
    {
      "cell_type": "code",
      "source": [
        "mydict = {\"count\" : 0}\n",
        "str1= \"hello heyadf\"\n",
        "\n",
        "for i in range(0,len(str1)):\n",
        "  if(str1[i] in 'aeiou'):\n",
        "    mydict[\"count\"] +=1\n",
        "\n",
        "print(mydict)"
      ],
      "metadata": {
        "colab": {
          "base_uri": "https://localhost:8080/"
        },
        "id": "JIAuso8CTWKR",
        "outputId": "0897d347-5f29-44ad-8908-f34a71791944"
      },
      "execution_count": 34,
      "outputs": [
        {
          "output_type": "stream",
          "name": "stdout",
          "text": [
            "{'count': 4}\n"
          ]
        }
      ]
    },
    {
      "cell_type": "code",
      "source": [
        "mydict = {}\n",
        "str1= \"hey\"\n",
        "\n",
        "for i in str1:\n",
        "    mydict[i] = 1\n",
        "\n",
        "print(mydict)"
      ],
      "metadata": {
        "colab": {
          "base_uri": "https://localhost:8080/"
        },
        "id": "B83TWPLwUcob",
        "outputId": "f2ba41b1-240c-4acc-a4f4-743fb7f9c45c"
      },
      "execution_count": 36,
      "outputs": [
        {
          "output_type": "stream",
          "name": "stdout",
          "text": [
            "{'h': 1, 'e': 1, 'y': 1}\n"
          ]
        }
      ]
    },
    {
      "cell_type": "code",
      "source": [
        "# wap to add value in dict. and if the character repeat the add in same value its repition\n",
        "\n",
        "mydict = {}\n",
        "str1= \"heeey\"\n",
        "\n",
        "for i in str1:\n",
        "  if i not in mydict:\n",
        "    mydict[i] = 1\n",
        "  else:\n",
        "    mydict[i] += 1\n",
        "\n",
        "print(mydict)"
      ],
      "metadata": {
        "colab": {
          "base_uri": "https://localhost:8080/"
        },
        "id": "qYiy_jTbVDg7",
        "outputId": "ceff08f7-307c-4118-a1db-9bd27b641424"
      },
      "execution_count": 38,
      "outputs": [
        {
          "output_type": "stream",
          "name": "stdout",
          "text": [
            "{'h': 1, 'e': 3, 'y': 1}\n"
          ]
        }
      ]
    },
    {
      "cell_type": "code",
      "source": [
        "mydict = {}\n",
        "str1= \"heeey heaaeio\"\n",
        "\n",
        "for i in str1:\n",
        "  if(i in 'aeiou'):\n",
        "    if i not in mydict:\n",
        "      mydict[i] = 1\n",
        "    else:\n",
        "      mydict[i] += 1\n",
        "\n",
        "print(mydict)"
      ],
      "metadata": {
        "colab": {
          "base_uri": "https://localhost:8080/"
        },
        "id": "qxQNZ5yXV7Ox",
        "outputId": "f7c3f3bf-eba8-4057-9d3f-606b5ed073e6"
      },
      "execution_count": 41,
      "outputs": [
        {
          "output_type": "stream",
          "name": "stdout",
          "text": [
            "{'e': 5, 'a': 2, 'i': 1, 'o': 1}\n"
          ]
        }
      ]
    },
    {
      "cell_type": "code",
      "source": [
        "list1 = [1,2,3,7,11,13]\n",
        "mydict = {}\n",
        "k=9\n",
        "\n",
        "for i in range(0,len(list1)):\n",
        "  mydict[list1[i]] = i\n",
        "\n",
        "print(mydict)\n",
        "\n",
        "for j in list1:\n",
        "  if k-j in mydict:\n",
        "    print(j,k-j)\n"
      ],
      "metadata": {
        "colab": {
          "base_uri": "https://localhost:8080/"
        },
        "id": "UV065DAbWv3h",
        "outputId": "8cb5788d-aba1-4284-ba8c-9ac84229ed7e"
      },
      "execution_count": 54,
      "outputs": [
        {
          "output_type": "stream",
          "name": "stdout",
          "text": [
            "{1: 0, 2: 1, 3: 2, 7: 3, 11: 4, 13: 5}\n",
            "2 7\n",
            "7 2\n"
          ]
        }
      ]
    },
    {
      "cell_type": "code",
      "source": [],
      "metadata": {
        "id": "YTEAWRuTYyre"
      },
      "execution_count": null,
      "outputs": []
    }
  ]
}