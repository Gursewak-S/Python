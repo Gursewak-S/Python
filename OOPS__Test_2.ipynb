{
  "nbformat": 4,
  "nbformat_minor": 0,
  "metadata": {
    "colab": {
      "provenance": [],
      "authorship_tag": "ABX9TyNf4QU2WF4X3Fol7WzK5d5i",
      "include_colab_link": true
    },
    "kernelspec": {
      "name": "python3",
      "display_name": "Python 3"
    },
    "language_info": {
      "name": "python"
    }
  },
  "cells": [
    {
      "cell_type": "markdown",
      "metadata": {
        "id": "view-in-github",
        "colab_type": "text"
      },
      "source": [
        "<a href=\"https://colab.research.google.com/github/Gursewak-S/Python/blob/main/OOPS__Test_2.ipynb\" target=\"_parent\"><img src=\"https://colab.research.google.com/assets/colab-badge.svg\" alt=\"Open In Colab\"/></a>"
      ]
    },
    {
      "cell_type": "markdown",
      "source": [
        "Case Study 1: Student Management System\n",
        "\n",
        "Problem Statement:\n",
        "Create a system to store student details and display their information.\n",
        "Requirements:\n",
        "\n",
        " Define a class Student with attributes: name, roll_number, and grade.\n",
        "\n",
        " Create methods to:\n",
        "\n",
        " display_details(): Print student details.\n",
        " update_grade(new_grade): Update the student&#39;s grade."
      ],
      "metadata": {
        "id": "axUIRYTGGkHL"
      }
    },
    {
      "cell_type": "code",
      "source": [
        "class Student:\n",
        "  def __init__(self,name,roll_number,grade):\n",
        "    self.name=name\n",
        "    self.roll_number=roll_number\n",
        "    self.grade=grade\n",
        "\n",
        "  def display_details(self):\n",
        "    print(f\"Name:{self.name}\")\n",
        "    print(f\"Roll Number:{self.roll_number}\")\n",
        "    print(f\"Grade:{self.grade}\")\n",
        "\n",
        "  def update_grade(self,new_grade):\n",
        "    self.grade=new_grade\n",
        "    print(f\"Grade Updated Successfully!\")\n",
        "    print(f\"Updated Grade:{self.grade}\")\n",
        "\n",
        "s1 = Student(\"Sam\",18,\"C\")\n",
        "s1.display_details()\n",
        "s1.update_grade(\"D\")"
      ],
      "metadata": {
        "colab": {
          "base_uri": "https://localhost:8080/"
        },
        "id": "kFaiRSFfGs9H",
        "outputId": "c19c5fdd-9ec6-4078-f45c-11c3f9f04fc7"
      },
      "execution_count": 4,
      "outputs": [
        {
          "output_type": "stream",
          "name": "stdout",
          "text": [
            "Name:Sam\n",
            "Roll Number:18\n",
            "Grade:C\n",
            "Grade Updated Successfully!\n",
            "Updated Grade:D\n"
          ]
        }
      ]
    },
    {
      "cell_type": "markdown",
      "source": [
        "Case Study 2: Car Showroom\n",
        "\n",
        "Problem Statement:\n",
        "\n",
        "Develop a system to manage cars in a showroom.\n",
        "\n",
        "Requirements:\n",
        " Define a class Car with attributes: brand, model, price.\n",
        "\n",
        " Implement methods:\n",
        "\n",
        " display_info(): Show car details.\n",
        "\n",
        " apply_discount(discount): Reduce price based on the discount percentage."
      ],
      "metadata": {
        "id": "qaOh94FmGuIw"
      }
    },
    {
      "cell_type": "code",
      "source": [
        "class Car:\n",
        "    def __init__(self,brand,model,price):\n",
        "        self.brand=brand\n",
        "        self.model=model\n",
        "        self.price=price\n",
        "    def display_info(self):\n",
        "        print(f\"Brand:{self.brand}\")\n",
        "        print(f\"Model:{self.model}\")\n",
        "        print(f\"Price:{self.price}\")\n",
        "\n",
        "    def apply_discount(self,discount):\n",
        "        d=self.price*(discount/100)\n",
        "        print(f\"Discount Percent:{discount}%\")\n",
        "        print(f\"Discount:{d}\")\n",
        "        print(f\"After discount price:{self.price-d}\")\n",
        "\n",
        "\n",
        "c1=Car(\"Tata\",\"Xuv\",500000)\n",
        "c1.display_info()\n",
        "c1.apply_discount(20)"
      ],
      "metadata": {
        "colab": {
          "base_uri": "https://localhost:8080/"
        },
        "id": "RFYdY2J8G4g_",
        "outputId": "53f09dd9-f315-4ed5-aa83-5978f160e79e"
      },
      "execution_count": 7,
      "outputs": [
        {
          "output_type": "stream",
          "name": "stdout",
          "text": [
            "Brand:Tata\n",
            "Model:Xuv\n",
            "Price:500000\n",
            "Discount Percent:20%\n",
            "Discount:100000.0\n",
            "After discount price:400000.0\n"
          ]
        }
      ]
    },
    {
      "cell_type": "markdown",
      "source": [
        "Case Study 3: Simple Calculator\n",
        "\n",
        "Problem Statement:\n",
        "\n",
        "Create a basic calculator that performs arithmetic operations.\n",
        "\n",
        "Requirements:\n",
        "\n",
        "Define a class Calculator with methods:\n",
        "\n",
        "add(a, b), subtract(a, b), multiply(a, b), divide(a, b).\n",
        "\n",
        "Ensure division by zero is handled properly."
      ],
      "metadata": {
        "id": "GKsGeQ8zG5A_"
      }
    },
    {
      "cell_type": "code",
      "source": [
        "class Calculator:\n",
        "    def __init__(self,a,b):\n",
        "        self.a=a\n",
        "        self.b=b\n",
        "    def add(self):\n",
        "        return a+b\n",
        "    def sub(self):\n",
        "        return a-b\n",
        "    def multi(self):\n",
        "        return a*b\n",
        "    def divide(self):\n",
        "        if b==0:\n",
        "            return \"Invalid input\"\n",
        "        else:\n",
        "            return a/b\n",
        "\n",
        "a=int(input(\"Enter first number:\"))\n",
        "b=int(input(\"Enter second number:\"))\n",
        "c=int(input(\"Enter method: 1.Add  2.sub  3.multi  4.divide\"))\n",
        "num=Calculator(a,b)\n",
        "if c==1:\n",
        "    print(num.add())\n",
        "elif c==2:\n",
        "    print(num.sub())\n",
        "elif c==3:\n",
        "    print(num.multi())\n",
        "elif c==4:\n",
        "    print(num.divide())\n",
        "else:\n",
        "    print(\"Wrong Input\")"
      ],
      "metadata": {
        "colab": {
          "base_uri": "https://localhost:8080/"
        },
        "id": "dSV2vQm0G-CZ",
        "outputId": "ac072de8-6a14-4184-f97f-99d48e0f23a7"
      },
      "execution_count": 5,
      "outputs": [
        {
          "output_type": "stream",
          "name": "stdout",
          "text": [
            "Enter first number:2\n",
            "Enter second number:5\n",
            "Enter method: 1.Add  2.sub  3.multi  4.divide1\n",
            "7\n"
          ]
        }
      ]
    },
    {
      "cell_type": "markdown",
      "source": [
        "Case Study 4: Movie Ticket Booking System\n",
        "\n",
        "Problem Statement:\n",
        "\n",
        "Build a basic movie ticket booking system.\n",
        "\n",
        "Requirements:\n",
        "\n",
        "Define a class Movie with attributes: name, available_seats.\n",
        "\n",
        "Implement methods:\n",
        "\n",
        "book_ticket(num_seats): Deduct seats if available.\n",
        "\n",
        "show_details(): Display movie name and available seats."
      ],
      "metadata": {
        "id": "StQ7D0mpG-26"
      }
    },
    {
      "cell_type": "code",
      "source": [
        "class Movie:\n",
        "  def __init__(self,name,available_seats):\n",
        "    self.name = name\n",
        "    self.available_seats = available_seats\n",
        "\n",
        "  def show_details(self):\n",
        "    print(\"Movie name: \", self.name)\n",
        "    print(\"Available Seats: \", self.available_seats)\n",
        "\n",
        "  def book_ticket(self,num_seats):\n",
        "    if(num_seats > self.available_seats):\n",
        "      print(\"Not having Enough seats\")\n",
        "    elif(num_seats<0):\n",
        "      print(\"Enter Correct no of seats\")\n",
        "    else:\n",
        "      self.available_seats = self.available_seats - num_seats\n",
        "      print(\"Seat book Successfully\")\n",
        "\n",
        "M = Movie(\"Ironman\", 20)\n",
        "M.show_details()\n",
        "M.book_ticket(5)\n",
        "M.show_details()"
      ],
      "metadata": {
        "colab": {
          "base_uri": "https://localhost:8080/"
        },
        "id": "-Soyu-6GHDlm",
        "outputId": "2642c149-078a-40fe-90df-6b07d0f1d42d"
      },
      "execution_count": 1,
      "outputs": [
        {
          "output_type": "stream",
          "name": "stdout",
          "text": [
            "Movie name:  Ironman\n",
            "Available Seats:  20\n",
            "Seat book Successfully\n",
            "Movie name:  Ironman\n",
            "Available Seats:  15\n"
          ]
        }
      ]
    }
  ]
}