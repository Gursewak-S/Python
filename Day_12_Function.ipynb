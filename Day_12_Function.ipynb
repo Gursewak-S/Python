{
  "nbformat": 4,
  "nbformat_minor": 0,
  "metadata": {
    "colab": {
      "provenance": [],
      "authorship_tag": "ABX9TyNl3Erj4cXmIsPfhRn59DRx",
      "include_colab_link": true
    },
    "kernelspec": {
      "name": "python3",
      "display_name": "Python 3"
    },
    "language_info": {
      "name": "python"
    }
  },
  "cells": [
    {
      "cell_type": "markdown",
      "metadata": {
        "id": "view-in-github",
        "colab_type": "text"
      },
      "source": [
        "<a href=\"https://colab.research.google.com/github/Gursewak-S/Python/blob/main/Day_12_Function.ipynb\" target=\"_parent\"><img src=\"https://colab.research.google.com/assets/colab-badge.svg\" alt=\"Open In Colab\"/></a>"
      ]
    },
    {
      "cell_type": "code",
      "execution_count": null,
      "metadata": {
        "id": "PRPkveO7tas7"
      },
      "outputs": [],
      "source": [
        "# Function\n",
        "# Block of Code\n",
        "# We can use it for converting your Code into smaller portion of code\n",
        "# help in reusability\n",
        "# debugging"
      ]
    },
    {
      "cell_type": "code",
      "source": [
        "def hello():  # function created\n",
        "  z=\"sam\"\n",
        "  print(\"hello World\")\n",
        "  print(\"hey\", z)\n",
        "\n",
        "hello()  # function call\n",
        "# print(z) # We cannot call this bcs its local variable"
      ],
      "metadata": {
        "colab": {
          "base_uri": "https://localhost:8080/"
        },
        "id": "lFycukkVvOW9",
        "outputId": "761953ab-ba77-42c6-8689-d40ce89cd500"
      },
      "execution_count": null,
      "outputs": [
        {
          "output_type": "stream",
          "name": "stdout",
          "text": [
            "hello World\n",
            "hey sam\n"
          ]
        }
      ]
    },
    {
      "cell_type": "code",
      "source": [
        "def hello(z):  # z => parameter\n",
        "  print(\"hey\", z)\n",
        "\n",
        "hello(\"Amrit\")  # Amrit is argument\n",
        "hello(\"anmol\")"
      ],
      "metadata": {
        "colab": {
          "base_uri": "https://localhost:8080/"
        },
        "id": "-vmqeUSeva6F",
        "outputId": "0a17f918-e1e8-4bb6-885d-dfaa1d7c39ef"
      },
      "execution_count": null,
      "outputs": [
        {
          "output_type": "stream",
          "name": "stdout",
          "text": [
            "hey Amrit\n",
            "hey anmol\n"
          ]
        }
      ]
    },
    {
      "cell_type": "code",
      "source": [
        "xGlobal = 10\n",
        "\n",
        "def hi():\n",
        "  print(\"hi\", xGlobal)\n",
        "\n",
        "hi()\n",
        "print(xGlobal) # its Global variable"
      ],
      "metadata": {
        "colab": {
          "base_uri": "https://localhost:8080/"
        },
        "id": "TGb_uAmgxWMc",
        "outputId": "7cb2db65-dff9-4bf6-9ff5-2ce8a6aaf914"
      },
      "execution_count": null,
      "outputs": [
        {
          "output_type": "stream",
          "name": "stdout",
          "text": [
            "hi 10\n",
            "10\n"
          ]
        }
      ]
    },
    {
      "cell_type": "code",
      "source": [
        "xGlobal = 10\n",
        "\n",
        "def hi():\n",
        "  xGlobal = \"abc\" # now is local bcs changes made inside function/ local\n",
        "\n",
        "  print(\"hi\", xGlobal)\n",
        "\n",
        "hi()\n",
        "print(xGlobal)"
      ],
      "metadata": {
        "colab": {
          "base_uri": "https://localhost:8080/"
        },
        "id": "nuigr-QGycxv",
        "outputId": "c5f88a77-324d-4c33-9403-f4eaa4b6c602"
      },
      "execution_count": null,
      "outputs": [
        {
          "output_type": "stream",
          "name": "stdout",
          "text": [
            "hi abc\n",
            "10\n"
          ]
        }
      ]
    },
    {
      "cell_type": "code",
      "source": [
        "x = 10 #Global variable\n",
        "\n",
        "def hi():\n",
        "  global x # this will now change the value of x Globally\n",
        "  x=\"abc\"\n",
        "  print(\"hi\", x)\n",
        "\n",
        "hi()\n",
        "print(x)"
      ],
      "metadata": {
        "colab": {
          "base_uri": "https://localhost:8080/"
        },
        "id": "5PRtjeL3y2Xj",
        "outputId": "6693f59e-061a-48d9-9f6c-f349f8a761af"
      },
      "execution_count": null,
      "outputs": [
        {
          "output_type": "stream",
          "name": "stdout",
          "text": [
            "hi abc\n",
            "abc\n"
          ]
        }
      ]
    },
    {
      "cell_type": "code",
      "source": [
        "# Valid paranthesis .... Try with dict\n",
        "# number to roman leetcode\n",
        "# list Comprehension\n",
        "# dict Comprehension"
      ],
      "metadata": {
        "id": "Vl4n2hYTzgeK"
      },
      "execution_count": null,
      "outputs": []
    },
    {
      "cell_type": "code",
      "source": [
        "# Valid paranthesis .... Try with dict\n",
        "\n",
        "\n"
      ],
      "metadata": {
        "id": "Gx9fFn32C3-z"
      },
      "execution_count": 1,
      "outputs": []
    },
    {
      "cell_type": "code",
      "source": [
        "# if we pass any global variable to func an change made inside function doesnt affect global variable"
      ],
      "metadata": {
        "id": "H5U3nwe_DW2_"
      },
      "execution_count": 2,
      "outputs": []
    },
    {
      "cell_type": "code",
      "source": [
        "def func(num1): #num_local=num\n",
        "  num1. append (30)\n",
        "\n",
        "#----------------------------\n",
        "num= [10,20]  # list is mutable so any change made in any function it will also change in global\n",
        "func (num)\n",
        "print (\"new num:\", num)"
      ],
      "metadata": {
        "colab": {
          "base_uri": "https://localhost:8080/"
        },
        "id": "SwwZLPO3uPu5",
        "outputId": "ecdb524b-4260-4254-ac14-7a5d953321d9"
      },
      "execution_count": 3,
      "outputs": [
        {
          "output_type": "stream",
          "name": "stdout",
          "text": [
            "new num: [10, 20, 30]\n"
          ]
        }
      ]
    },
    {
      "cell_type": "code",
      "source": [
        "def func(x,y,z):\n",
        "  print(\"x:\",x, \"y:\",y, \"z:\",z)\n",
        "\n",
        "func(10,20,30) # required argument\n",
        "\n",
        "func(30,21.22,10)   # 1st check required argument then check positional argument"
      ],
      "metadata": {
        "colab": {
          "base_uri": "https://localhost:8080/"
        },
        "id": "ZfYPEknuyXun",
        "outputId": "554967ff-00d3-45dd-ebb9-bef3a1107592"
      },
      "execution_count": 18,
      "outputs": [
        {
          "output_type": "stream",
          "name": "stdout",
          "text": [
            "x: 10 y: 20 z: 30\n",
            "x: 30 y: 21.22 z: 10\n"
          ]
        }
      ]
    },
    {
      "cell_type": "code",
      "source": [
        "def func(x,y,z):\n",
        "  print(\"x:\",x, \"y:\",y, \"z:\",z)\n",
        "\n",
        "func(z = 30, y=21.22,x=10)  # Keyword argument\n",
        "\n",
        "# If we use positional and Keyword argument both at same so we have to write positional argument first\n",
        "func(30, z=21.22,y=10)\n",
        "\n",
        "# func(z=30, 21.22,y=10) #SyntaxError: positional argument follows keyword argument\n"
      ],
      "metadata": {
        "colab": {
          "base_uri": "https://localhost:8080/"
        },
        "id": "cIExumhjzDDp",
        "outputId": "64f25887-d3c4-4b55-a680-d0b402a850cb"
      },
      "execution_count": 16,
      "outputs": [
        {
          "output_type": "stream",
          "name": "stdout",
          "text": [
            "x: 10 y: 21.22 z: 30\n",
            "x: 30 y: 10 z: 21.22\n"
          ]
        }
      ]
    },
    {
      "cell_type": "code",
      "source": [
        "def func(x,y,z=\"xyz\"):\n",
        "  print(\"x:\",x, \"y:\",y, \"z:\",z)\n",
        "\n",
        "func(30,y=21,z=\"abc\")  # Default argument"
      ],
      "metadata": {
        "colab": {
          "base_uri": "https://localhost:8080/"
        },
        "id": "tkMJXt7O0QPz",
        "outputId": "0d040bb4-869a-489b-e869-30a05918b145"
      },
      "execution_count": 17,
      "outputs": [
        {
          "output_type": "stream",
          "name": "stdout",
          "text": [
            "x: 30 y: 21 z: abc\n"
          ]
        }
      ]
    },
    {
      "cell_type": "code",
      "source": [
        "def prime(num):\n",
        "  x=0\n",
        "  for i in range(2,num):\n",
        "    if(num%i==0):\n",
        "      x+=1\n",
        "      break\n",
        "  if(x==1):\n",
        "    print(\"Not Prime\")\n",
        "  else:\n",
        "    print(\"Prime no\")\n",
        "\n",
        "prime(5)\n",
        "prime(8)"
      ],
      "metadata": {
        "colab": {
          "base_uri": "https://localhost:8080/"
        },
        "id": "HVuFTTu21rB5",
        "outputId": "1c4c6010-ec6c-49df-be0f-c0e526612e3c"
      },
      "execution_count": 20,
      "outputs": [
        {
          "output_type": "stream",
          "name": "stdout",
          "text": [
            "Prime no\n",
            "Not Prime\n"
          ]
        }
      ]
    },
    {
      "cell_type": "code",
      "source": [
        "def armstrong(num):\n",
        "  sum=0\n",
        "  temp=num\n",
        "  while(num>0):\n",
        "    rem = num%10\n",
        "    sum = sum+rem**3\n",
        "    num = num//10\n",
        "\n",
        "  if(sum == temp):\n",
        "    print(\"Armstrong No\")\n",
        "  else:\n",
        "    print(\"Not a Armstrong No\")\n",
        "\n",
        "armstrong(153)\n",
        "armstrong(120)"
      ],
      "metadata": {
        "colab": {
          "base_uri": "https://localhost:8080/"
        },
        "id": "ipPy4J5r3GRA",
        "outputId": "bcd9b6ed-8d71-4fda-957d-e97987482e70"
      },
      "execution_count": 34,
      "outputs": [
        {
          "output_type": "stream",
          "name": "stdout",
          "text": [
            "Armstrong No\n",
            "Not a Armstrong No\n"
          ]
        }
      ]
    },
    {
      "cell_type": "code",
      "source": [
        "def func(x):\n",
        "  print(x+20)  # print just display the output and return None datatype and we can't store it\n",
        "\n",
        "y= func(10)  #y = None\n",
        "print(y)"
      ],
      "metadata": {
        "colab": {
          "base_uri": "https://localhost:8080/"
        },
        "id": "hTntzl824bcR",
        "outputId": "251b24ba-9387-4d84-97c5-ec5ce49db6f4"
      },
      "execution_count": 38,
      "outputs": [
        {
          "output_type": "stream",
          "name": "stdout",
          "text": [
            "30\n",
            "None\n"
          ]
        }
      ]
    },
    {
      "cell_type": "code",
      "source": [
        "def func(x):\n",
        "  print(x+10)  # print just display the output and return None datatype and we can't store it\n",
        "  return \"abc\" # only retun can give value\n",
        "# return x+20 this way we can print value in y\n",
        "\n",
        "y= func(10)  #y = abc\n",
        "print(\"y:\", y)"
      ],
      "metadata": {
        "colab": {
          "base_uri": "https://localhost:8080/"
        },
        "id": "sOcAc7Ey6hpQ",
        "outputId": "48f04490-5fa1-448c-b254-691248f47ade"
      },
      "execution_count": 45,
      "outputs": [
        {
          "output_type": "stream",
          "name": "stdout",
          "text": [
            "20\n",
            "y: abc\n"
          ]
        }
      ]
    },
    {
      "cell_type": "code",
      "source": [
        "# Learning assign\n",
        "# First Class Function Vs high ordered function ........youtube\n",
        "# virtual Environment .........youtube"
      ],
      "metadata": {
        "id": "4e5tyFHR7COw"
      },
      "execution_count": null,
      "outputs": []
    },
    {
      "cell_type": "code",
      "source": [],
      "metadata": {
        "id": "LT7ibKRf8-nC"
      },
      "execution_count": 58,
      "outputs": []
    }
  ]
}