{
  "nbformat": 4,
  "nbformat_minor": 0,
  "metadata": {
    "colab": {
      "provenance": [],
      "authorship_tag": "ABX9TyO2ovFKR8eRSBk00z6X8NCF",
      "include_colab_link": true
    },
    "kernelspec": {
      "name": "python3",
      "display_name": "Python 3"
    },
    "language_info": {
      "name": "python"
    }
  },
  "cells": [
    {
      "cell_type": "markdown",
      "metadata": {
        "id": "view-in-github",
        "colab_type": "text"
      },
      "source": [
        "<a href=\"https://colab.research.google.com/github/Gursewak-S/Python/blob/main/Dictionary_Assign.ipynb\" target=\"_parent\"><img src=\"https://colab.research.google.com/assets/colab-badge.svg\" alt=\"Open In Colab\"/></a>"
      ]
    },
    {
      "cell_type": "code",
      "source": [
        "# # List Comprehension:\n",
        "\n",
        "# It is a shorter syntax when we want to create a new list from the existing list which we have.\n",
        "\n",
        "# Example:\n",
        "# existing_list=[\"apple\",\"mango\",\"banana\",\"kiwi\"]\n",
        "# new_list=[]\n",
        "# for i in existing_list:\n",
        "#    if n in i:\n",
        "#       new_list.append(i)\n",
        "# print(new_list)"
      ],
      "metadata": {
        "id": "bH7A7VKe9j5M"
      },
      "execution_count": null,
      "outputs": []
    },
    {
      "cell_type": "code",
      "source": [
        "# Dictionary comprehension:\n",
        "# Dictionary comprehension in Python is a technique for creating dictionaries using a single line of code.\n",
        "# It can also be used to transform one dictionary into another."
      ],
      "metadata": {
        "id": "UdDWYZbU9uex"
      },
      "execution_count": null,
      "outputs": []
    },
    {
      "cell_type": "code",
      "execution_count": null,
      "metadata": {
        "colab": {
          "base_uri": "https://localhost:8080/"
        },
        "id": "HFW39ECx9UE3",
        "outputId": "ed84fe56-28a3-42a7-baef-3fed88e463ac"
      },
      "outputs": [
        {
          "output_type": "stream",
          "name": "stdout",
          "text": [
            "enter string to check paranthesis{[]}\n",
            "valid\n"
          ]
        }
      ],
      "source": [
        "dict1={1:\"(\", 2:\"{\", 3:\"[\", 4:\")\", 5:\"}\", 6:\"]\"}\n",
        "a=-1\n",
        "string=input(\"enter string to check paranthesis\")\n",
        "if len(string)%2==0:\n",
        "  for i in range(0,len(string)//2):\n",
        "    if string[i] == \"(\" and string[a]==dict1[4]:\n",
        "      a-=1\n",
        "    elif string[i] == \"{\" and string[a]==dict1[5]:\n",
        "      a-=1\n",
        "    elif string[i] == \"[\" and string[a]==dict1[6]:\n",
        "      a-=1\n",
        "    else:\n",
        "      print(\"invalid\")\n",
        "      break\n",
        "  else:\n",
        "    print(\"valid\")\n",
        "else:\n",
        "    print(\"invalid\")"
      ]
    },
    {
      "cell_type": "code",
      "source": [
        "dict1={\n",
        "    1000:\"M\",\n",
        "    900:\"CM\",\n",
        "    500:\"D\",\n",
        "    400:\"CD\",\n",
        "    100:\"C\",\n",
        "    90:\"XC\",\n",
        "    50:\"L\",\n",
        "    40:\"XL\",\n",
        "    10:\"X\",\n",
        "    9:\"IX\",\n",
        "    5:\"V\",\n",
        "    4:\"IV\",\n",
        "    1:\"I\"\n",
        "}\n",
        "num=int(input(\"enter number to convert: \"))\n",
        "roman=\"\"\n",
        "for i in dict1:\n",
        "  while num>=i:\n",
        "    roman+=dict1[i]\n",
        "    num-=i\n",
        "print(roman)"
      ],
      "metadata": {
        "colab": {
          "base_uri": "https://localhost:8080/"
        },
        "id": "fPHU68gi9mAW",
        "outputId": "6db4f5e8-645f-4f5c-d78c-ae3d15127766"
      },
      "execution_count": null,
      "outputs": [
        {
          "output_type": "stream",
          "name": "stdout",
          "text": [
            "enter number to convert: 4000\n",
            "MMMM\n"
          ]
        }
      ]
    },
    {
      "cell_type": "code",
      "source": [],
      "metadata": {
        "id": "_Qk5Oj9v9zp9"
      },
      "execution_count": null,
      "outputs": []
    }
  ]
}