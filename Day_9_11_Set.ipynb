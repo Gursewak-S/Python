{
  "nbformat": 4,
  "nbformat_minor": 0,
  "metadata": {
    "colab": {
      "provenance": [],
      "authorship_tag": "ABX9TyMmglghGc8kadf/JjSIP2jK",
      "include_colab_link": true
    },
    "kernelspec": {
      "name": "python3",
      "display_name": "Python 3"
    },
    "language_info": {
      "name": "python"
    }
  },
  "cells": [
    {
      "cell_type": "markdown",
      "metadata": {
        "id": "view-in-github",
        "colab_type": "text"
      },
      "source": [
        "<a href=\"https://colab.research.google.com/github/Gursewak-S/Python/blob/main/Day_9_11_Set.ipynb\" target=\"_parent\"><img src=\"https://colab.research.google.com/assets/colab-badge.svg\" alt=\"Open In Colab\"/></a>"
      ]
    },
    {
      "cell_type": "code",
      "execution_count": 1,
      "metadata": {
        "id": "SOOt6OFbj9EJ"
      },
      "outputs": [],
      "source": [
        "# Set\n",
        "# datatype\n",
        "# Unique element\n",
        "# no index\n",
        "\n",
        "myset = ({}) #empty set"
      ]
    },
    {
      "cell_type": "code",
      "source": [
        "myset = {10,20,10,10,500,20,604}\n",
        "print(myset)"
      ],
      "metadata": {
        "colab": {
          "base_uri": "https://localhost:8080/"
        },
        "id": "tgtsYsSTkdhk",
        "outputId": "ebdc82bf-3764-4a38-8e2f-47791f3ffef2"
      },
      "execution_count": 7,
      "outputs": [
        {
          "output_type": "stream",
          "name": "stdout",
          "text": [
            "{10, 20, 500, 604}\n"
          ]
        }
      ]
    },
    {
      "cell_type": "code",
      "source": [
        "myset.add(2000)\n",
        "print(myset)"
      ],
      "metadata": {
        "colab": {
          "base_uri": "https://localhost:8080/"
        },
        "id": "uQyr5n6gkn5y",
        "outputId": "934eb0bd-9198-44f2-9f98-e8022a09436c"
      },
      "execution_count": 8,
      "outputs": [
        {
          "output_type": "stream",
          "name": "stdout",
          "text": [
            "{10, 2000, 20, 500, 604}\n"
          ]
        }
      ]
    },
    {
      "cell_type": "code",
      "source": [
        "myset.remove(200) # in remove if element is not in set it will show error so we use discard\n",
        "print(myset)"
      ],
      "metadata": {
        "colab": {
          "base_uri": "https://localhost:8080/",
          "height": 158
        },
        "id": "AAeOHvzXlFdm",
        "outputId": "0da4e882-1734-4d32-fe1e-e6e7a498e62c"
      },
      "execution_count": 10,
      "outputs": [
        {
          "output_type": "error",
          "ename": "KeyError",
          "evalue": "200",
          "traceback": [
            "\u001b[0;31m---------------------------------------------------------------------------\u001b[0m",
            "\u001b[0;31mKeyError\u001b[0m                                  Traceback (most recent call last)",
            "\u001b[0;32m<ipython-input-10-c4fc5a1ef24e>\u001b[0m in \u001b[0;36m<cell line: 0>\u001b[0;34m()\u001b[0m\n\u001b[0;32m----> 1\u001b[0;31m \u001b[0mmyset\u001b[0m\u001b[0;34m.\u001b[0m\u001b[0mremove\u001b[0m\u001b[0;34m(\u001b[0m\u001b[0;36m200\u001b[0m\u001b[0;34m)\u001b[0m\u001b[0;34m\u001b[0m\u001b[0;34m\u001b[0m\u001b[0m\n\u001b[0m\u001b[1;32m      2\u001b[0m \u001b[0mprint\u001b[0m\u001b[0;34m(\u001b[0m\u001b[0mmyset\u001b[0m\u001b[0;34m)\u001b[0m\u001b[0;34m\u001b[0m\u001b[0;34m\u001b[0m\u001b[0m\n",
            "\u001b[0;31mKeyError\u001b[0m: 200"
          ]
        }
      ]
    },
    {
      "cell_type": "code",
      "source": [
        "myset.discard(200) # it delete element and if not available it will discard the process\n",
        "print(myset)"
      ],
      "metadata": {
        "colab": {
          "base_uri": "https://localhost:8080/"
        },
        "id": "hF5n2jMZlgkf",
        "outputId": "578ca48c-5da7-49d7-e9e7-9ad29a41296a"
      },
      "execution_count": 11,
      "outputs": [
        {
          "output_type": "stream",
          "name": "stdout",
          "text": [
            "{10, 20, 500, 604}\n"
          ]
        }
      ]
    },
    {
      "cell_type": "code",
      "source": [
        "myset.pop()\n",
        "print(myset)"
      ],
      "metadata": {
        "colab": {
          "base_uri": "https://localhost:8080/"
        },
        "id": "KPOOmMyLmSY7",
        "outputId": "ad390df0-0083-4cc1-cb7c-513ce64a2dd5"
      },
      "execution_count": 18,
      "outputs": [
        {
          "output_type": "stream",
          "name": "stdout",
          "text": [
            "{40, 10, 300, 20, 500, 604}\n"
          ]
        }
      ]
    },
    {
      "cell_type": "code",
      "source": [
        "myset.update([100,300,40])\n",
        "print(myset)"
      ],
      "metadata": {
        "colab": {
          "base_uri": "https://localhost:8080/"
        },
        "id": "NA52OL72lsc3",
        "outputId": "e49e16a5-03b0-4b4e-ecff-7053863e9cac"
      },
      "execution_count": 13,
      "outputs": [
        {
          "output_type": "stream",
          "name": "stdout",
          "text": [
            "{100, 40, 10, 300, 20, 500, 604}\n"
          ]
        }
      ]
    },
    {
      "cell_type": "code",
      "source": [
        "myset ={1,2,3}\n",
        "myset2 = {4,5,6,7}\n",
        "myset.union(myset2)"
      ],
      "metadata": {
        "colab": {
          "base_uri": "https://localhost:8080/"
        },
        "id": "pVsbzliTmGk4",
        "outputId": "8b6d0685-39f9-41b6-b78f-18deb3491b7d"
      },
      "execution_count": 19,
      "outputs": [
        {
          "output_type": "execute_result",
          "data": {
            "text/plain": [
              "{1, 2, 3, 4, 5, 6, 7}"
            ]
          },
          "metadata": {},
          "execution_count": 19
        }
      ]
    },
    {
      "cell_type": "code",
      "source": [
        "myset ={1,2,3,4}\n",
        "myset2 = {3,4,6,7}\n",
        "print(myset.difference(myset2))\n",
        "print(myset, myset2)"
      ],
      "metadata": {
        "colab": {
          "base_uri": "https://localhost:8080/"
        },
        "id": "rAni4fEjm0U1",
        "outputId": "9fafcb06-a1e0-4683-8f87-9be01bb23ca9"
      },
      "execution_count": 32,
      "outputs": [
        {
          "output_type": "stream",
          "name": "stdout",
          "text": [
            "{1, 2}\n",
            "{1, 2, 3, 4} {3, 4, 6, 7}\n"
          ]
        }
      ]
    },
    {
      "cell_type": "code",
      "source": [
        "myset ={3,4,5,6}\n",
        "myset2 = {5,6,7}\n",
        "myset.difference_update(myset2)\n",
        "print(myset, myset2)"
      ],
      "metadata": {
        "colab": {
          "base_uri": "https://localhost:8080/"
        },
        "id": "VfFOb5Kum6TF",
        "outputId": "807c9320-9eb3-48b8-ef7b-154621d02620"
      },
      "execution_count": 35,
      "outputs": [
        {
          "output_type": "stream",
          "name": "stdout",
          "text": [
            "{3, 4} {5, 6, 7}\n"
          ]
        }
      ]
    },
    {
      "cell_type": "code",
      "source": [
        "# issuperset, symmetric_difference, isdisjoined"
      ],
      "metadata": {
        "id": "uFj3m04tnUvs"
      },
      "execution_count": 36,
      "outputs": []
    },
    {
      "cell_type": "code",
      "source": [
        "myset ={3,4,5,6,8,9}\n",
        "myset2 = {3,4,5,6}\n",
        "myset.issuperset(myset2)  #check if myset has all element present in myset2"
      ],
      "metadata": {
        "colab": {
          "base_uri": "https://localhost:8080/"
        },
        "id": "l38jQPHwotWA",
        "outputId": "8a496ed6-4652-48b9-974b-556a466661f3"
      },
      "execution_count": 41,
      "outputs": [
        {
          "output_type": "execute_result",
          "data": {
            "text/plain": [
              "True"
            ]
          },
          "metadata": {},
          "execution_count": 41
        }
      ]
    },
    {
      "cell_type": "code",
      "source": [
        "myset ={3,4,5,6,8,9}\n",
        "myset2 = {3,4,5,6}\n",
        "myset.symmetric_difference(myset2) #check which element is in myset and not present in myset2"
      ],
      "metadata": {
        "colab": {
          "base_uri": "https://localhost:8080/"
        },
        "id": "wjuQP4mro21e",
        "outputId": "d3e172a7-1df0-4319-dcf0-36692b9a8721"
      },
      "execution_count": 42,
      "outputs": [
        {
          "output_type": "execute_result",
          "data": {
            "text/plain": [
              "{8, 9}"
            ]
          },
          "metadata": {},
          "execution_count": 42
        }
      ]
    },
    {
      "cell_type": "code",
      "source": [
        "x = {\"apple\", \"banana\", \"cherry\"}\n",
        "y = {\"google\", \"microsoft\", \"facebook\"}\n",
        "\n",
        "z = x.isdisjoint(y) # Return True if no items in set x is present in set y:\n",
        "\n",
        "print(z)"
      ],
      "metadata": {
        "colab": {
          "base_uri": "https://localhost:8080/"
        },
        "id": "DFvHGq_epRJW",
        "outputId": "d4681f87-498c-4b30-a903-e0331d5ca4de"
      },
      "execution_count": 45,
      "outputs": [
        {
          "output_type": "stream",
          "name": "stdout",
          "text": [
            "True\n"
          ]
        }
      ]
    },
    {
      "cell_type": "code",
      "source": [
        "s1 ={3,4,5,6,8,9}\n",
        "s2 = {3,4,5,6}\n",
        "s1 = s1.intersection(s2)\n",
        "print(s1)"
      ],
      "metadata": {
        "colab": {
          "base_uri": "https://localhost:8080/"
        },
        "id": "6PBEuO-1q-WV",
        "outputId": "7fb98122-82aa-4bd8-eb62-1a2e621f0011"
      },
      "execution_count": 47,
      "outputs": [
        {
          "output_type": "stream",
          "name": "stdout",
          "text": [
            "{3, 4, 5, 6}\n"
          ]
        }
      ]
    },
    {
      "cell_type": "code",
      "source": [
        "# Python has a set of built-in methods that you can use on sets.\n",
        "\n",
        "# Method\t\t              Description\n",
        "# add()\t                \tAdds an element to the set\n",
        "# clear()\t      \t        Removes all the elements from the set\n",
        "# copy()\t \t              Returns a copy of the set\n",
        "# difference()\t        \tReturns a set containing the difference between two or more sets\n",
        "# difference_update()\t  \tRemoves the items in this set that are also included in another, specified set\n",
        "# discard()\t \t            Remove the specified item\n",
        "# intersection()\t    \t  Returns a set, that is the intersection of two other sets\n",
        "# intersection_update()\t  Removes the items in this set that are not present in other, specified set(s)\n",
        "# isdisjoint()\t \t        Returns whether two sets have a intersection or not\n",
        "# issubset()\t  \t        Returns whether another set contains this set or not\n",
        "#  \t                    \tReturns whether all items in this set is present in other, specified set(s)\n",
        "# issuperset()\t         \tReturns whether this set contains another set or not\n",
        "#  \t                    \tReturns whether all items in other, specified set(s) is present in this set\n",
        "# pop()\t \t                Removes an element from the set\n",
        "# remove()\t \t            Removes the specified element\n",
        "# symmetric_difference()  Returns a set with the symmetric differences of two sets\n",
        "# symmetric_difference_update()\t   \tInserts the symmetric differences from this set and another\n",
        "# union()\t                        \tReturn a set containing the union of sets\n",
        "# update()\t                      \tUpdate the set with the union of this set and others"
      ],
      "metadata": {
        "id": "oH9HDiLbpfBS"
      },
      "execution_count": null,
      "outputs": []
    },
    {
      "cell_type": "code",
      "source": [],
      "metadata": {
        "id": "2nQ9bKDvrl9W"
      },
      "execution_count": null,
      "outputs": []
    }
  ]
}