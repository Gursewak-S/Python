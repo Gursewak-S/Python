{
  "cells": [
    {
      "cell_type": "markdown",
      "metadata": {
        "id": "view-in-github",
        "colab_type": "text"
      },
      "source": [
        "<a href=\"https://colab.research.google.com/github/Gursewak-S/Python/blob/main/Python_Revision.ipynb\" target=\"_parent\"><img src=\"https://colab.research.google.com/assets/colab-badge.svg\" alt=\"Open In Colab\"/></a>"
      ]
    },
    {
      "cell_type": "code",
      "execution_count": null,
      "metadata": {
        "colab": {
          "base_uri": "https://localhost:8080/"
        },
        "id": "0ralCZhhayvZ",
        "outputId": "40324add-776f-45d7-dfcb-aee2756303fa"
      },
      "outputs": [
        {
          "name": "stdout",
          "output_type": "stream",
          "text": [
            "2 \n",
            "2 3 \n",
            "2 3 4 \n",
            "2 3 4 5 \n"
          ]
        }
      ],
      "source": [
        "for i in range(0,4):\n",
        "  for j in range(0,i+1):\n",
        "    print(j+2, end=\" \")\n",
        "  print(\"\")"
      ]
    },
    {
      "cell_type": "code",
      "execution_count": null,
      "metadata": {
        "colab": {
          "base_uri": "https://localhost:8080/"
        },
        "id": "FX7vUETwfZdi",
        "outputId": "5911d447-b58b-434f-b1ad-7aea423cbd6b"
      },
      "outputs": [
        {
          "name": "stdout",
          "output_type": "stream",
          "text": [
            "65 \n",
            "66 67 \n",
            "68 69 70 \n"
          ]
        }
      ],
      "source": [
        "num = 65\n",
        "for i in range(0,3):\n",
        "  for j in range(0,i+1):\n",
        "    print(num, end=\" \")\n",
        "    num+=1;\n",
        "  print(\"\")"
      ]
    },
    {
      "cell_type": "code",
      "execution_count": null,
      "metadata": {
        "colab": {
          "base_uri": "https://localhost:8080/"
        },
        "id": "TxfLAZHyf8Lu",
        "outputId": "a1b70767-dfb0-42a8-c75f-1ec43af09971"
      },
      "outputs": [
        {
          "name": "stdout",
          "output_type": "stream",
          "text": [
            "A \n",
            "B C \n",
            "D E F \n"
          ]
        }
      ],
      "source": [
        "num = 65\n",
        "for i in range(0,3):\n",
        "  for j in range(0,i+1):\n",
        "    print(chr(num), end=\" \")\n",
        "    num+=1;\n",
        "  print(\"\")"
      ]
    },
    {
      "cell_type": "code",
      "execution_count": null,
      "metadata": {
        "colab": {
          "base_uri": "https://localhost:8080/"
        },
        "id": "7CqwahY-gZJd",
        "outputId": "34c19dd6-dff0-4495-e3bc-aeab76019e4a"
      },
      "outputs": [
        {
          "name": "stdout",
          "output_type": "stream",
          "text": [
            "* * * * \n",
            "* * * \n",
            "* * \n",
            "* \n"
          ]
        }
      ],
      "source": [
        "for i in range(0,4):\n",
        "  for j in range(i,4):\n",
        "    print(\"*\", end=\" \")\n",
        "  print(\"\")"
      ]
    },
    {
      "cell_type": "code",
      "execution_count": null,
      "metadata": {
        "colab": {
          "base_uri": "https://localhost:8080/"
        },
        "id": "vY1pwFBdgyla",
        "outputId": "e81f1761-21e8-4e80-b907-b74233edc303"
      },
      "outputs": [
        {
          "name": "stdout",
          "output_type": "stream",
          "text": [
            "0 1 2 3 \n",
            "0 1 2 \n",
            "0 1 \n",
            "0 \n"
          ]
        }
      ],
      "source": [
        "for i in range(0,4):\n",
        "  num=0\n",
        "  for j in range(i,4):\n",
        "    print(num, end=\" \")\n",
        "    num+=1\n",
        "  print(\"\")"
      ]
    },
    {
      "cell_type": "code",
      "execution_count": null,
      "metadata": {
        "colab": {
          "base_uri": "https://localhost:8080/"
        },
        "id": "GuEMncxIhgX1",
        "outputId": "68dcb2c8-d661-4e0f-9819-2512911d74b2"
      },
      "outputs": [
        {
          "name": "stdout",
          "output_type": "stream",
          "text": [
            "10 11 12 13 14 \n",
            "15 16 17 18 \n",
            "19 20 21 \n",
            "22 23 \n",
            "24 \n"
          ]
        }
      ],
      "source": [
        "num= 10\n",
        "for i in range(0,5):\n",
        "  for j in range(i,5):\n",
        "    print(num, end=\" \")\n",
        "    num+=1\n",
        "  print(\"\")"
      ]
    },
    {
      "cell_type": "code",
      "execution_count": null,
      "metadata": {
        "colab": {
          "base_uri": "https://localhost:8080/"
        },
        "id": "dVMBL8DUh4Bz",
        "outputId": "8442bac4-b6de-4673-9aa7-3dc5477cf300"
      },
      "outputs": [
        {
          "name": "stdout",
          "output_type": "stream",
          "text": [
            "1 2 3 4 \n",
            "2 3 4 \n",
            "3 4 \n",
            "4 \n"
          ]
        }
      ],
      "source": [
        "num = 1\n",
        "for i in range(0,4):\n",
        "  for j in range(i,4):\n",
        "    print(num+j, end=\" \")\n",
        "  print(\"\")\n"
      ]
    },
    {
      "cell_type": "code",
      "execution_count": null,
      "metadata": {
        "colab": {
          "base_uri": "https://localhost:8080/"
        },
        "id": "6EHe1cbLildB",
        "outputId": "effa3a6f-7d5b-4ab2-f828-2a4ef330db8d"
      },
      "outputs": [
        {
          "name": "stdout",
          "output_type": "stream",
          "text": [
            "1 0 1 0 1 \n",
            "1 0 1 0 \n",
            "1 0 1 \n",
            "1 0 \n",
            "1 \n",
            "1 0 1 0 1 \n",
            "1 0 1 0 \n",
            "1 0 1 \n",
            "1 0 \n",
            "1 \n",
            "1 0 1 0 1 \n",
            "1 0 1 0 \n",
            "1 0 1 \n",
            "1 0 \n",
            "1 \n"
          ]
        }
      ],
      "source": [
        "for i in range(0,5):\n",
        "  for j in range(1,6-i):\n",
        "    print(j%2, end=\" \")\n",
        "  print(\"\")\n",
        "\n",
        "# or\n",
        "\n",
        "n=0\n",
        "for i in range(1,6):\n",
        "  for j in range(1,6-n):\n",
        "    print(j%2, end=\" \")\n",
        "  print(\"\")\n",
        "  n+=1\n",
        "\n",
        "# or\n",
        "for i in range(0,5):\n",
        "  for j in range(0,5-i):\n",
        "    print((j+1)%2, end=\" \")\n",
        "  print(\"\")"
      ]
    },
    {
      "cell_type": "code",
      "execution_count": null,
      "metadata": {
        "colab": {
          "base_uri": "https://localhost:8080/"
        },
        "id": "18QJHHbpjo6B",
        "outputId": "5ba6723f-3cb8-462d-f358-ff213ad7f800"
      },
      "outputs": [
        {
          "name": "stdout",
          "output_type": "stream",
          "text": [
            "1 0 1 0 1 \n",
            "2 0 2 0 \n",
            "3 0 3 \n",
            "4 0 \n",
            "5 \n",
            "1 0 1 0 1 \n",
            "2 0 2 0 \n",
            "3 0 3 \n",
            "4 0 \n",
            "5 \n"
          ]
        }
      ],
      "source": [
        "num = 1\n",
        "for i in range(0,5):\n",
        "  for j in range(0,5-i):\n",
        "    if(j+1)%2 == 1:\n",
        "      print(num,end=\" \")\n",
        "    else:\n",
        "      print(\"0\", end=\" \")\n",
        "  print(\"\")\n",
        "  num+=1\n",
        "\n",
        "# or\n",
        "for i in range(0,5):\n",
        "  for j in range(0,5-i):\n",
        "    if(j+1)%2 == 1:\n",
        "      print(i+1,end=\" \")\n",
        "    else:\n",
        "      print(\"0\", end=\" \")\n",
        "  print(\"\")"
      ]
    },
    {
      "cell_type": "code",
      "execution_count": null,
      "metadata": {
        "colab": {
          "base_uri": "https://localhost:8080/"
        },
        "id": "BRsb0_63nPBW",
        "outputId": "847144ee-1cdc-431d-9a46-a2b164f8b6ca"
      },
      "outputs": [
        {
          "name": "stdout",
          "output_type": "stream",
          "text": [
            "      * \n",
            "    * * \n",
            "  * * * \n",
            "* * * * \n"
          ]
        }
      ],
      "source": [
        "for i in range(0,4):\n",
        "  for s in range(i,3):\n",
        "    print(\" \", end=\" \")\n",
        "  for j in range(0,i+1):\n",
        "    print(\"*\", end=\" \")\n",
        "  print(\"\")"
      ]
    },
    {
      "cell_type": "code",
      "execution_count": null,
      "metadata": {
        "colab": {
          "base_uri": "https://localhost:8080/"
        },
        "id": "pEYXSfo9n5gu",
        "outputId": "986d53dd-0088-401d-c087-31664af30c09"
      },
      "outputs": [
        {
          "name": "stdout",
          "output_type": "stream",
          "text": [
            "* * * * * \n",
            "  * * * * \n",
            "    * * * \n",
            "      * * \n",
            "        * \n"
          ]
        }
      ],
      "source": [
        "for i in range(0,5):\n",
        "  for s in range(0,i):\n",
        "    print(\" \", end=\" \")\n",
        "  for j in range(i,5):\n",
        "    print(\"*\", end=\" \")\n",
        "  print(\"\")"
      ]
    },
    {
      "cell_type": "code",
      "execution_count": null,
      "metadata": {
        "colab": {
          "base_uri": "https://localhost:8080/"
        },
        "id": "HIULdbFWp5Yh",
        "outputId": "e2d7d07e-8ec9-4d1d-e386-ba96b5734bbf"
      },
      "outputs": [
        {
          "name": "stdout",
          "output_type": "stream",
          "text": [
            "* * * * * \n",
            "  *     * \n",
            "    *   * \n",
            "      * * \n",
            "        * \n"
          ]
        }
      ],
      "source": [
        "for i in range(0,5):\n",
        "  for s in range(0,i):\n",
        "    print(\" \", end=\" \")\n",
        "  for j in range(i,5):\n",
        "    if(i==0 or j==4 or i==j ):\n",
        "      print(\"*\", end=\" \")\n",
        "    else:\n",
        "      print(\" \", end=\" \")\n",
        "  print(\"\")"
      ]
    },
    {
      "cell_type": "code",
      "execution_count": null,
      "metadata": {
        "colab": {
          "base_uri": "https://localhost:8080/"
        },
        "id": "xVIAJcRWq8KA",
        "outputId": "9390093b-64c5-46a7-cf6b-cc2088c64e45"
      },
      "outputs": [
        {
          "name": "stdout",
          "output_type": "stream",
          "text": [
            "* * * * * \n",
            "*     * \n",
            "*   * \n",
            "* * \n",
            "* \n"
          ]
        }
      ],
      "source": [
        "for i in range(0,5):\n",
        "  for j in range(i,5):\n",
        "    if(i==0 or j==4 or i==j ):\n",
        "      print(\"*\", end=\" \")\n",
        "    else:\n",
        "      print(\" \", end=\" \")\n",
        "  print(\"\")"
      ]
    },
    {
      "cell_type": "code",
      "execution_count": null,
      "metadata": {
        "colab": {
          "base_uri": "https://localhost:8080/"
        },
        "id": "nl5llhc1sPWw",
        "outputId": "89ec1301-0dd4-4ab8-d710-9d3f34bcac70"
      },
      "outputs": [
        {
          "name": "stdout",
          "output_type": "stream",
          "text": [
            "1 2 3 4 5 \n",
            "6     9 \n",
            "10   12 \n",
            "13 14 \n",
            "15 \n"
          ]
        }
      ],
      "source": [
        "num=1\n",
        "for i in range(0,5):\n",
        "  for j in range(i,5):\n",
        "    if(i==0 or j==4 or i==j ):\n",
        "      print(num, end=\" \")\n",
        "    else:\n",
        "      print(\" \", end=\" \")\n",
        "    num+=1\n",
        "  print(\"\")\n"
      ]
    },
    {
      "cell_type": "code",
      "execution_count": null,
      "metadata": {
        "colab": {
          "base_uri": "https://localhost:8080/"
        },
        "id": "NzFggUVT_B_N",
        "outputId": "9eb12a35-0a16-4c76-b105-66568a2ff5f0"
      },
      "outputs": [
        {
          "name": "stdout",
          "output_type": "stream",
          "text": [
            "    * \n",
            "  * * * \n",
            "* * * * * \n"
          ]
        }
      ],
      "source": [
        "for i in range(0,3):\n",
        "  for s in range(0,2-i):\n",
        "    print(\" \", end=\" \")\n",
        "  for j in range(0,2*i+1):\n",
        "    print(\"*\", end=\" \")\n",
        "  print(\"\")"
      ]
    },
    {
      "cell_type": "code",
      "execution_count": null,
      "metadata": {
        "colab": {
          "base_uri": "https://localhost:8080/"
        },
        "id": "2MKSnvH3_pbX",
        "outputId": "38508fdd-14b1-4d3a-c229-7159ec0ed881"
      },
      "outputs": [
        {
          "name": "stdout",
          "output_type": "stream",
          "text": [
            "* * * * * * * \n",
            "  * * * * * \n",
            "    * * * \n",
            "      * \n"
          ]
        }
      ],
      "source": [
        "for i in range(1,8,2):\n",
        "  for s in range(1,i,2):\n",
        "    print(\" \", end=\" \")\n",
        "  for j in range(i,8):\n",
        "    print(\"*\", end=\" \")\n",
        "  print(\"\")"
      ]
    },
    {
      "cell_type": "code",
      "execution_count": null,
      "metadata": {
        "colab": {
          "base_uri": "https://localhost:8080/"
        },
        "id": "VYM-0HPQ_6OV",
        "outputId": "32089490-be69-47f8-e420-f65bee6bbdea"
      },
      "outputs": [
        {
          "name": "stdout",
          "output_type": "stream",
          "text": [
            "* * * * * * * \n",
            "  * * * * * \n",
            "    * * * \n",
            "      * \n"
          ]
        }
      ],
      "source": [
        "for i in range(4,0,-1):\n",
        "  for s in range(i,4):\n",
        "    print(\" \", end=\" \")\n",
        "  for j in range(0,2*i-1):\n",
        "    print(\"*\", end=\" \")\n",
        "  print(\"\")"
      ]
    },
    {
      "cell_type": "code",
      "execution_count": null,
      "metadata": {
        "id": "uWoM_5IBEohm"
      },
      "outputs": [],
      "source": [
        "# Swapping value method\n",
        "\n",
        "# a=10\n",
        "# b=20\n",
        "\n",
        "# 1.\n",
        "# temp = a\n",
        "# a=b\n",
        "# b= temp\n",
        "\n",
        "# 2.\n",
        "#  a,b = b,a\n",
        "\n",
        "# 3.\n",
        "# a = a+b\n",
        "# b = a-b\n",
        "# a = a-b"
      ]
    },
    {
      "cell_type": "code",
      "execution_count": null,
      "metadata": {
        "colab": {
          "base_uri": "https://localhost:8080/"
        },
        "id": "DRMtOc-ZBKfq",
        "outputId": "d36e535f-0ad8-4581-ab8f-3544ee64c5b7"
      },
      "outputs": [
        {
          "name": "stdout",
          "output_type": "stream",
          "text": [
            "Sorted List:  [80, 60, 20, 10, 9]\n"
          ]
        }
      ],
      "source": [
        "l = [10,20,60,80,9]\n",
        "\n",
        "for i in range(0,len(l)-1):\n",
        "  for j in range(i+1, len(l)):\n",
        "    if(l[i] < l[j]):\n",
        "      l[i] , l[j] = l[j], l[i]\n",
        "\n",
        "print(\"Sorted List: \",l)"
      ]
    },
    {
      "cell_type": "code",
      "execution_count": null,
      "metadata": {
        "colab": {
          "base_uri": "https://localhost:8080/"
        },
        "id": "0fNuhuZJFTrE",
        "outputId": "bc007f74-d31b-4cbd-8669-5aef74662a5e"
      },
      "outputs": [
        {
          "name": "stdout",
          "output_type": "stream",
          "text": [
            "5\n"
          ]
        }
      ],
      "source": [
        "prices = [7,1,5,3,6,4]\n",
        "\n",
        "max=0\n",
        "for i in range(0,len(prices)):\n",
        "  for j in range(1,len(prices)):\n",
        "    if(prices[j]-prices[i] > max):\n",
        "      max = prices[j]-prices[i]\n",
        "\n",
        "print(max)"
      ]
    },
    {
      "cell_type": "code",
      "execution_count": null,
      "metadata": {
        "colab": {
          "base_uri": "https://localhost:8080/"
        },
        "id": "cKjkeWn7HiUY",
        "outputId": "6664e278-3391-465a-c8cd-515362089b68"
      },
      "outputs": [
        {
          "name": "stdout",
          "output_type": "stream",
          "text": [
            "5\n"
          ]
        }
      ],
      "source": [
        "prices = [7,1,5,3,6,4]\n",
        "\n",
        "i = 0\n",
        "max = 0\n",
        "for j in range(1,len(prices)):\n",
        "    if(prices[j]-prices[i] > max):\n",
        "      max = prices[j]-prices[i]\n",
        "    elif(prices[j]<prices[i]):\n",
        "      if(i<len(prices)):\n",
        "        i +=1\n",
        "      else:\n",
        "        break;\n",
        "\n",
        "print(max)\n",
        "\n",
        "# prices = [7, 1, 5, 3, 6, 4]\n",
        "\n",
        "# min_price = float('inf')  # Initialize to a very large number\n",
        "# max_profit = 0\n",
        "\n",
        "# for price in prices:\n",
        "#     if price < min_price:\n",
        "#         min_price = price  # Update the minimum price\n",
        "#     elif price - min_price > max_profit:\n",
        "#         max_profit = price - min_price  # Calculate profit\n",
        "\n",
        "# print(max_profit)\n",
        "\n",
        "# l1=[7,1,5,3,6,4]\n",
        "# a=0\n",
        "# b=1\n",
        "# max1=0\n",
        "# while(b<len(l1)):\n",
        "#     if(l1[a]<l1[b]):\n",
        "#         profit=l1[b]-l1[a]\n",
        "#         if(profit>max1):\n",
        "#             max1=profit\n",
        "#     else:\n",
        "#         a=b\n",
        "#     b+=1\n",
        "# print(max1)"
      ]
    },
    {
      "cell_type": "code",
      "execution_count": null,
      "metadata": {
        "id": "qeLSCIrpJvD0"
      },
      "outputs": [],
      "source": [
        "# Sort the list but only with one loop\n",
        "# Two sum problem\n",
        "# +one leetcode\n",
        "# You have been given 2 list having same no of elements and you have to merge both the lsit\n",
        "  #  by removing the duplicate element but with the single loop but without zip and enamurate"
      ]
    },
    {
      "cell_type": "code",
      "execution_count": null,
      "metadata": {
        "colab": {
          "base_uri": "https://localhost:8080/"
        },
        "id": "d4IEMZnlsfv1",
        "outputId": "9ebfc1fc-1e40-4ee7-c598-e69bd9efc53b"
      },
      "outputs": [
        {
          "name": "stdout",
          "output_type": "stream",
          "text": [
            "[80, 60, 20, 10, 9]\n"
          ]
        }
      ],
      "source": [
        "# Sort the list but only with one loop\n",
        "l1=[10,20,60,80,9]\n",
        "a=0\n",
        "while(a<len(l1)-1):\n",
        "    if(l1[a]<l1[a+1]):\n",
        "      l1[a],l1[a+1]=l1[a+1],l1[a]\n",
        "      a=0\n",
        "    else:\n",
        "      a+=1\n",
        "print(l1)"
      ]
    },
    {
      "cell_type": "code",
      "execution_count": null,
      "metadata": {
        "colab": {
          "base_uri": "https://localhost:8080/"
        },
        "id": "OfelPU4cs4h6",
        "outputId": "6ca032c4-c02c-4ebf-e838-da9ca7069f22"
      },
      "outputs": [
        {
          "name": "stdout",
          "output_type": "stream",
          "text": [
            "0 1\n"
          ]
        }
      ],
      "source": [
        "# Two sum problem\n",
        "\n",
        "nums = [2,7,11,15]\n",
        "target = 9\n",
        "\n",
        "for i in range(0,len(nums)-1):\n",
        "  for j in range(i+1, len(nums)):\n",
        "    if(nums[i] + nums[j] == target):\n",
        "      print(i,j)"
      ]
    },
    {
      "cell_type": "code",
      "execution_count": null,
      "metadata": {
        "colab": {
          "base_uri": "https://localhost:8080/"
        },
        "id": "K2unNkbMu1wj",
        "outputId": "b715f747-52b0-4537-da2e-d3c3565a440e"
      },
      "outputs": [
        {
          "name": "stdout",
          "output_type": "stream",
          "text": [
            "0 1\n"
          ]
        }
      ],
      "source": [
        "nums = [2,7,11,15]\n",
        "target = 9\n",
        "\n",
        "i = 0\n",
        "j = len(nums)-1\n",
        "\n",
        "while(i<j):\n",
        "  if(nums[i] + nums[j] == target):\n",
        "    print(i,j)\n",
        "    break;\n",
        "  elif(nums[i] + nums[j] < target):\n",
        "    i+=1\n",
        "  else:\n",
        "    j-=1"
      ]
    },
    {
      "cell_type": "code",
      "execution_count": null,
      "metadata": {
        "colab": {
          "base_uri": "https://localhost:8080/"
        },
        "id": "682vctYewJzU",
        "outputId": "beb65051-3b9f-4a05-b344-34c1e3fb2a07"
      },
      "outputs": [
        {
          "name": "stdout",
          "output_type": "stream",
          "text": [
            "[1, 2, 4]\n"
          ]
        }
      ],
      "source": [
        "# +one leetcode\n",
        "digits = [1,2,3]\n",
        "n=0\n",
        "l =[]\n",
        "for i in digits:\n",
        "  n = n*10+i;\n",
        "\n",
        "n = n+1\n",
        "\n",
        "while(n>0):\n",
        "  l.append(n%10)\n",
        "  n=n//10\n",
        "\n",
        "l.reverse()\n",
        "print(l)"
      ]
    },
    {
      "cell_type": "code",
      "execution_count": null,
      "metadata": {
        "colab": {
          "base_uri": "https://localhost:8080/"
        },
        "id": "NsFW19Rqzn0e",
        "outputId": "dc40387b-919e-43b3-b0bc-cfd697846b88"
      },
      "outputs": [
        {
          "name": "stdout",
          "output_type": "stream",
          "text": [
            "[1, 2, 4]\n"
          ]
        }
      ],
      "source": [
        "digits = [1,2,3]\n",
        "str1=\"\"\n",
        "res=[]\n",
        "for i in digits:\n",
        "    str1+=str(i)\n",
        "s1=int(str1)+1\n",
        "for i in str(s1):\n",
        "    res.append(int(i))\n",
        "print(res)"
      ]
    },
    {
      "cell_type": "code",
      "execution_count": null,
      "metadata": {
        "colab": {
          "base_uri": "https://localhost:8080/"
        },
        "id": "L_dVjaWIv4W2",
        "outputId": "206fe4f9-e4a8-4be9-9534-d8423475d494"
      },
      "outputs": [
        {
          "name": "stdout",
          "output_type": "stream",
          "text": [
            "[1, 2, 3, 4, 5, 6, 7, 8]\n"
          ]
        }
      ],
      "source": [
        "# You have been given 2 list having same no of elements and you have to merge both the lsit\n",
        "#  by removing the duplicate element but with the single loop but without zip and enamurate\n",
        "\n",
        "l1 = [1, 2, 3, 4, 5]\n",
        "l2 = [4, 5, 6, 7, 8]\n",
        "\n",
        "output=[]\n",
        "\n",
        "for i in l1+l2:\n",
        "  if i not in output:\n",
        "    output.append(i)\n",
        "\n",
        "print(output)"
      ]
    },
    {
      "cell_type": "code",
      "execution_count": null,
      "metadata": {
        "colab": {
          "base_uri": "https://localhost:8080/"
        },
        "id": "QOTnQqDC0CvU",
        "outputId": "795e9e3f-1ddd-4f0e-eb43-8290ececcbc3"
      },
      "outputs": [
        {
          "name": "stdout",
          "output_type": "stream",
          "text": [
            "[[-1, -1, 2], [-1, 0, 1]]\n"
          ]
        }
      ],
      "source": [
        "# 3 Sum Problem\n",
        "\n",
        "nums = [-1,0,1,2,-1,-4]\n",
        "\n",
        "nums.sort()\n",
        "l = []\n",
        "for i in range(0,len(nums)):\n",
        "  s = i+1\n",
        "  e = len(nums)-1\n",
        "\n",
        "  # This is also called 2 pointer approach like s and e\n",
        "\n",
        "  while(s<e):\n",
        "    temp = []\n",
        "    if(nums[i] + nums[s] + nums[e] == 0):\n",
        "      temp.extend([nums[i], nums[s], nums[e]])\n",
        "      if temp not in l:\n",
        "        l.append(temp)\n",
        "      s+=1\n",
        "      e-=1\n",
        "    elif(nums[i] + nums[s] + nums[e] < 0):\n",
        "      s+=1\n",
        "    else:\n",
        "      e-=1\n",
        "\n",
        "print(l)"
      ]
    },
    {
      "cell_type": "code",
      "execution_count": null,
      "metadata": {
        "colab": {
          "base_uri": "https://localhost:8080/"
        },
        "id": "I4kQBxUaKCTx",
        "outputId": "e7621174-2e45-4996-a058-49a05a3ff859"
      },
      "outputs": [
        {
          "name": "stdout",
          "output_type": "stream",
          "text": [
            "Enter Number: 2\n",
            "[654, 521, 78, 25, 14, 10, 8, 6, 2, 1]\n",
            "2 Element is: 521\n"
          ]
        }
      ],
      "source": [
        "# [10,25,14,6,8,1,78,521,8,654,1,2,521]\n",
        "# Second higest value\n",
        "# k highest\n",
        "\n",
        "l = [10,25,14,6,8,1,78,521,8,654,1,2,521]\n",
        "\n",
        "l.sort(reverse=True)\n",
        "k = int(input(\"Enter Number: \"))\n",
        "\n",
        "i=0\n",
        "while(i<len(l)-1):\n",
        "  if(l[i] == l[i+1]):\n",
        "    l.pop(i+1)\n",
        "  else:\n",
        "    i+=1\n",
        "print(l)\n",
        "\n",
        "print(f\"{k} Element is: {l[k-1]}\")\n",
        "\n"
      ]
    },
    {
      "cell_type": "code",
      "execution_count": null,
      "metadata": {
        "colab": {
          "base_uri": "https://localhost:8080/"
        },
        "id": "BnWC4bb1ABin",
        "outputId": "45f4dd49-3be2-4d90-9b94-8e3796126dbe"
      },
      "outputs": [
        {
          "name": "stdout",
          "output_type": "stream",
          "text": [
            "Enter Any string: nitin\n",
            "Palindrome\n"
          ]
        }
      ],
      "source": [
        "# Wap to find the palindrome of String\n",
        "\n",
        "data = input(\"Enter Any string: \")\n",
        "start = 0\n",
        "end = len(data)-1\n",
        "x=0                   # Flag variable / indicator variable\n",
        "\n",
        "while(start<end):\n",
        "  if(data[start] != data[end]):\n",
        "    x+=1\n",
        "    break\n",
        "\n",
        "  start += 1\n",
        "  end -= 1\n",
        "\n",
        "if(x==0):\n",
        "  print(\"Palindrome\")\n",
        "else:\n",
        "  print(\"Not Palindrome\")"
      ]
    },
    {
      "cell_type": "code",
      "execution_count": null,
      "metadata": {
        "colab": {
          "base_uri": "https://localhost:8080/"
        },
        "id": "WrGp0n6HR4re",
        "outputId": "eddfea22-78ae-4481-904a-93e912058d0e"
      },
      "outputs": [
        {
          "name": "stdout",
          "output_type": "stream",
          "text": [
            "0 1 1 2 3 5 8 "
          ]
        }
      ],
      "source": [
        "n= 5\n",
        "n1=0\n",
        "n2=1\n",
        "print(n1,n2, end=\" \")\n",
        "for i in range(0,n):\n",
        "  n3=n1+n2\n",
        "  print(n3, end=\" \")\n",
        "  n1=n2\n",
        "  n2=n3"
      ]
    },
    {
      "cell_type": "code",
      "execution_count": null,
      "metadata": {
        "colab": {
          "base_uri": "https://localhost:8080/"
        },
        "id": "HPN2uI1S7vm6",
        "outputId": "1e88699c-27ae-41df-b155-ff2dbcbca5f7"
      },
      "outputs": [
        {
          "name": "stdout",
          "output_type": "stream",
          "text": [
            "*********\n",
            " *******\n",
            "  *****\n",
            "   ***\n",
            "    *\n",
            "   ***\n",
            "  *****\n",
            " *******\n",
            "*********\n"
          ]
        }
      ],
      "source": [
        "for i in range(1,10,2):\n",
        "  for s in range(1,i,2):\n",
        "    print(\" \",end=\"\")\n",
        "  for j in range(i,10):\n",
        "    print(\"*\",end=\"\")\n",
        "  print()\n",
        "for x in range(3,10,2):\n",
        "  for y in range(x,9,2):\n",
        "    print(\" \",end=\"\")\n",
        "  for z in range(1,x+1):\n",
        "    print(\"*\",end=\"\")\n",
        "  print()"
      ]
    },
    {
      "cell_type": "code",
      "execution_count": null,
      "metadata": {
        "colab": {
          "base_uri": "https://localhost:8080/"
        },
        "id": "6lJ7neuW_EGf",
        "outputId": "42ab11dc-f60a-4200-b070-00f3cd1e1047"
      },
      "outputs": [
        {
          "name": "stdout",
          "output_type": "stream",
          "text": [
            "1\n",
            "11\n",
            "121\n",
            "1331\n",
            "14641\n",
            "[[1], [1, 1], [1, 2, 1], [1, 3, 3, 1], [1, 4, 6, 4, 1]]\n"
          ]
        }
      ],
      "source": [
        "l = []\n",
        "for i in range(0,5):\n",
        "  temp=[]\n",
        "  for j in range(0,i+1):\n",
        "    if(j==0 or j==i):\n",
        "      print(\"1\",end=\"\")\n",
        "      temp.append(1)\n",
        "    else:\n",
        "      print(l[i-1][j-1] + l[i-1][j],end=\"\")\n",
        "      temp.append(l[i-1][j-1]+l[i-1][j])\n",
        "  l.append(temp)\n",
        "  print(\"\")\n",
        "\n",
        "print(l)\n",
        "\n",
        "# mylist=[]\n",
        "# for i in range(0,5):\n",
        "#   templist=[]\n",
        "#   for s in range(i,4):\n",
        "#     print(\" \",end=\"\")\n",
        "#   for j in range(0,i+1):\n",
        "#     if(j==0 or j==i):\n",
        "#       templist.append(1)\n",
        "#       print(\"1\",end=\" \")\n",
        "#     else:\n",
        "#       templist.append(mylist[i-1][j-1] + mylist[i-1][j])\n",
        "#       print(mylist[i-1][j-1] + mylist[i-1][j],end=\" \")\n",
        "#   mylist.append(templist)\n",
        "#   print(\"\")\n",
        "# print(mylist)"
      ]
    },
    {
      "cell_type": "code",
      "execution_count": null,
      "metadata": {
        "colab": {
          "base_uri": "https://localhost:8080/"
        },
        "id": "h2E7kn74Af9_",
        "outputId": "14bd9fba-18b4-448f-d6cf-18c429e75743"
      },
      "outputs": [
        {
          "name": "stdout",
          "output_type": "stream",
          "text": [
            "{1: 2, 3: 4, 5: 6, 7: 8, 9: 10}\n"
          ]
        }
      ],
      "source": [
        "print({x:x+1 for x in range(1,10) if x%2!=0})"
      ]
    },
    {
      "cell_type": "code",
      "execution_count": null,
      "metadata": {
        "colab": {
          "base_uri": "https://localhost:8080/"
        },
        "id": "mtLGXtbjZPZZ",
        "outputId": "6a09733a-6bd5-423b-bdb8-f545dac6cfd1"
      },
      "outputs": [
        {
          "name": "stdout",
          "output_type": "stream",
          "text": [
            "12\n",
            "12\n",
            "12\n",
            "24\n"
          ]
        }
      ],
      "source": [
        "# HCF/GCD (Greates Common divisor)\n",
        "\n",
        "a = 12\n",
        "b = 24\n",
        "\n",
        "small = min(a,b)\n",
        "print(small)\n",
        "i=1\n",
        "hcf=0\n",
        "while(i<=small):\n",
        "  if(a%i==0 and b%i==0):\n",
        "    hcf=i\n",
        "  i+=1\n",
        "\n",
        "#  using for loop\n",
        "# for i in range(1, small + 1):\n",
        "#         if a % i == 0 and b % i == 0:\n",
        "#             hcf = i\n",
        "print(hcf)\n",
        "\n",
        "# Another way with built in function\n",
        "import math\n",
        "hcf2 = math.gcd(a,b)\n",
        "print(hcf2)\n",
        "\n",
        "# Lcm\n",
        "\n",
        "lcm = (a*b)//hcf\n",
        "print(lcm)\n"
      ]
    },
    {
      "cell_type": "code",
      "execution_count": null,
      "metadata": {
        "colab": {
          "base_uri": "https://localhost:8080/"
        },
        "id": "rWe0VbsjBlr9",
        "outputId": "06601d7d-5edb-426c-df1a-66cee8eb662c"
      },
      "outputs": [
        {
          "name": "stdout",
          "output_type": "stream",
          "text": [
            "Hello World\n"
          ]
        }
      ],
      "source": [
        "s= \"hello world\"\n",
        "space = s.find(\" \")\n",
        "a = s[0:space]\n",
        "b = s[space+1:len(s)]\n",
        "\n",
        "a = a.capitalize()\n",
        "b = b.capitalize()\n",
        "s = a+\" \"+b\n",
        "print(s)"
      ]
    },
    {
      "cell_type": "code",
      "execution_count": null,
      "metadata": {
        "colab": {
          "base_uri": "https://localhost:8080/"
        },
        "id": "ZOg4yBuWDxHW",
        "outputId": "cd3643aa-cd67-40d4-f8f3-49c64df04e2c"
      },
      "outputs": [
        {
          "name": "stdout",
          "output_type": "stream",
          "text": [
            "1000 M\n",
            "500 D\n",
            "100 C\n",
            "50 L\n",
            "10 X\n",
            "9 IX\n",
            "5 V\n",
            "4 IV\n",
            "1 I\n"
          ]
        }
      ],
      "source": [
        "dict1 = {1000: 'M', 500: 'D',100 : 'C', 50: 'L', 10: 'X',9:'IX',\n",
        "                    5: 'V', 4: 'IV', 1:'I' }\n",
        "\n",
        "for i in dict1:\n",
        "  print(i, dict1[i])"
      ]
    },
    {
      "cell_type": "code",
      "execution_count": null,
      "metadata": {
        "colab": {
          "base_uri": "https://localhost:8080/"
        },
        "id": "VtHW7DDHODXy",
        "outputId": "a03fb5c9-92c5-4e4b-a81e-5551285c0d6d"
      },
      "outputs": [
        {
          "name": "stdout",
          "output_type": "stream",
          "text": [
            "Enter the num to convert into roman :1994\n",
            "MCMXCIV\n"
          ]
        }
      ],
      "source": [
        "num1=int(input(\"Enter the num to convert into roman :\"))\n",
        "dict1={1000:\"M\",900:\"CM\",500:\"D\",400:\"CD\",100:\"C\",90:\"XC\",50:\"L\",40:\"XL\",10:\"X\",9:\"IX\",5:\"V\",4:\"IV\",1:\"I\"}\n",
        "\n",
        "roman_num=\"\"\n",
        "for i in dict1:\n",
        "  while(num1>=i):\n",
        "    roman_num+=dict1[i]\n",
        "    num1-=i\n",
        "print(roman_num)"
      ]
    },
    {
      "cell_type": "code",
      "execution_count": null,
      "metadata": {
        "id": "R732iMLKPhbD"
      },
      "outputs": [],
      "source": [
        "str = \"{[()]}\"\n",
        "\n"
      ]
    },
    {
      "cell_type": "code",
      "execution_count": null,
      "metadata": {
        "colab": {
          "base_uri": "https://localhost:8080/"
        },
        "id": "qfwcrAkVXmeZ",
        "outputId": "c1b8741b-746b-4358-e48e-fed6fbc2586d"
      },
      "outputs": [
        {
          "name": "stdout",
          "output_type": "stream",
          "text": [
            "9692800 10759016\n"
          ]
        },
        {
          "data": {
            "text/plain": [
              "True"
            ]
          },
          "execution_count": 41,
          "metadata": {},
          "output_type": "execute_result"
        }
      ],
      "source": [
        "# identity operator reference to memory address\n",
        "# python store 0-256 num in cache memory\n",
        "x=256\n",
        "a=256\n",
        "a=x is a\n",
        "print(id(a),id(x))\n",
        "a"
      ]
    },
    {
      "cell_type": "code",
      "execution_count": null,
      "metadata": {
        "colab": {
          "base_uri": "https://localhost:8080/"
        },
        "id": "F4-Bs1DQXpl7",
        "outputId": "86740087-c060-46c2-cdc4-184be2e7624b"
      },
      "outputs": [
        {
          "name": "stdout",
          "output_type": "stream",
          "text": [
            "Hello Sam 90\n",
            "Hello Sam Singh\n"
          ]
        }
      ],
      "source": [
        "# type hint\n",
        "# we write z:int for understanding that give int value to z but it can be any type of data\n",
        "\n",
        "def func(z:int):  # parameter\n",
        "  print(\"Hello Sam\", z)\n",
        "\n",
        "func(90) #argument\n",
        "func(\"Singh\")"
      ]
    },
    {
      "cell_type": "code",
      "execution_count": null,
      "metadata": {
        "id": "xoMqmL_Zc27M"
      },
      "outputs": [],
      "source": [
        "# learning assign\n",
        "\n",
        "# Keyword argument\n",
        "# default argument\n",
        "# variable length arguments (*args)\n",
        "# keyword variable length arguments (*kwargs)\n",
        "# high order\n",
        "# first class"
      ]
    },
    {
      "cell_type": "code",
      "execution_count": null,
      "metadata": {
        "colab": {
          "base_uri": "https://localhost:8080/"
        },
        "id": "aunIzlDjT4Aj",
        "outputId": "65189f65-7efa-49e7-a58b-9d12edd517cf"
      },
      "outputs": [
        {
          "name": "stdout",
          "output_type": "stream",
          "text": [
            "abc\n"
          ]
        }
      ],
      "source": [
        "q = lambda x: \"abc\"\n",
        "print(q(10))"
      ]
    },
    {
      "cell_type": "code",
      "execution_count": null,
      "metadata": {
        "colab": {
          "base_uri": "https://localhost:8080/"
        },
        "id": "93j_PtZ_a5lY",
        "outputId": "4f021719-b355-435a-8517-ce114b4b7d59"
      },
      "outputs": [
        {
          "name": "stdout",
          "output_type": "stream",
          "text": [
            "hell wo\n"
          ]
        }
      ],
      "source": [
        "s = \"hell wo\"\n",
        "l = s.split(\" \")\n",
        "print(\" \".join(l))"
      ]
    },
    {
      "cell_type": "code",
      "execution_count": null,
      "metadata": {
        "colab": {
          "base_uri": "https://localhost:8080/",
          "height": 35
        },
        "id": "HVha5fXHbLqC",
        "outputId": "7865efee-626f-4047-c6f7-ff08dac65f87"
      },
      "outputs": [
        {
          "data": {
            "application/vnd.google.colaboratory.intrinsic+json": {
              "type": "string"
            },
            "text/plain": [
              "'sam'"
            ]
          },
          "execution_count": 8,
          "metadata": {},
          "output_type": "execute_result"
        }
      ],
      "source": [
        "u = lambda x: x.split(\" \")[-1]\n",
        "u(\"Hi sam\")"
      ]
    },
    {
      "cell_type": "code",
      "execution_count": null,
      "metadata": {
        "colab": {
          "base_uri": "https://localhost:8080/"
        },
        "id": "V3Que_3rbxoE",
        "outputId": "d0f27778-d703-4d21-f67d-c37b6d9000f4"
      },
      "outputs": [
        {
          "data": {
            "text/plain": [
              "[True, True, False, True, False]"
            ]
          },
          "execution_count": 17,
          "metadata": {},
          "output_type": "execute_result"
        }
      ],
      "source": [
        "a = list(map(lambda x: x%2==0 , [10,20,33,44,55]))\n",
        "a"
      ]
    },
    {
      "cell_type": "code",
      "execution_count": null,
      "metadata": {
        "colab": {
          "base_uri": "https://localhost:8080/"
        },
        "id": "2vK0PReEdbbW",
        "outputId": "f74bc0c8-64e3-4960-954e-f467cee4cef7"
      },
      "outputs": [
        {
          "output_type": "stream",
          "name": "stdout",
          "text": [
            "{10: 40, 20: 50, 300: 60}\n"
          ]
        }
      ],
      "source": [
        "# Q1\n",
        "# l1=[10,20,300]\n",
        "# l2=[40,50,60]\n",
        "# {10:40,  20:50,  300:60}\n",
        "# # note using zip and without zip\n",
        "\n",
        "l1=[10,20,300]\n",
        "l2=[40,50,60]\n",
        "\n",
        "# i = zip(l1,l2)\n",
        "# print(dict(i))\n",
        "\n",
        "dict1={}\n",
        "\n",
        "for i in range(0,len(l1)):\n",
        "  dict1[l1[i]] = l2[i]\n",
        "\n",
        "print(dict1)"
      ]
    },
    {
      "cell_type": "code",
      "execution_count": null,
      "metadata": {
        "id": "mcV_HDwHim7J",
        "colab": {
          "base_uri": "https://localhost:8080/"
        },
        "outputId": "917832ca-1dfc-4756-88f5-dc31e780cf85"
      },
      "outputs": [
        {
          "output_type": "stream",
          "name": "stdout",
          "text": [
            "Enter the score : 80\n",
            "Students who scored more then 80 is :{'Honey': 90, 'Amrit': 96, 'Aman': 85}\n"
          ]
        }
      ],
      "source": [
        "# Q2 {name: marks .. . . . .  ======>} multiple elements\n",
        "# now take a input from the user for score variable\n",
        "# - print the key who have more value then the score variable\n",
        "\n",
        "marks = {\"Sam\": 58,\"Honey\": 90,\"Manav\": 70,\"Amrit\": 96,\"Aman\": 85}\n",
        "d={}\n",
        "score = int(input(\"Enter the score : \"))\n",
        "print(f\"Students who scored more then {score} is :\", end=\"\")\n",
        "for i,j in marks.items():\n",
        "    if (j>score):\n",
        "        d[i]=j\n",
        "print(d)"
      ]
    },
    {
      "cell_type": "code",
      "execution_count": null,
      "metadata": {
        "colab": {
          "base_uri": "https://localhost:8080/"
        },
        "id": "b972XxvFWlcf",
        "outputId": "bac504cc-96a3-43e5-e86a-ad5e9fae384f"
      },
      "outputs": [
        {
          "output_type": "stream",
          "name": "stdout",
          "text": [
            "{10: 19, 11: 20}\n"
          ]
        }
      ],
      "source": [
        "# Q3 {10:19,  11:20,  13:NONE}\n",
        "# delete the key-value pair where the value is none\n",
        "\n",
        "dict1 = {10:19,  11:20,  13:None}\n",
        "\n",
        "d = {i:j for i,j in dict1.items() if j!=None}\n",
        "print(d)"
      ]
    },
    {
      "cell_type": "code",
      "execution_count": null,
      "metadata": {
        "colab": {
          "base_uri": "https://localhost:8080/"
        },
        "id": "ABeVRjkeWmYB",
        "outputId": "df79a4e3-8444-4992-8b4e-5cddc77bf521"
      },
      "outputs": [
        {
          "output_type": "stream",
          "name": "stdout",
          "text": [
            "{'x': 25, 'y': 49, 'z': 100}\n"
          ]
        }
      ],
      "source": [
        "# Q4:   {\"x\":5, \"y\":7, \"z\":10}\n",
        "# print new dictionary as square of each key {x:25, y:49,  z:100}\n",
        "\n",
        "d = {\"x\":5, \"y\":7, \"z\":10}\n",
        "square = {i:j**2 for i,j in d.items()}\n",
        "print(square)\n"
      ]
    },
    {
      "cell_type": "code",
      "execution_count": null,
      "metadata": {
        "id": "pe84qaMDWppR",
        "colab": {
          "base_uri": "https://localhost:8080/"
        },
        "outputId": "0b305be4-93cb-43c3-eb48-f17d45ce0876"
      },
      "outputs": [
        {
          "output_type": "stream",
          "name": "stdout",
          "text": [
            "{1: 1, 2: 8, 3: 27, 4: 64, 5: 125}\n"
          ]
        }
      ],
      "source": [
        "# Q5\n",
        "# create a dictionary as cube of number from 1 to 5\n",
        "# {1:1, 2:8, 3:27, 4:64, 5:125}\n",
        "# Note use only thing we have learnt\n",
        "\n",
        "cube = {i:i**3 for i in range(1,6)}\n",
        "print(cube)"
      ]
    },
    {
      "cell_type": "code",
      "execution_count": null,
      "metadata": {
        "id": "yFskzinLWpbp",
        "colab": {
          "base_uri": "https://localhost:8080/"
        },
        "outputId": "eaa5bce5-ff3a-4ddb-87a7-cb2417a34ed3"
      },
      "outputs": [
        {
          "output_type": "stream",
          "name": "stdout",
          "text": [
            "{'average': 7.3, 'max': 10}\n"
          ]
        }
      ],
      "source": [
        "# Q6 {\"x\":5, \"y\":7, \"z\":10}\n",
        "# get the ans in new dictionary {\"average\":7.3 ,   \"max\":10}\n",
        "\n",
        "d={\"x\":5, \"y\":7, \"z\":10}\n",
        "\n",
        "avg = sum(d.values())/len(d)\n",
        "maxx = sorted(d.values())[-1]\n",
        "d2={\"average\":round(avg,1),\"max\":maxx}\n",
        "print(d2)"
      ]
    },
    {
      "cell_type": "code",
      "source": [
        "def func():\n",
        "  print('hi')\n",
        "  yield \"abc\"\n",
        "  print('hey')"
      ],
      "metadata": {
        "id": "UtnRErjlja59"
      },
      "execution_count": null,
      "outputs": []
    },
    {
      "cell_type": "code",
      "source": [
        "x= func()\n",
        "next(x)"
      ],
      "metadata": {
        "colab": {
          "base_uri": "https://localhost:8080/",
          "height": 53
        },
        "id": "CI3uoUT4gQo3",
        "outputId": "8ffb03fd-e669-4045-8ebb-bef730ba45e1"
      },
      "execution_count": null,
      "outputs": [
        {
          "output_type": "stream",
          "name": "stdout",
          "text": [
            "hi\n"
          ]
        },
        {
          "output_type": "execute_result",
          "data": {
            "text/plain": [
              "'abc'"
            ],
            "application/vnd.google.colaboratory.intrinsic+json": {
              "type": "string"
            }
          },
          "metadata": {},
          "execution_count": 11
        }
      ]
    },
    {
      "cell_type": "code",
      "source": [
        "n = 10\n",
        "n1= 0\n",
        "n2= 1\n",
        "print(n1, n2, end=\" \")\n",
        "\n",
        "for i in range(1,n):\n",
        "  n3 = n1+n2\n",
        "  print(n3, end=\" \")\n",
        "  n1 = n2\n",
        "  n2= n3"
      ],
      "metadata": {
        "colab": {
          "base_uri": "https://localhost:8080/"
        },
        "id": "45OoiQD7gT98",
        "outputId": "77e84f74-7071-4e39-ff02-32ba27ee0f40"
      },
      "execution_count": null,
      "outputs": [
        {
          "output_type": "stream",
          "name": "stdout",
          "text": [
            "0 1 1 2 3 5 8 13 21 34 55 "
          ]
        }
      ]
    },
    {
      "cell_type": "code",
      "source": [
        "def fibo(n):\n",
        "    a, b =0,1\n",
        "    for i in range(n):\n",
        "        yield a\n",
        "        a, b = b, a + b\n",
        "n=10\n",
        "for num in fibo(n):\n",
        "    print(num , end = \" \")"
      ],
      "metadata": {
        "colab": {
          "base_uri": "https://localhost:8080/"
        },
        "id": "QjKikeJJj3fI",
        "outputId": "d2e4f43e-0d27-41b2-fe19-49cadb18baa2"
      },
      "execution_count": null,
      "outputs": [
        {
          "output_type": "stream",
          "name": "stdout",
          "text": [
            "0 1 1 2 3 5 8 13 21 34 "
          ]
        }
      ]
    },
    {
      "cell_type": "code",
      "source": [
        "# decorators= it is a design pattern which allows us to add a functionalaty to a object without modifing the structure\n",
        "# a is basically a pattern which is used for the behaviour of the function without changing the code"
      ],
      "metadata": {
        "id": "E64A1SLUkhLc"
      },
      "execution_count": null,
      "outputs": []
    },
    {
      "cell_type": "code",
      "source": [
        "# closer vs decorator  ****imp"
      ],
      "metadata": {
        "id": "JEqEQ93DnisI"
      },
      "execution_count": null,
      "outputs": []
    },
    {
      "cell_type": "code",
      "source": [
        "# what is closure\n",
        "# => closure is basically a func that remember the environment of outer func\n",
        "# => simple meaning => any inner func or nested func can access the var of outer func\n",
        "# lexical scope is nested value\n",
        "\n",
        "def func_add(num):\n",
        "    def add_one(n):\n",
        "        print(\"n value\",n,num)\n",
        "    return add_one\n",
        "x=func_add(1)\n",
        "x(10)"
      ],
      "metadata": {
        "id": "mUNq5bXqpo88",
        "colab": {
          "base_uri": "https://localhost:8080/"
        },
        "outputId": "d1d66dc5-06c1-4d5e-dc48-b680a5fbad5f"
      },
      "execution_count": 22,
      "outputs": [
        {
          "output_type": "stream",
          "name": "stdout",
          "text": [
            "n value 10 1\n"
          ]
        }
      ]
    },
    {
      "cell_type": "code",
      "source": [
        "def func_add(func):\n",
        "    def add_one():\n",
        "        result=func()\n",
        "        result2=result.upper()\n",
        "        # print(\"inside add_one func value => \",result2)\n",
        "        return result2\n",
        "    return add_one\n",
        "\n",
        "# normal func\n",
        "def test():\n",
        "    return \"hello AnmOL\"\n",
        "\n",
        "test=func_add(test)\n",
        "test()"
      ],
      "metadata": {
        "colab": {
          "base_uri": "https://localhost:8080/",
          "height": 35
        },
        "id": "skqm-GbgzFTv",
        "outputId": "1944a653-2547-479f-ceeb-6434cc1785f4"
      },
      "execution_count": 23,
      "outputs": [
        {
          "output_type": "execute_result",
          "data": {
            "text/plain": [
              "'HELLO ANMOL'"
            ],
            "application/vnd.google.colaboratory.intrinsic+json": {
              "type": "string"
            }
          },
          "metadata": {},
          "execution_count": 23
        }
      ]
    },
    {
      "cell_type": "code",
      "source": [
        "def func_add(func):\n",
        "    def add_one():\n",
        "        result=func()\n",
        "        result2=result.upper()\n",
        "        # print(\"inside add_one func value => \",result2)\n",
        "        return result2\n",
        "    return add_one\n",
        "\n",
        "# normal func\n",
        "\n",
        "@func_add\n",
        "def test():\n",
        "    return \"hello AnmOL\"\n",
        "\n",
        "test()"
      ],
      "metadata": {
        "id": "Fb7NF_CstAl-",
        "colab": {
          "base_uri": "https://localhost:8080/",
          "height": 35
        },
        "outputId": "ead0c226-652d-4333-a9aa-947c1b759e1f"
      },
      "execution_count": 24,
      "outputs": [
        {
          "output_type": "execute_result",
          "data": {
            "text/plain": [
              "'HELLO ANMOL'"
            ],
            "application/vnd.google.colaboratory.intrinsic+json": {
              "type": "string"
            }
          },
          "metadata": {},
          "execution_count": 24
        }
      ]
    },
    {
      "cell_type": "code",
      "source": [
        "# learning assignemnt\n",
        "# decorator generator function\n",
        "# what is closure\n",
        "# diff b/w closure and decorators"
      ],
      "metadata": {
        "id": "4vlzV8kzzIP9"
      },
      "execution_count": null,
      "outputs": []
    }
  ],
  "metadata": {
    "colab": {
      "provenance": [],
      "authorship_tag": "ABX9TyMWoUf86fQC+Ou08h9F3Ada",
      "include_colab_link": true
    },
    "kernelspec": {
      "display_name": "Python 3",
      "name": "python3"
    },
    "language_info": {
      "name": "python"
    }
  },
  "nbformat": 4,
  "nbformat_minor": 0
}