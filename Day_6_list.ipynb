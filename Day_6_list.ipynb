{
  "nbformat": 4,
  "nbformat_minor": 0,
  "metadata": {
    "colab": {
      "provenance": [],
      "authorship_tag": "ABX9TyOb+JRihuLpAbULiu6Dg3Aj",
      "include_colab_link": true
    },
    "kernelspec": {
      "name": "python3",
      "display_name": "Python 3"
    },
    "language_info": {
      "name": "python"
    }
  },
  "cells": [
    {
      "cell_type": "markdown",
      "metadata": {
        "id": "view-in-github",
        "colab_type": "text"
      },
      "source": [
        "<a href=\"https://colab.research.google.com/github/Gursewak-S/Python/blob/main/Day_6_list.ipynb\" target=\"_parent\"><img src=\"https://colab.research.google.com/assets/colab-badge.svg\" alt=\"Open In Colab\"/></a>"
      ]
    },
    {
      "cell_type": "code",
      "execution_count": null,
      "metadata": {
        "colab": {
          "base_uri": "https://localhost:8080/"
        },
        "id": "Qn4NhMFFhixV",
        "outputId": "2b6bc72c-b28a-4a6a-c5c8-801325143591"
      },
      "outputs": [
        {
          "output_type": "stream",
          "name": "stdout",
          "text": [
            "<class 'list'>\n"
          ]
        }
      ],
      "source": [
        "# List Datatype\n",
        "# Collection of element\n",
        "# stored based on index position\n",
        "# list mutuable database\n",
        "#  sequence datatype\n",
        "\n",
        "x=[10,20,30,\"hey\",100.1]\n",
        "print(type(x))"
      ]
    },
    {
      "cell_type": "code",
      "source": [
        "mylist=[10,20,30,\"hey\",100.1]\n",
        "print(mylist[0])"
      ],
      "metadata": {
        "colab": {
          "base_uri": "https://localhost:8080/"
        },
        "id": "UBmjKtnTiBu_",
        "outputId": "662d2394-1ebd-4153-c4dc-2ac0628993e4"
      },
      "execution_count": null,
      "outputs": [
        {
          "output_type": "stream",
          "name": "stdout",
          "text": [
            "10\n"
          ]
        }
      ]
    },
    {
      "cell_type": "code",
      "source": [
        "mylist=[10,20,30,\"hey\",100.1]\n",
        "print(mylist[1:5])"
      ],
      "metadata": {
        "colab": {
          "base_uri": "https://localhost:8080/"
        },
        "id": "RYFIYEhDiMBS",
        "outputId": "e38ee4e7-c2e0-4b26-9b92-6ddbb066b12d"
      },
      "execution_count": null,
      "outputs": [
        {
          "output_type": "stream",
          "name": "stdout",
          "text": [
            "[20, 30, 'hey', 100.1]\n"
          ]
        }
      ]
    },
    {
      "cell_type": "code",
      "source": [
        "mylist=[10,20,30,\"hey\",100.1]\n",
        "print(mylist[-1])"
      ],
      "metadata": {
        "colab": {
          "base_uri": "https://localhost:8080/"
        },
        "id": "aVS_Z5NViQbk",
        "outputId": "96b23fd9-17a6-4e72-ec98-d439ae895fe7"
      },
      "execution_count": null,
      "outputs": [
        {
          "output_type": "stream",
          "name": "stdout",
          "text": [
            "100.1\n"
          ]
        }
      ]
    },
    {
      "cell_type": "code",
      "source": [
        "mylist=[10,20,30,\"hey\",100.1]\n",
        "print(mylist[0])"
      ],
      "metadata": {
        "colab": {
          "base_uri": "https://localhost:8080/"
        },
        "id": "wXE_vP1GiRpJ",
        "outputId": "7b231a89-965e-4273-d65a-9cc4af3ea044"
      },
      "execution_count": null,
      "outputs": [
        {
          "output_type": "stream",
          "name": "stdout",
          "text": [
            "10\n"
          ]
        }
      ]
    },
    {
      "cell_type": "code",
      "source": [
        "mylist=[10,20,30,\"hey\",100.1]\n",
        "mylist[2]=90   #update\n",
        "print(mylist)"
      ],
      "metadata": {
        "colab": {
          "base_uri": "https://localhost:8080/"
        },
        "id": "j8noYAhhiZ2n",
        "outputId": "d2bfb2b9-e447-4f21-99c0-0dd6afaa98cb"
      },
      "execution_count": null,
      "outputs": [
        {
          "output_type": "stream",
          "name": "stdout",
          "text": [
            "[10, 20, 90, 'hey', 100.1]\n"
          ]
        }
      ]
    },
    {
      "cell_type": "code",
      "source": [
        "mylist=[10,20,30,\"hey\",100.1]\n",
        "mylist.append(400)       # add new data into list\n",
        "print(mylist)"
      ],
      "metadata": {
        "colab": {
          "base_uri": "https://localhost:8080/"
        },
        "id": "q1j4jm0Vid6x",
        "outputId": "303dd5ec-e46b-445e-e1d5-b831e163efe8"
      },
      "execution_count": null,
      "outputs": [
        {
          "output_type": "stream",
          "name": "stdout",
          "text": [
            "[10, 20, 30, 'hey', 100.1, 400]\n"
          ]
        }
      ]
    },
    {
      "cell_type": "code",
      "source": [
        "mylist=[10,20,30,\"hey\",100.1]\n",
        "mylist.extend(\"hello\")       # to add multiple value into it but it will not add Integer value\n",
        "mylist.extend([999,\"hello\"]) # this happen because extend uses for loop to add value in list as into extend data-\n",
        "                            # -is written in list it takes index of that list not single char\n",
        "\n",
        "# mylist.extend(12) # this will show error it will not take integer value\n",
        "\n",
        "print(mylist)"
      ],
      "metadata": {
        "colab": {
          "base_uri": "https://localhost:8080/"
        },
        "id": "ZQm943fOi_Uj",
        "outputId": "a8c61e7c-e121-4b48-b77c-c013d6946d5c"
      },
      "execution_count": null,
      "outputs": [
        {
          "output_type": "stream",
          "name": "stdout",
          "text": [
            "[10, 20, 30, 'hey', 100.1, 'h', 'e', 'l', 'l', 'o', 999, 'hello']\n"
          ]
        }
      ]
    },
    {
      "cell_type": "code",
      "source": [
        "mylist=[10,20,30,\"hey\",100.1]\n",
        "mylist.pop()\n",
        "print(mylist)"
      ],
      "metadata": {
        "colab": {
          "base_uri": "https://localhost:8080/"
        },
        "id": "TfogbUZvjKFY",
        "outputId": "c08bdd80-4994-4f32-b97f-5f06efe63631"
      },
      "execution_count": null,
      "outputs": [
        {
          "output_type": "stream",
          "name": "stdout",
          "text": [
            "[10, 20, 30, 'hey']\n"
          ]
        }
      ]
    },
    {
      "cell_type": "code",
      "source": [
        "mylist=[10,20,30,\"hey\",100.1]\n",
        "mylist.pop(2)\n",
        "print(mylist)"
      ],
      "metadata": {
        "colab": {
          "base_uri": "https://localhost:8080/"
        },
        "id": "Jgpd2UEnkSzj",
        "outputId": "a59429ba-8d8c-4c9f-8ba5-4b86a872d155"
      },
      "execution_count": null,
      "outputs": [
        {
          "output_type": "stream",
          "name": "stdout",
          "text": [
            "[10, 20, 'hey', 100.1]\n"
          ]
        }
      ]
    },
    {
      "cell_type": "code",
      "source": [
        "mylist=[10,20,30,\"hey\",100.1]\n",
        "x = mylist.pop()\n",
        "print(mylist)\n",
        "print(x)"
      ],
      "metadata": {
        "colab": {
          "base_uri": "https://localhost:8080/"
        },
        "id": "ti_S263jkWop",
        "outputId": "9c065760-edbc-4e49-82dd-577589de3b32"
      },
      "execution_count": null,
      "outputs": [
        {
          "output_type": "stream",
          "name": "stdout",
          "text": [
            "[10, 20, 30, 'hey']\n",
            "100.1\n"
          ]
        }
      ]
    },
    {
      "cell_type": "code",
      "source": [
        "mylist=[10,20,30,\"hey\",100.1]\n",
        "mylist.remove(20) # In remove we give value and in pop we give index\n",
        "print(mylist)"
      ],
      "metadata": {
        "colab": {
          "base_uri": "https://localhost:8080/"
        },
        "id": "oDlV7w_pkcQv",
        "outputId": "906cd569-6bff-47f4-8429-5cd7a335e4e5"
      },
      "execution_count": null,
      "outputs": [
        {
          "output_type": "stream",
          "name": "stdout",
          "text": [
            "[10, 30, 'hey', 100.1]\n"
          ]
        }
      ]
    },
    {
      "cell_type": "code",
      "source": [
        "mylist=[10,20,30,\"hey\",100.1]\n",
        "mylist.insert(2,500)  # insert is used to add value in certain index\n",
        "print(mylist)"
      ],
      "metadata": {
        "colab": {
          "base_uri": "https://localhost:8080/"
        },
        "id": "VQvvhls5lqVW",
        "outputId": "a5ad4058-e130-480b-baa4-6ec9b72400c2"
      },
      "execution_count": null,
      "outputs": [
        {
          "output_type": "stream",
          "name": "stdout",
          "text": [
            "[10, 20, 500, 30, 'hey', 100.1]\n"
          ]
        }
      ]
    },
    {
      "cell_type": "code",
      "source": [
        "mylist=[10,20,30,\"hey\",100.1]\n",
        "for i in mylist:\n",
        "  print(i)"
      ],
      "metadata": {
        "colab": {
          "base_uri": "https://localhost:8080/"
        },
        "id": "CJTIG1WJk-pU",
        "outputId": "d8d9167e-432b-4071-b413-d8244dcdeed0"
      },
      "execution_count": null,
      "outputs": [
        {
          "output_type": "stream",
          "name": "stdout",
          "text": [
            "10\n",
            "20\n",
            "30\n",
            "hey\n",
            "100.1\n"
          ]
        }
      ]
    },
    {
      "cell_type": "code",
      "source": [
        "mylist=[10,20,30,\"hey\",100.1]\n",
        "for i in range(0,len(mylist)):\n",
        "  print(i, mylist[i])"
      ],
      "metadata": {
        "colab": {
          "base_uri": "https://localhost:8080/"
        },
        "id": "Gq9sLLymlXVC",
        "outputId": "4515931d-72d8-4b19-874b-6e0520694818"
      },
      "execution_count": null,
      "outputs": [
        {
          "output_type": "stream",
          "name": "stdout",
          "text": [
            "0 10\n",
            "1 20\n",
            "2 30\n",
            "3 hey\n",
            "4 100.1\n"
          ]
        }
      ]
    },
    {
      "cell_type": "code",
      "source": [
        "mylist=[10,20,30,\"hey\",100.1,45]\n",
        "for i in range(0,len(mylist)):\n",
        "  if(type(mylist[i])==int):\n",
        "    print(i, mylist[i])"
      ],
      "metadata": {
        "colab": {
          "base_uri": "https://localhost:8080/"
        },
        "id": "jrkTBHbPlmRD",
        "outputId": "4b682c36-41a9-4e75-cbd2-0f9bb245a7a6"
      },
      "execution_count": null,
      "outputs": [
        {
          "output_type": "stream",
          "name": "stdout",
          "text": [
            "0 10\n",
            "1 20\n",
            "2 30\n",
            "5 45\n"
          ]
        }
      ]
    },
    {
      "cell_type": "code",
      "source": [
        "mylist=[10,5,50,45]\n",
        "mylist.sort() # sort only work when data in list is in integer form\n",
        "print(mylist)"
      ],
      "metadata": {
        "colab": {
          "base_uri": "https://localhost:8080/"
        },
        "id": "4sE0lSp0mH90",
        "outputId": "ae15e1f4-84f0-4954-a2f7-061523738671"
      },
      "execution_count": null,
      "outputs": [
        {
          "output_type": "stream",
          "name": "stdout",
          "text": [
            "[5, 10, 45, 50]\n"
          ]
        }
      ]
    },
    {
      "cell_type": "code",
      "source": [
        "mylist=[10,20,4,7,5,12]\n",
        "\n",
        "for i in range(0,len(mylist)-1):\n",
        "  if(mylist[i]> mylist[i+1]):\n",
        "    print(mylist[i])"
      ],
      "metadata": {
        "id": "kjH_ttbCri5H",
        "colab": {
          "base_uri": "https://localhost:8080/"
        },
        "outputId": "2fbee4dc-d587-4172-d939-06d9b25d71eb"
      },
      "execution_count": null,
      "outputs": [
        {
          "output_type": "stream",
          "name": "stdout",
          "text": [
            "20\n",
            "7\n"
          ]
        }
      ]
    },
    {
      "cell_type": "code",
      "source": [
        "mylist=[10,20,4,70,500,12,850]\n",
        "\n",
        "for i in range(0,1):\n",
        "  for j in range(i+1,len(mylist)):\n",
        "    if(mylist[i]< mylist[j]):\n",
        "      temp=mylist[i]\n",
        "      mylist[i] =mylist[j]\n",
        "      mylist[j] = temp\n",
        "print(mylist)"
      ],
      "metadata": {
        "colab": {
          "base_uri": "https://localhost:8080/"
        },
        "id": "hl2GBhEDiZtR",
        "outputId": "6b89f528-1bc1-404a-d2d8-18655a65fbcd"
      },
      "execution_count": null,
      "outputs": [
        {
          "output_type": "stream",
          "name": "stdout",
          "text": [
            "[850, 10, 4, 20, 70, 12, 500]\n"
          ]
        }
      ]
    },
    {
      "cell_type": "code",
      "source": [
        "# Another way of solving above question\n",
        "\n",
        "mylist=[10,20,4,70,500,12,850]\n",
        "maxi = mylist[0]\n",
        "\n",
        "for i in range(0,len(mylist)):\n",
        "  if(mylist[i]> maxi):\n",
        "    maxi=mylist[i]\n",
        "\n",
        "print(maxi)\n"
      ],
      "metadata": {
        "colab": {
          "base_uri": "https://localhost:8080/"
        },
        "id": "gMNWllsZlemi",
        "outputId": "33f4125c-270c-4bdb-80f9-b140b4baf257"
      },
      "execution_count": null,
      "outputs": [
        {
          "output_type": "stream",
          "name": "stdout",
          "text": [
            "850\n"
          ]
        }
      ]
    },
    {
      "cell_type": "code",
      "source": [
        "# Find second largest no\n",
        "list2 = [10,30,500,70,60,40,100]\n",
        "\n",
        "x= list2[0]\n",
        "y=0\n",
        "\n",
        "for i in range(0,len(list2)):\n",
        "  if(list2[i]>x):\n",
        "    y=x\n",
        "    x=list2[i]\n",
        "  elif(list2[i]>y):\n",
        "    y=list2[i]\n",
        "print(\"Second Highest\",y)\n"
      ],
      "metadata": {
        "colab": {
          "base_uri": "https://localhost:8080/"
        },
        "id": "UcH1jKFHrgBO",
        "outputId": "0ce10063-80df-45ac-c686-8982f5e35912"
      },
      "execution_count": null,
      "outputs": [
        {
          "output_type": "stream",
          "name": "stdout",
          "text": [
            "Second Highest 100\n"
          ]
        }
      ]
    },
    {
      "cell_type": "code",
      "source": [
        "list1=[0,1,2,4,6,8,9,11]\n",
        "k=13\n",
        "\n",
        "for i in range(0,len(list1)):\n",
        "  for j in range(i+1,len(list1)):\n",
        "    if(list1[i] + list1[j]==k):\n",
        "      print(list1[i], list1[j])\n",
        "\n"
      ],
      "metadata": {
        "colab": {
          "base_uri": "https://localhost:8080/"
        },
        "id": "z0LIZC2mrvmI",
        "outputId": "7d0f0ae0-1829-4464-91f5-08df6461d41a"
      },
      "execution_count": null,
      "outputs": [
        {
          "output_type": "stream",
          "name": "stdout",
          "text": [
            "2 11\n",
            "4 9\n"
          ]
        }
      ]
    },
    {
      "cell_type": "code",
      "source": [
        "# Find above question using 1 loop\n",
        "# what is time complexity\n",
        "# how to calculate the time complexity\n",
        "# enumerate vs zip function(interview)\n",
        "# list revision\n",
        "# waht is dictionary and what are its usage\n"
      ],
      "metadata": {
        "id": "enryLKXwvsDp"
      },
      "execution_count": null,
      "outputs": []
    },
    {
      "cell_type": "code",
      "source": [
        "# Above ques using 1 for loop\n",
        "list1=[0,1,2,4,6,8,7,11]\n",
        "k=9\n",
        "\n",
        "s=0\n",
        "e= len(list1)-1\n",
        "\n",
        "while(True):\n",
        "  if(list1[s]+list1[e]==k):\n",
        "    print(list1[s], list1[e])\n",
        "    break\n",
        "  elif(list1[s]+list1[e]>=k):\n",
        "    e-=1\n",
        "  elif(list1[s]+list1[e]<=k):\n",
        "    s+=1\n"
      ],
      "metadata": {
        "colab": {
          "base_uri": "https://localhost:8080/"
        },
        "id": "KPsK2kPCsLIh",
        "outputId": "a808db4d-8a54-4e91-966c-1b8aad5bab5c"
      },
      "execution_count": null,
      "outputs": [
        {
          "output_type": "stream",
          "name": "stdout",
          "text": [
            "2 7\n"
          ]
        }
      ]
    },
    {
      "cell_type": "code",
      "source": [
        "mylist=[10,[20,30]]\n",
        "mylist[1][0]"
      ],
      "metadata": {
        "colab": {
          "base_uri": "https://localhost:8080/"
        },
        "id": "K8XJpM2ktFvs",
        "outputId": "cf6fd3f0-c45d-42f0-b1e8-ce0a66afd0c6"
      },
      "execution_count": null,
      "outputs": [
        {
          "output_type": "execute_result",
          "data": {
            "text/plain": [
              "20"
            ]
          },
          "metadata": {},
          "execution_count": 8
        }
      ]
    },
    {
      "cell_type": "code",
      "source": [
        "# Pascal Triangle      Important ********\n",
        "\n",
        "mylist=[]\n",
        "for i in range(0,5):\n",
        "  templist=[]\n",
        "  for s in range(i,4):\n",
        "    print(\" \",end=\"\")\n",
        "  for j in range(0,i+1):\n",
        "    if(j==0 or j==i):\n",
        "      templist.append(1)\n",
        "      print(\"1\",end=\" \")\n",
        "    else:\n",
        "        templist.append(mylist[i-1][j-1] + mylist[i-1][j])\n",
        "        print(mylist[i-1][j-1] + mylist[i-1][j],end=\" \")\n",
        "  mylist.append(templist)\n",
        "  print(\"\")\n",
        "print(mylist)"
      ],
      "metadata": {
        "colab": {
          "base_uri": "https://localhost:8080/"
        },
        "id": "_xWVP39LvlQs",
        "outputId": "ad500729-bd70-4c21-fc2b-54465e23d3cd"
      },
      "execution_count": null,
      "outputs": [
        {
          "output_type": "stream",
          "name": "stdout",
          "text": [
            "    1 \n",
            "   1 1 \n",
            "  1 2 1 \n",
            " 1 3 3 1 \n",
            "1 4 6 4 1 \n",
            "[[1], [1, 1], [1, 2, 1], [1, 3, 3, 1], [1, 4, 6, 4, 1]]\n"
          ]
        }
      ]
    },
    {
      "cell_type": "code",
      "source": [
        "# shift the value of first index to next 2 step\n",
        "\n",
        "list1= [10,20,40,60,7]\n",
        "shift=52\n",
        "k=shift%len(list1)  # do module to reduce the for loop iteration\n",
        "list2=[0]*len(list1)\n",
        "\n",
        "for i in range(0,len(list1)):\n",
        "  list2[(i+k)%len(list1)] =list1[i]\n",
        "  print(list2)"
      ],
      "metadata": {
        "id": "X1i8YkLgzVZD",
        "colab": {
          "base_uri": "https://localhost:8080/"
        },
        "outputId": "8495fdfc-226b-4e27-94da-36005c306b26"
      },
      "execution_count": 20,
      "outputs": [
        {
          "output_type": "stream",
          "name": "stdout",
          "text": [
            "[0, 0, 10, 0, 0]\n",
            "[0, 0, 10, 20, 0]\n",
            "[0, 0, 10, 20, 40]\n",
            "[60, 0, 10, 20, 40]\n",
            "[60, 7, 10, 20, 40]\n"
          ]
        }
      ]
    },
    {
      "cell_type": "code",
      "source": [],
      "metadata": {
        "id": "V2CXru9TAWLY"
      },
      "execution_count": null,
      "outputs": []
    }
  ]
}