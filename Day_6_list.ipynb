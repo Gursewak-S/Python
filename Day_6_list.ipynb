{
  "nbformat": 4,
  "nbformat_minor": 0,
  "metadata": {
    "colab": {
      "provenance": [],
      "authorship_tag": "ABX9TyOibAbI62PqIXwKwn9vqmku",
      "include_colab_link": true
    },
    "kernelspec": {
      "name": "python3",
      "display_name": "Python 3"
    },
    "language_info": {
      "name": "python"
    }
  },
  "cells": [
    {
      "cell_type": "markdown",
      "metadata": {
        "id": "view-in-github",
        "colab_type": "text"
      },
      "source": [
        "<a href=\"https://colab.research.google.com/github/Gursewak-S/Python/blob/main/Day_6_list.ipynb\" target=\"_parent\"><img src=\"https://colab.research.google.com/assets/colab-badge.svg\" alt=\"Open In Colab\"/></a>"
      ]
    },
    {
      "cell_type": "code",
      "execution_count": null,
      "metadata": {
        "colab": {
          "base_uri": "https://localhost:8080/"
        },
        "id": "Qn4NhMFFhixV",
        "outputId": "b0eb60b6-dc7f-4f9f-84a9-25800a14e68c"
      },
      "outputs": [
        {
          "output_type": "stream",
          "name": "stdout",
          "text": [
            "<class 'list'>\n"
          ]
        }
      ],
      "source": [
        "# List Datatype\n",
        "# Collection of element\n",
        "# stored based on index position\n",
        "# list mutuable database\n",
        "# sequence datatype\n",
        "\n",
        "x=[10,20,30,\"hey\",100.1]\n",
        "print(type(x))"
      ]
    },
    {
      "cell_type": "code",
      "source": [
        "mylist=[10,20,30,\"hey\",100.1]\n",
        "print(mylist[0])"
      ],
      "metadata": {
        "colab": {
          "base_uri": "https://localhost:8080/"
        },
        "id": "UBmjKtnTiBu_",
        "outputId": "662d2394-1ebd-4153-c4dc-2ac0628993e4"
      },
      "execution_count": null,
      "outputs": [
        {
          "output_type": "stream",
          "name": "stdout",
          "text": [
            "10\n"
          ]
        }
      ]
    },
    {
      "cell_type": "code",
      "source": [
        "mylist=[10,20,30,\"hey\",100.1]\n",
        "print(mylist[1:5])"
      ],
      "metadata": {
        "colab": {
          "base_uri": "https://localhost:8080/"
        },
        "id": "RYFIYEhDiMBS",
        "outputId": "e38ee4e7-c2e0-4b26-9b92-6ddbb066b12d"
      },
      "execution_count": null,
      "outputs": [
        {
          "output_type": "stream",
          "name": "stdout",
          "text": [
            "[20, 30, 'hey', 100.1]\n"
          ]
        }
      ]
    },
    {
      "cell_type": "code",
      "source": [
        "mylist=[10,20,30,\"hey\",100.1]\n",
        "print(mylist[-1])"
      ],
      "metadata": {
        "colab": {
          "base_uri": "https://localhost:8080/"
        },
        "id": "aVS_Z5NViQbk",
        "outputId": "bdff5417-d15f-4462-fc30-75a538adb25c"
      },
      "execution_count": null,
      "outputs": [
        {
          "output_type": "stream",
          "name": "stdout",
          "text": [
            "100.1\n",
            "adfg\n"
          ]
        }
      ]
    },
    {
      "cell_type": "code",
      "source": [
        "mylist=[10,20,30,\"hey\",100.1]\n",
        "print(mylist[0])"
      ],
      "metadata": {
        "colab": {
          "base_uri": "https://localhost:8080/"
        },
        "id": "wXE_vP1GiRpJ",
        "outputId": "7b231a89-965e-4273-d65a-9cc4af3ea044"
      },
      "execution_count": null,
      "outputs": [
        {
          "output_type": "stream",
          "name": "stdout",
          "text": [
            "10\n"
          ]
        }
      ]
    },
    {
      "cell_type": "code",
      "source": [
        "mylist=[10,20,30,\"hey\",100.1]\n",
        "mylist[2]=90   #update\n",
        "print(mylist)"
      ],
      "metadata": {
        "colab": {
          "base_uri": "https://localhost:8080/"
        },
        "id": "j8noYAhhiZ2n",
        "outputId": "d2bfb2b9-e447-4f21-99c0-0dd6afaa98cb"
      },
      "execution_count": null,
      "outputs": [
        {
          "output_type": "stream",
          "name": "stdout",
          "text": [
            "[10, 20, 90, 'hey', 100.1]\n"
          ]
        }
      ]
    },
    {
      "cell_type": "code",
      "source": [
        "mylist=[10,20,30,\"hey\",100.1]\n",
        "mylist.append(400)       # add new data into list\n",
        "print(mylist)"
      ],
      "metadata": {
        "colab": {
          "base_uri": "https://localhost:8080/"
        },
        "id": "q1j4jm0Vid6x",
        "outputId": "303dd5ec-e46b-445e-e1d5-b831e163efe8"
      },
      "execution_count": null,
      "outputs": [
        {
          "output_type": "stream",
          "name": "stdout",
          "text": [
            "[10, 20, 30, 'hey', 100.1, 400]\n"
          ]
        }
      ]
    },
    {
      "cell_type": "code",
      "source": [
        "mylist=[10,20,30,\"hey\",100.1]\n",
        "mylist.extend(\"hello\")       # to add multiple value into it but it will not add Integer value\n",
        "mylist.extend([999,\"hello\"]) # this happen because extend uses for loop to add value in list as into extend data-\n",
        "                            # -is written in list it takes index of that list not single char\n",
        "\n",
        "# mylist.extend(12) # this will show error it will not take integer value\n",
        "\n",
        "print(mylist)"
      ],
      "metadata": {
        "colab": {
          "base_uri": "https://localhost:8080/"
        },
        "id": "ZQm943fOi_Uj",
        "outputId": "a8c61e7c-e121-4b48-b77c-c013d6946d5c"
      },
      "execution_count": null,
      "outputs": [
        {
          "output_type": "stream",
          "name": "stdout",
          "text": [
            "[10, 20, 30, 'hey', 100.1, 'h', 'e', 'l', 'l', 'o', 999, 'hello']\n"
          ]
        }
      ]
    },
    {
      "cell_type": "code",
      "source": [
        "mylist=[10,20,30,\"hey\",10, 50,10]\n",
        "x = mylist.count(10)   # The count() method returns the number of elements with the specified value.\n",
        "print(x)"
      ],
      "metadata": {
        "colab": {
          "base_uri": "https://localhost:8080/"
        },
        "id": "ssx6bDaX6Ypq",
        "outputId": "f54e1478-3dc0-4261-bd6d-0ab1db3f6116"
      },
      "execution_count": 22,
      "outputs": [
        {
          "output_type": "stream",
          "name": "stdout",
          "text": [
            "3\n"
          ]
        }
      ]
    },
    {
      "cell_type": "code",
      "source": [
        "mylist=[10,20,30,\"hey\",100.1]\n",
        "mylist.pop()\n",
        "print(mylist)"
      ],
      "metadata": {
        "colab": {
          "base_uri": "https://localhost:8080/"
        },
        "id": "TfogbUZvjKFY",
        "outputId": "c08bdd80-4994-4f32-b97f-5f06efe63631"
      },
      "execution_count": null,
      "outputs": [
        {
          "output_type": "stream",
          "name": "stdout",
          "text": [
            "[10, 20, 30, 'hey']\n"
          ]
        }
      ]
    },
    {
      "cell_type": "code",
      "source": [
        "mylist=[10,20,30,\"hey\",100.1]\n",
        "mylist.pop(2)\n",
        "print(mylist)"
      ],
      "metadata": {
        "colab": {
          "base_uri": "https://localhost:8080/"
        },
        "id": "Jgpd2UEnkSzj",
        "outputId": "a59429ba-8d8c-4c9f-8ba5-4b86a872d155"
      },
      "execution_count": null,
      "outputs": [
        {
          "output_type": "stream",
          "name": "stdout",
          "text": [
            "[10, 20, 'hey', 100.1]\n"
          ]
        }
      ]
    },
    {
      "cell_type": "code",
      "source": [
        "mylist=[10,20,30,\"hey\",100.1]\n",
        "x = mylist.pop()\n",
        "print(mylist)\n",
        "print(x)"
      ],
      "metadata": {
        "colab": {
          "base_uri": "https://localhost:8080/"
        },
        "id": "ti_S263jkWop",
        "outputId": "9c065760-edbc-4e49-82dd-577589de3b32"
      },
      "execution_count": null,
      "outputs": [
        {
          "output_type": "stream",
          "name": "stdout",
          "text": [
            "[10, 20, 30, 'hey']\n",
            "100.1\n"
          ]
        }
      ]
    },
    {
      "cell_type": "code",
      "source": [
        "mylist=[10,20,30,\"hey\",100.1]\n",
        "mylist.remove(20) # In remove we give value and in pop we give index\n",
        "print(mylist)"
      ],
      "metadata": {
        "colab": {
          "base_uri": "https://localhost:8080/"
        },
        "id": "oDlV7w_pkcQv",
        "outputId": "906cd569-6bff-47f4-8429-5cd7a335e4e5"
      },
      "execution_count": null,
      "outputs": [
        {
          "output_type": "stream",
          "name": "stdout",
          "text": [
            "[10, 30, 'hey', 100.1]\n"
          ]
        }
      ]
    },
    {
      "cell_type": "code",
      "source": [
        "mylist=[10,20,30,\"hey\",100.1]\n",
        "mylist.insert(2,500)  # insert is used to add value in certain index\n",
        "print(mylist)"
      ],
      "metadata": {
        "colab": {
          "base_uri": "https://localhost:8080/"
        },
        "id": "VQvvhls5lqVW",
        "outputId": "a5ad4058-e130-480b-baa4-6ec9b72400c2"
      },
      "execution_count": null,
      "outputs": [
        {
          "output_type": "stream",
          "name": "stdout",
          "text": [
            "[10, 20, 500, 30, 'hey', 100.1]\n"
          ]
        }
      ]
    },
    {
      "cell_type": "code",
      "source": [
        "# del Keyword: The del keyword also removes the specified index:\n",
        "\n",
        "thislist = [\"apple\", \"banana\", \"cherry\"]\n",
        "del thislist[0]\n",
        "print(thislist)"
      ],
      "metadata": {
        "colab": {
          "base_uri": "https://localhost:8080/"
        },
        "id": "SK5Uf8CW1Vzc",
        "outputId": "5bd654b1-023f-4d45-970f-c690c605e271"
      },
      "execution_count": 1,
      "outputs": [
        {
          "output_type": "stream",
          "name": "stdout",
          "text": [
            "['banana', 'cherry']\n"
          ]
        }
      ]
    },
    {
      "cell_type": "code",
      "source": [
        "thislist = [\"apple\", \"banana\", \"cherry\"]\n",
        "del thislist       # this removes complete list as no index was given\n",
        "print(thislist)"
      ],
      "metadata": {
        "colab": {
          "base_uri": "https://localhost:8080/",
          "height": 176
        },
        "id": "_JE-s4Q31iZd",
        "outputId": "8a3bd417-08d4-4e31-8d2a-44d5dfc01098"
      },
      "execution_count": 3,
      "outputs": [
        {
          "output_type": "error",
          "ename": "NameError",
          "evalue": "name 'thislist' is not defined",
          "traceback": [
            "\u001b[0;31m---------------------------------------------------------------------------\u001b[0m",
            "\u001b[0;31mNameError\u001b[0m                                 Traceback (most recent call last)",
            "\u001b[0;32m<ipython-input-3-4b9c960a30eb>\u001b[0m in \u001b[0;36m<cell line: 0>\u001b[0;34m()\u001b[0m\n\u001b[1;32m      1\u001b[0m \u001b[0mthislist\u001b[0m \u001b[0;34m=\u001b[0m \u001b[0;34m[\u001b[0m\u001b[0;34m\"apple\"\u001b[0m\u001b[0;34m,\u001b[0m \u001b[0;34m\"banana\"\u001b[0m\u001b[0;34m,\u001b[0m \u001b[0;34m\"cherry\"\u001b[0m\u001b[0;34m]\u001b[0m\u001b[0;34m\u001b[0m\u001b[0;34m\u001b[0m\u001b[0m\n\u001b[1;32m      2\u001b[0m \u001b[0;32mdel\u001b[0m \u001b[0mthislist\u001b[0m\u001b[0;34m\u001b[0m\u001b[0;34m\u001b[0m\u001b[0m\n\u001b[0;32m----> 3\u001b[0;31m \u001b[0mprint\u001b[0m\u001b[0;34m(\u001b[0m\u001b[0mthislist\u001b[0m\u001b[0;34m)\u001b[0m\u001b[0;34m\u001b[0m\u001b[0;34m\u001b[0m\u001b[0m\n\u001b[0m",
            "\u001b[0;31mNameError\u001b[0m: name 'thislist' is not defined"
          ]
        }
      ]
    },
    {
      "cell_type": "code",
      "source": [
        "# clear() : The clear() method empties the list.\n",
        "# The list still remains, but it has no content.\n",
        "\n",
        "thislist = [\"apple\", \"banana\", \"cherry\"]\n",
        "thislist.clear()\n",
        "print(thislist)"
      ],
      "metadata": {
        "colab": {
          "base_uri": "https://localhost:8080/"
        },
        "id": "zRaqKIKV1vod",
        "outputId": "a7a9bb65-124f-44a7-8257-46a1e27351fc"
      },
      "execution_count": 4,
      "outputs": [
        {
          "output_type": "stream",
          "name": "stdout",
          "text": [
            "[]\n"
          ]
        }
      ]
    },
    {
      "cell_type": "code",
      "source": [
        "mylist=[10,5,50,45]\n",
        "mylist.sort() # sort only work when data in list is of one datatype like only int value or only string value\n",
        "print(mylist)\n",
        "\n",
        "thislist = [\"orange\", \"mango\", \"kiwi\", \"pineapple\", \"banana\"]\n",
        "thislist.sort()\n",
        "print(thislist)\n",
        "\n",
        "thislist = [100, 50, 65, 82, 23]\n",
        "thislist.sort(reverse = True)\n",
        "print(thislist)"
      ],
      "metadata": {
        "colab": {
          "base_uri": "https://localhost:8080/"
        },
        "id": "4sE0lSp0mH90",
        "outputId": "8b21f470-0789-4dfb-f619-50df09d0e25f"
      },
      "execution_count": 14,
      "outputs": [
        {
          "output_type": "stream",
          "name": "stdout",
          "text": [
            "[5, 10, 45, 50]\n",
            "['banana', 'kiwi', 'mango', 'orange', 'pineapple']\n",
            "[100, 82, 65, 50, 23]\n"
          ]
        }
      ]
    },
    {
      "cell_type": "code",
      "source": [
        "# Reverse Order\n",
        "# What if you want to reverse the order of a list, regardless of the alphabet?\n",
        "\n",
        "# The reverse() method reverses the current sorting order of the elements.\n",
        "\n",
        "thislist = [100, 50, 65, 82, 23]\n",
        "thislist.reverse()\n",
        "print(thislist)"
      ],
      "metadata": {
        "colab": {
          "base_uri": "https://localhost:8080/"
        },
        "id": "l5XhliUb4muW",
        "outputId": "e4fd9923-9560-437c-e998-b2ce510e0c20"
      },
      "execution_count": 15,
      "outputs": [
        {
          "output_type": "stream",
          "name": "stdout",
          "text": [
            "[23, 82, 65, 50, 100]\n"
          ]
        }
      ]
    },
    {
      "cell_type": "code",
      "source": [
        "# copy() method\n",
        "# You can use the built-in List method copy() to copy a list.\n",
        "\n",
        "thislist = [\"apple\", \"banana\", \"cherry\"]\n",
        "mylist = thislist.copy()\n",
        "print(mylist)\n",
        "\n",
        "# Use the list() method\n",
        "# Another way to make a copy is to use the built-in method list().\n",
        "\n",
        "this = [\"apple\", \"banana\", \"cherry\"]\n",
        "mylist = list(this)\n",
        "print(mylist)"
      ],
      "metadata": {
        "colab": {
          "base_uri": "https://localhost:8080/"
        },
        "id": "ye9Htfza5du4",
        "outputId": "c6bae487-07e2-4ab3-a9ef-6db89d2ca753"
      },
      "execution_count": 18,
      "outputs": [
        {
          "output_type": "stream",
          "name": "stdout",
          "text": [
            "['apple', 'banana', 'cherry']\n",
            "['apple', 'banana', 'cherry']\n"
          ]
        }
      ]
    },
    {
      "cell_type": "code",
      "source": [
        "# Join Two Lists\n",
        "# There are several ways to join, or concatenate, two or more lists in Python.\n",
        "\n",
        "list1 = [\"a\", \"b\", \"c\"]\n",
        "list2 = [1, 2, 3]\n",
        "\n",
        "list3 = list1 + list2\n",
        "print(list3)\n",
        "\n",
        "# Another way to join two lists is by appending all the items from list2 into list1, one by one:\n",
        "\n",
        "list1 = [\"a\", \"b\" , \"c\"]\n",
        "list2 = [1, 2, 3]\n",
        "\n",
        "for x in list2:\n",
        "  list1.append(x)\n",
        "\n",
        "print(list1)\n",
        "\n",
        "# Or you can use the extend() method, where the purpose is to add elements from one list to another list:\n",
        "\n",
        "list1 = [\"a\", \"b\" , \"c\"]\n",
        "list2 = [1, 2, 3]\n",
        "\n",
        "list1.extend(list2)\n",
        "print(list1)"
      ],
      "metadata": {
        "colab": {
          "base_uri": "https://localhost:8080/"
        },
        "id": "6or35L-P6Beo",
        "outputId": "03ca940d-7708-4a61-f4e7-86c45c0f8297"
      },
      "execution_count": 19,
      "outputs": [
        {
          "output_type": "stream",
          "name": "stdout",
          "text": [
            "['a', 'b', 'c', 1, 2, 3]\n",
            "['a', 'b', 'c', 1, 2, 3]\n",
            "['a', 'b', 'c', 1, 2, 3]\n"
          ]
        }
      ]
    },
    {
      "cell_type": "code",
      "source": [
        "# List Comprehension\n",
        "# List comprehension offers a shorter syntax when you want to create a new list based on the values of an existing list.\n",
        "\n",
        "# The Syntax\n",
        "# newlist = [expression for item in iterable if condition == True]\n",
        "\n",
        "fruits = [\"apple\", \"banana\", \"cherry\", \"kiwi\", \"mango\"]\n",
        "\n",
        "newlist = [x for x in fruits if \"a\" in x]\n",
        "print(newlist)\n",
        "\n",
        "newlist = [x for x in fruits if x != \"apple\"]\n",
        "print(newlist)\n",
        "\n",
        "newlist = [x for x in fruits]\n",
        "print(newlist)\n",
        "\n",
        "newlist = [x.upper() for x in fruits]\n",
        "print(newlist)\n",
        "\n",
        "newlist = ['hello' for x in fruits]\n",
        "print(newlist)"
      ],
      "metadata": {
        "colab": {
          "base_uri": "https://localhost:8080/"
        },
        "id": "PDmWOBIL24EK",
        "outputId": "69535deb-94e5-489e-e005-a8e74b952cfb"
      },
      "execution_count": 11,
      "outputs": [
        {
          "output_type": "stream",
          "name": "stdout",
          "text": [
            "['apple', 'banana', 'mango']\n",
            "['banana', 'cherry', 'kiwi', 'mango']\n",
            "['apple', 'banana', 'cherry', 'kiwi', 'mango']\n",
            "['APPLE', 'BANANA', 'CHERRY', 'KIWI', 'MANGO']\n",
            "['hello', 'hello', 'hello', 'hello', 'hello']\n"
          ]
        }
      ]
    },
    {
      "cell_type": "code",
      "source": [
        "new = [x for x in range(10) if x < 5]\n",
        "print(new)"
      ],
      "metadata": {
        "colab": {
          "base_uri": "https://localhost:8080/"
        },
        "id": "6hSPBlQZ3SOS",
        "outputId": "dcc04477-8a6d-4d02-9676-b8ca4c3db841"
      },
      "execution_count": 10,
      "outputs": [
        {
          "output_type": "stream",
          "name": "stdout",
          "text": [
            "[0, 1, 2, 3, 4]\n"
          ]
        }
      ]
    },
    {
      "cell_type": "code",
      "source": [
        "mylist=[10,20,30,\"hey\",100.1]\n",
        "for i in mylist:\n",
        "  print(i)"
      ],
      "metadata": {
        "colab": {
          "base_uri": "https://localhost:8080/"
        },
        "id": "CJTIG1WJk-pU",
        "outputId": "d8d9167e-432b-4071-b413-d8244dcdeed0"
      },
      "execution_count": null,
      "outputs": [
        {
          "output_type": "stream",
          "name": "stdout",
          "text": [
            "10\n",
            "20\n",
            "30\n",
            "hey\n",
            "100.1\n"
          ]
        }
      ]
    },
    {
      "cell_type": "code",
      "source": [
        "mylist=[10,20,30,\"hey\",100.1]\n",
        "for i in range(0,len(mylist)):\n",
        "  print(i, mylist[i])"
      ],
      "metadata": {
        "colab": {
          "base_uri": "https://localhost:8080/"
        },
        "id": "Gq9sLLymlXVC",
        "outputId": "4515931d-72d8-4b19-874b-6e0520694818"
      },
      "execution_count": null,
      "outputs": [
        {
          "output_type": "stream",
          "name": "stdout",
          "text": [
            "0 10\n",
            "1 20\n",
            "2 30\n",
            "3 hey\n",
            "4 100.1\n"
          ]
        }
      ]
    },
    {
      "cell_type": "code",
      "source": [
        "mylist=[10,20,30,\"hey\",100.1,45]\n",
        "for i in range(0,len(mylist)):\n",
        "  if(type(mylist[i])==int):\n",
        "    print(i, mylist[i])"
      ],
      "metadata": {
        "colab": {
          "base_uri": "https://localhost:8080/"
        },
        "id": "jrkTBHbPlmRD",
        "outputId": "4b682c36-41a9-4e75-cbd2-0f9bb245a7a6"
      },
      "execution_count": null,
      "outputs": [
        {
          "output_type": "stream",
          "name": "stdout",
          "text": [
            "0 10\n",
            "1 20\n",
            "2 30\n",
            "5 45\n"
          ]
        }
      ]
    },
    {
      "cell_type": "code",
      "source": [
        "mylist=[10,20,4,7,5,12]\n",
        "\n",
        "for i in range(0,len(mylist)-1):\n",
        "  if(mylist[i]> mylist[i+1]):\n",
        "    print(mylist[i])"
      ],
      "metadata": {
        "id": "kjH_ttbCri5H",
        "colab": {
          "base_uri": "https://localhost:8080/"
        },
        "outputId": "2fbee4dc-d587-4172-d939-06d9b25d71eb"
      },
      "execution_count": null,
      "outputs": [
        {
          "output_type": "stream",
          "name": "stdout",
          "text": [
            "20\n",
            "7\n"
          ]
        }
      ]
    },
    {
      "cell_type": "code",
      "source": [
        "mylist=[10,20,4,70,500,12,850]\n",
        "\n",
        "for i in range(0,1):\n",
        "  for j in range(i+1,len(mylist)):\n",
        "    if(mylist[i]< mylist[j]):\n",
        "      temp=mylist[i]\n",
        "      mylist[i] =mylist[j]\n",
        "      mylist[j] = temp\n",
        "print(mylist)"
      ],
      "metadata": {
        "colab": {
          "base_uri": "https://localhost:8080/"
        },
        "id": "hl2GBhEDiZtR",
        "outputId": "6b89f528-1bc1-404a-d2d8-18655a65fbcd"
      },
      "execution_count": null,
      "outputs": [
        {
          "output_type": "stream",
          "name": "stdout",
          "text": [
            "[850, 10, 4, 20, 70, 12, 500]\n"
          ]
        }
      ]
    },
    {
      "cell_type": "code",
      "source": [
        "# Another way of solving above question\n",
        "\n",
        "mylist=[10,20,4,70,500,12,850]\n",
        "maxi = mylist[0]\n",
        "\n",
        "for i in range(0,len(mylist)):\n",
        "  if(mylist[i]> maxi):\n",
        "    maxi=mylist[i]\n",
        "\n",
        "print(maxi)\n"
      ],
      "metadata": {
        "colab": {
          "base_uri": "https://localhost:8080/"
        },
        "id": "gMNWllsZlemi",
        "outputId": "33f4125c-270c-4bdb-80f9-b140b4baf257"
      },
      "execution_count": null,
      "outputs": [
        {
          "output_type": "stream",
          "name": "stdout",
          "text": [
            "850\n"
          ]
        }
      ]
    },
    {
      "cell_type": "code",
      "source": [
        "# Find second largest no\n",
        "list2 = [10,30,500,70,60,40,100]\n",
        "\n",
        "x= list2[0]\n",
        "y=0\n",
        "\n",
        "for i in range(0,len(list2)):\n",
        "  if(list2[i]>x):\n",
        "    y=x\n",
        "    x=list2[i]\n",
        "  elif(list2[i]>y):\n",
        "    y=list2[i]\n",
        "print(\"Second Highest\",y)\n"
      ],
      "metadata": {
        "colab": {
          "base_uri": "https://localhost:8080/"
        },
        "id": "UcH1jKFHrgBO",
        "outputId": "0ce10063-80df-45ac-c686-8982f5e35912"
      },
      "execution_count": null,
      "outputs": [
        {
          "output_type": "stream",
          "name": "stdout",
          "text": [
            "Second Highest 100\n"
          ]
        }
      ]
    },
    {
      "cell_type": "code",
      "source": [
        "list1=[0,1,2,4,6,8,9,11]\n",
        "k=13\n",
        "\n",
        "for i in range(0,len(list1)):\n",
        "  for j in range(i+1,len(list1)):\n",
        "    if(list1[i] + list1[j]==k):\n",
        "      print(list1[i], list1[j])\n",
        "\n"
      ],
      "metadata": {
        "colab": {
          "base_uri": "https://localhost:8080/"
        },
        "id": "z0LIZC2mrvmI",
        "outputId": "7d0f0ae0-1829-4464-91f5-08df6461d41a"
      },
      "execution_count": null,
      "outputs": [
        {
          "output_type": "stream",
          "name": "stdout",
          "text": [
            "2 11\n",
            "4 9\n"
          ]
        }
      ]
    },
    {
      "cell_type": "code",
      "source": [
        "# Find above question using 1 loop\n",
        "# what is time complexity\n",
        "# how to calculate the time complexity\n",
        "# enumerate vs zip function(interview)\n",
        "# list revision\n",
        "# waht is dictionary and what are its usage\n"
      ],
      "metadata": {
        "id": "enryLKXwvsDp"
      },
      "execution_count": null,
      "outputs": []
    },
    {
      "cell_type": "code",
      "source": [
        "# Above ques using 1 for loop\n",
        "list1=[0,1,2,4,6,8,7,11]\n",
        "k=9\n",
        "\n",
        "s=0\n",
        "e= len(list1)-1\n",
        "\n",
        "while(True):\n",
        "  if(list1[s]+list1[e]==k):\n",
        "    print(list1[s], list1[e])\n",
        "    break\n",
        "  elif(list1[s]+list1[e]>=k):\n",
        "    e-=1\n",
        "  elif(list1[s]+list1[e]<=k):\n",
        "    s+=1\n"
      ],
      "metadata": {
        "colab": {
          "base_uri": "https://localhost:8080/"
        },
        "id": "KPsK2kPCsLIh",
        "outputId": "a808db4d-8a54-4e91-966c-1b8aad5bab5c"
      },
      "execution_count": null,
      "outputs": [
        {
          "output_type": "stream",
          "name": "stdout",
          "text": [
            "2 7\n"
          ]
        }
      ]
    },
    {
      "cell_type": "code",
      "source": [
        "mylist=[10,[20,30]]\n",
        "mylist[1][0]"
      ],
      "metadata": {
        "colab": {
          "base_uri": "https://localhost:8080/"
        },
        "id": "K8XJpM2ktFvs",
        "outputId": "cf6fd3f0-c45d-42f0-b1e8-ce0a66afd0c6"
      },
      "execution_count": null,
      "outputs": [
        {
          "output_type": "execute_result",
          "data": {
            "text/plain": [
              "20"
            ]
          },
          "metadata": {},
          "execution_count": 8
        }
      ]
    },
    {
      "cell_type": "code",
      "source": [
        "# Pascal Triangle      Important ********\n",
        "\n",
        "mylist=[]\n",
        "for i in range(0,5):\n",
        "  templist=[]\n",
        "  for s in range(i,4):\n",
        "    print(\" \",end=\"\")\n",
        "  for j in range(0,i+1):\n",
        "    if(j==0 or j==i):\n",
        "      templist.append(1)\n",
        "      print(\"1\",end=\" \")\n",
        "    else:\n",
        "      templist.append(mylist[i-1][j-1] + mylist[i-1][j])\n",
        "      print(mylist[i-1][j-1] + mylist[i-1][j],end=\" \")\n",
        "  mylist.append(templist)\n",
        "  print(\"\")\n",
        "print(mylist)"
      ],
      "metadata": {
        "colab": {
          "base_uri": "https://localhost:8080/"
        },
        "id": "_xWVP39LvlQs",
        "outputId": "ec3711c4-ab18-471d-b83d-92439db61939"
      },
      "execution_count": null,
      "outputs": [
        {
          "output_type": "stream",
          "name": "stdout",
          "text": [
            "    1 \n",
            "   1 1 \n",
            "  1 2 1 \n",
            " 1 3 3 1 \n",
            "1 4 6 4 1 \n",
            "[[1], [1, 1], [1, 2, 1], [1, 3, 3, 1], [1, 4, 6, 4, 1]]\n"
          ]
        }
      ]
    },
    {
      "cell_type": "code",
      "source": [
        "# shift the value of first index to next 2 step\n",
        "\n",
        "list1= [10,20,40,60,7]\n",
        "shift=52\n",
        "k=shift%len(list1)  # do module to reduce the for loop iteration\n",
        "list2=[0]*len(list1)\n",
        "\n",
        "for i in range(0,len(list1)):\n",
        "  list2[(i+k)%len(list1)] =list1[i]\n",
        "  print(list2)"
      ],
      "metadata": {
        "id": "X1i8YkLgzVZD",
        "colab": {
          "base_uri": "https://localhost:8080/"
        },
        "outputId": "78e625d4-6ded-4c91-a246-3b132e9b67b2"
      },
      "execution_count": 24,
      "outputs": [
        {
          "output_type": "stream",
          "name": "stdout",
          "text": [
            "[0, 0, 10, 0, 0]\n",
            "[0, 0, 10, 20, 0]\n",
            "[0, 0, 10, 20, 40]\n",
            "[60, 0, 10, 20, 40]\n",
            "[60, 7, 10, 20, 40]\n"
          ]
        }
      ]
    },
    {
      "cell_type": "code",
      "source": [
        "# Tuple\n",
        "# tuple => immutable\n",
        "tuple1 = (1,2,3,'hey')"
      ],
      "metadata": {
        "id": "zJvZduEgHCLU"
      },
      "execution_count": null,
      "outputs": []
    },
    {
      "cell_type": "code",
      "source": [
        "tuple1 = (1,2,3,'hey')\n",
        "print(tuple1[2])"
      ],
      "metadata": {
        "colab": {
          "base_uri": "https://localhost:8080/"
        },
        "id": "sF7mT0E9JBAh",
        "outputId": "8fbf25a4-ae1d-4b56-971c-3846248e9395"
      },
      "execution_count": null,
      "outputs": [
        {
          "output_type": "stream",
          "name": "stdout",
          "text": [
            "3\n"
          ]
        }
      ]
    },
    {
      "cell_type": "code",
      "source": [
        "tuple1 = (1,2,3,2,2,'hey')\n",
        "tuple1.count(2)  # it will count how many times specific value come"
      ],
      "metadata": {
        "colab": {
          "base_uri": "https://localhost:8080/"
        },
        "id": "v1bTmZRBJHdw",
        "outputId": "d67d18c5-9827-4aec-ff8f-43ce76ce8487"
      },
      "execution_count": null,
      "outputs": [
        {
          "output_type": "execute_result",
          "data": {
            "text/plain": [
              "3"
            ]
          },
          "metadata": {},
          "execution_count": 9
        }
      ]
    },
    {
      "cell_type": "code",
      "source": [
        "thistuple = (\"apple\", \"banana\", \"cherry\")\n",
        "y = (\"orange\",)  # creating a tuple with only one item, remember to include a comma after the item, otherwise it will not be identified as a tuple.\n",
        "thistuple += y\n",
        "\n",
        "print(thistuple)"
      ],
      "metadata": {
        "colab": {
          "base_uri": "https://localhost:8080/"
        },
        "id": "0x-rv1jrXqsl",
        "outputId": "3a3f854e-632d-45e2-da23-46dba7c4e566"
      },
      "execution_count": 25,
      "outputs": [
        {
          "output_type": "stream",
          "name": "stdout",
          "text": [
            "('apple', 'banana', 'cherry', 'orange')\n"
          ]
        }
      ]
    },
    {
      "cell_type": "code",
      "source": [
        "# Tuple index() Method\n",
        "# Search for the first occurrence of the value 8, and return its position:\n",
        "\n",
        "thistuple = (1, 3, 7, 8, 7, 5, 4, 6, 8, 5)\n",
        "\n",
        "x = thistuple.index(7)\n",
        "print(x)"
      ],
      "metadata": {
        "colab": {
          "base_uri": "https://localhost:8080/"
        },
        "id": "jhHgMXIUXvGe",
        "outputId": "2c76b693-f12f-4aa6-a6ad-b03920d8c45d"
      },
      "execution_count": 26,
      "outputs": [
        {
          "output_type": "stream",
          "name": "stdout",
          "text": [
            "2\n"
          ]
        }
      ]
    },
    {
      "cell_type": "code",
      "source": [
        "# Unpacking a Tuple\n",
        "# When we create a tuple, we normally assign values to it. This is called \"packing\" a tuple.\n",
        "# But, in Python, we are also allowed to extract the values back into variables. This is called unpacking.\n",
        "\n",
        "fruits = (\"apple\", \"banana\", \"cherry\")\n",
        "\n",
        "(green, yellow, red) = fruits\n",
        "\n",
        "print(green)\n",
        "print(yellow)\n",
        "print(red)"
      ],
      "metadata": {
        "colab": {
          "base_uri": "https://localhost:8080/"
        },
        "id": "PwFz6uG6Ynxo",
        "outputId": "33089fac-7f2f-466c-c923-495c6eec2bc5"
      },
      "execution_count": 27,
      "outputs": [
        {
          "output_type": "stream",
          "name": "stdout",
          "text": [
            "apple\n",
            "banana\n",
            "cherry\n"
          ]
        }
      ]
    },
    {
      "cell_type": "code",
      "source": [
        "# Using Asterisk*\n",
        "# If the number of variables is less than the number of values, you can add an * to the variable name\n",
        "# and the values will be assigned to the variable as a list:\n",
        "\n",
        "fruits = (\"apple\", \"banana\", \"cherry\", \"strawberry\", \"raspberry\")\n",
        "\n",
        "(a, b, *c) = fruits\n",
        "\n",
        "print(a)\n",
        "print(b)\n",
        "print(c)"
      ],
      "metadata": {
        "colab": {
          "base_uri": "https://localhost:8080/"
        },
        "id": "iWWhJHPwY4hX",
        "outputId": "e8ae62f6-534a-465c-cec4-72256b4490d7"
      },
      "execution_count": 28,
      "outputs": [
        {
          "output_type": "stream",
          "name": "stdout",
          "text": [
            "apple\n",
            "banana\n",
            "['cherry', 'strawberry', 'raspberry']\n"
          ]
        }
      ]
    },
    {
      "cell_type": "code",
      "source": [
        "fruits = (\"apple\", \"banana\", \"cherry\", \"strawberry\", \"raspberry\")\n",
        "\n",
        "(a, *b, c) = fruits\n",
        "\n",
        "print(a)\n",
        "print(b)\n",
        "print(c)"
      ],
      "metadata": {
        "colab": {
          "base_uri": "https://localhost:8080/"
        },
        "id": "GYpiLDshZEQu",
        "outputId": "16eb8bc2-3008-42c5-ea7a-e2281d4bec07"
      },
      "execution_count": 29,
      "outputs": [
        {
          "output_type": "stream",
          "name": "stdout",
          "text": [
            "apple\n",
            "['banana', 'cherry', 'strawberry']\n",
            "raspberry\n"
          ]
        }
      ]
    },
    {
      "cell_type": "code",
      "source": [],
      "metadata": {
        "id": "q3bHBm4lZHwk"
      },
      "execution_count": null,
      "outputs": []
    }
  ]
}