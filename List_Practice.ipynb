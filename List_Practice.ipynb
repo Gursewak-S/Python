{
  "nbformat": 4,
  "nbformat_minor": 0,
  "metadata": {
    "colab": {
      "provenance": [],
      "authorship_tag": "ABX9TyP9gr9YOcy8T28ZfGgzdjHI",
      "include_colab_link": true
    },
    "kernelspec": {
      "name": "python3",
      "display_name": "Python 3"
    },
    "language_info": {
      "name": "python"
    }
  },
  "cells": [
    {
      "cell_type": "markdown",
      "metadata": {
        "id": "view-in-github",
        "colab_type": "text"
      },
      "source": [
        "<a href=\"https://colab.research.google.com/github/Gursewak-S/Python/blob/main/List_Practice.ipynb\" target=\"_parent\"><img src=\"https://colab.research.google.com/assets/colab-badge.svg\" alt=\"Open In Colab\"/></a>"
      ]
    },
    {
      "cell_type": "code",
      "execution_count": null,
      "metadata": {
        "colab": {
          "base_uri": "https://localhost:8080/"
        },
        "id": "ZyeErpF-_vI3",
        "outputId": "2adde6cd-5a02-4a1a-83b0-a6dbc51de1d6"
      },
      "outputs": [
        {
          "output_type": "stream",
          "name": "stdout",
          "text": [
            "[1, 3, 5, 7, 9, 11, 13, 15, 17, 19, 21, 23, 25, 27, 29, 31, 33, 35, 37, 39, 41, 43, 45, 47, 49]\n"
          ]
        }
      ],
      "source": [
        "# 1. Write a program to print the first 25 odd numbers in list\n",
        "\n",
        "list1 = []\n",
        "count=1\n",
        "i=0\n",
        "while(count<=25):\n",
        "  if(i%2!=0):\n",
        "    list1.append(i)\n",
        "    count+=1\n",
        "  i+=1\n",
        "\n",
        "print(list1)"
      ]
    },
    {
      "cell_type": "code",
      "source": [
        "# 2. Arrange string characters such that lowercase letters should come first\n",
        "\n",
        "str=\"aEksiRBjrQ\"\n",
        "mylist=[]\n",
        "mylist2=[]\n",
        "\n",
        "for i in range(0,len(str)):\n",
        "  if(ord(str[i])>=97 and ord(str[i])<123):\n",
        "    mylist.append(str[i])\n",
        "  elif(ord(str[i])>=65 and ord(str[i])<91):\n",
        "    mylist2.append(str[i])\n",
        "\n",
        "print(mylist+mylist2)\n"
      ],
      "metadata": {
        "colab": {
          "base_uri": "https://localhost:8080/"
        },
        "id": "wAsj_UFUANnU",
        "outputId": "97fe1ca2-20f6-4cb1-95ec-e41cc8ddfb90"
      },
      "execution_count": null,
      "outputs": [
        {
          "output_type": "stream",
          "name": "stdout",
          "text": [
            "['a', 'k', 's', 'i', 'j', 'r', 'E', 'R', 'B', 'Q']\n"
          ]
        }
      ]
    },
    {
      "cell_type": "code",
      "source": [
        "from string import digits\n",
        "# 3. Count all letters, digits, and special symbols from a given string\n",
        "# a. given-->str1 = \"P@#yn26at^&i5ve\"\n",
        "# b. expected-->Total counts of chars, digits, and symbols\n",
        "\n",
        "str = \"P@#yn26at^&i5ve\"\n",
        "digit=0\n",
        "char=0\n",
        "symbol=0\n",
        "\n",
        "for i in range(0,len(str)):\n",
        "  if(ord(str[i])>=48 and ord(str[i])<58):\n",
        "    digit+=1\n",
        "  elif((ord(str[i])>=65 and ord(str[i])<91) or (ord(str[i])>=97 and ord(str[i])<123)):\n",
        "    char+=1\n",
        "  else:\n",
        "    symbol+=1\n",
        "\n",
        "print(\"Total char: \", char)\n",
        "print(\"Total Symbol: \", symbol)\n",
        "print(\"Total digit: \", digit)\n"
      ],
      "metadata": {
        "colab": {
          "base_uri": "https://localhost:8080/"
        },
        "id": "wv5UsJmZDdAd",
        "outputId": "d27bfb4a-21da-4ae7-9be7-68d30f093ca0"
      },
      "execution_count": null,
      "outputs": [
        {
          "output_type": "stream",
          "name": "stdout",
          "text": [
            "Total char:  8\n",
            "Total Symbol:  4\n",
            "Total digit:  3\n"
          ]
        }
      ]
    },
    {
      "cell_type": "code",
      "source": [
        "# 4. Remove empty strings from a list of strings\n",
        "\n",
        "mylist1= ['h', ' ', 'W']\n",
        "\n",
        "for i in mylist1:\n",
        "  if(ord(i)==32):\n",
        "    mylist1.remove(i)\n",
        "\n",
        "print(mylist1)\n"
      ],
      "metadata": {
        "colab": {
          "base_uri": "https://localhost:8080/"
        },
        "id": "Qho6_5jnF-93",
        "outputId": "281e9ff1-b285-40f7-fd8a-95eb9bb9637b"
      },
      "execution_count": null,
      "outputs": [
        {
          "output_type": "stream",
          "name": "stdout",
          "text": [
            "['h', 'W']\n"
          ]
        }
      ]
    },
    {
      "cell_type": "code",
      "source": [
        "# 5. Remove special symbols / punctuation from a string\n",
        "\n",
        "str = \"P!@#yn26at^&i5ve\"\n",
        "mylist=[]\n",
        "\n",
        "for i in range(0,len(str)):\n",
        "  if(ord(str[i])>=48 and ord(str[i])<58):\n",
        "    mylist.append(str[i])\n",
        "  elif((ord(str[i])>=65 and ord(str[i])<91) or (ord(str[i])>=97 and ord(str[i])<123)):\n",
        "    mylist.append(str[i])\n",
        "\n",
        "\n",
        "print(mylist)"
      ],
      "metadata": {
        "colab": {
          "base_uri": "https://localhost:8080/"
        },
        "id": "xp1OjWZrG6xE",
        "outputId": "0f3e40a4-90cb-4d38-c957-b1318626b858"
      },
      "execution_count": null,
      "outputs": [
        {
          "output_type": "stream",
          "name": "stdout",
          "text": [
            "['P', 'y', 'n', '2', '6', 'a', 't', 'i', '5', 'v', 'e']\n"
          ]
        }
      ]
    },
    {
      "cell_type": "code",
      "source": [
        "# 6. Removal all characters from a string except integers\n",
        "# a. str1 = 'I am 25 years and 10 months old'\n",
        "# b. expected-->2510\n",
        "\n",
        "\n",
        "str = 'I am 25 years and 10 months old'\n",
        "str2=''\n",
        "for i in range(0,len(str)):\n",
        "  if(ord(str[i])>=48 and ord(str[i])<58):\n",
        "    str2 += str[i]\n",
        "\n",
        "print(str2)"
      ],
      "metadata": {
        "colab": {
          "base_uri": "https://localhost:8080/"
        },
        "id": "GnI1gz_oKugJ",
        "outputId": "2fc6c7a9-8594-4845-f6f0-5bcc77f80c57"
      },
      "execution_count": null,
      "outputs": [
        {
          "output_type": "stream",
          "name": "stdout",
          "text": [
            "2510\n"
          ]
        }
      ]
    },
    {
      "cell_type": "code",
      "source": [
        "# 7. extract the email service provider name\n",
        "# a. emaillist=[\"KSR@datavizion.com\",\"mymail@yahoo.com\",\"milindmali@google.com\",\"snehal@health\n",
        "\n",
        "emaillist=[\"KSR@datavizion.com\",\"mymail@yahoo.com\",\"milindmali@google.com\",\"snehal@health.com\"]\n",
        "mylist=[]\n",
        "for i in range(0,len(emaillist)):\n",
        "  str=''\n",
        "  for j in range(0, len(emaillist[i])):\n",
        "    if(emaillist[i][j] == '@'):\n",
        "      for k in range(j+1,len(emaillist[i])):\n",
        "        if(emaillist[i][k] == '.'):\n",
        "          break\n",
        "        else:\n",
        "          str += emaillist[i][k]\n",
        "      mylist.append(str)\n",
        "\n",
        "print(mylist)"
      ],
      "metadata": {
        "id": "IMysFJalLviW",
        "colab": {
          "base_uri": "https://localhost:8080/"
        },
        "outputId": "9f19a7f2-73ad-4038-9fb6-b3f3f7c98590"
      },
      "execution_count": null,
      "outputs": [
        {
          "output_type": "stream",
          "name": "stdout",
          "text": [
            "['datavizion', 'yahoo', 'google', 'health']\n"
          ]
        }
      ]
    },
    {
      "cell_type": "code",
      "source": [
        "# 8. extract all the emailid for the given string\n",
        "# a. string=\"Hi my name is Govind Das and my mail id is milindmali108@gmail.com and my org\n",
        "# b. Output => milindmali108@gmail.com\n",
        "\n",
        "str=\"Hi my name is Govind Das and my mail id is milindmali108@gmail.com and my org\"\n",
        "str2=''\n",
        "e=0\n",
        "for i in range(0, len(str)):\n",
        "  if(str[i]==' '):\n",
        "    s=i\n",
        "  if(str[i]=='@'):\n",
        "    start = s\n",
        "    for j in range(i, len(str)):\n",
        "      if(str[j]==' '):\n",
        "        end=j\n",
        "        break\n",
        "\n",
        "for k in range(start+1,end):\n",
        "  str2 += str[k]\n",
        "\n",
        "print(str2)\n"
      ],
      "metadata": {
        "id": "li9rgILnEO58",
        "colab": {
          "base_uri": "https://localhost:8080/"
        },
        "outputId": "d322b8cf-0233-48ab-f913-980cf02d8d10"
      },
      "execution_count": 72,
      "outputs": [
        {
          "output_type": "stream",
          "name": "stdout",
          "text": [
            "milindmali108@gmail.com\n"
          ]
        }
      ]
    },
    {
      "cell_type": "code",
      "source": [
        "# 9. Create a Python set such that it shows the element from both lists in a pair\n",
        "# a. first_list = [2, 3, 4, 5, 6, 7, 8]\n",
        "# b. second_list = [4, 9, 16, 25, 36, 49, 64]\n",
        "# c. Result is {(6, 36), (8, 64), (4, 16), (5, 25), (3, 9), (7, 49), (2, 4)}\n",
        "\n",
        "first_list = [2, 3, 4, 5, 6, 7, 8]\n",
        "second_list = [4, 9, 16, 25, 36, 49, 64]\n",
        "\n",
        "print(\"{\",end=\"\")\n",
        "for i in range(0,len(first_list)):\n",
        "  for j in range(i,len(second_list)):\n",
        "    if(second_list[j] % first_list[i] == 0):\n",
        "      print('(',first_list[i],\",\",second_list[j],\")\", end=\"\")\n",
        "      break\n",
        "      print(\",\",end=\"\")\n",
        "print(\"}\",end=\"\")"
      ],
      "metadata": {
        "colab": {
          "base_uri": "https://localhost:8080/"
        },
        "id": "-5Q1vUNzRo1L",
        "outputId": "81379392-1b95-42d1-b3b8-5a59f1cda8ee"
      },
      "execution_count": 86,
      "outputs": [
        {
          "output_type": "stream",
          "name": "stdout",
          "text": [
            "{( 2 , 4 )( 3 , 9 )( 4 , 16 )( 5 , 25 )( 6 , 36 )( 7 , 49 )( 8 , 64 )}"
          ]
        }
      ]
    },
    {
      "cell_type": "code",
      "source": [
        "# 10. Write a program to reverse a List in Python\n",
        "# a. list = [4, 5, 6, 7, 8, 9]\n",
        "# b. Output => [9, 8, 7, 6, 5, 4]\n",
        "\n",
        "list1 = [4, 5, 6, 7, 8, 9]\n",
        "list2 =[]\n",
        "\n",
        "for i in range(len(list1)-1,-1,-1):\n",
        "  list2.append(list1[i])\n",
        "\n",
        "print(list2)\n"
      ],
      "metadata": {
        "colab": {
          "base_uri": "https://localhost:8080/"
        },
        "id": "miGow64fVceF",
        "outputId": "0261021f-0488-4551-8114-25fc045334f1"
      },
      "execution_count": 91,
      "outputs": [
        {
          "output_type": "stream",
          "name": "stdout",
          "text": [
            "[9, 8, 7, 6, 5, 4]\n"
          ]
        }
      ]
    },
    {
      "cell_type": "code",
      "source": [
        "# 11. Write a program to clone or copy the list:\n",
        "\n",
        "list1 = [8,1,3,42,92,24,51,6]\n",
        "list2 =[]\n",
        "\n",
        "for i in range(0,len(list1)):\n",
        "  list2.append(list1[i])\n",
        "\n",
        "print(\"Original : \",list1)\n",
        "print(\"Copy list: \",list2)"
      ],
      "metadata": {
        "colab": {
          "base_uri": "https://localhost:8080/"
        },
        "id": "-eJYwQSBYsHz",
        "outputId": "7a682665-e459-462f-f8a3-7a8527e57a2d"
      },
      "execution_count": 95,
      "outputs": [
        {
          "output_type": "stream",
          "name": "stdout",
          "text": [
            "Original :  [8, 1, 3, 42, 92, 24, 51, 6]\n",
            "Copy list:  [8, 1, 3, 42, 92, 24, 51, 6]\n"
          ]
        }
      ]
    },
    {
      "cell_type": "code",
      "source": [
        "# 12. Write a program to get sum of number of digit in a list\n",
        "\n",
        "list1 = [4, 5, 6, 7, 8, 9]\n",
        "sum=0\n",
        "\n",
        "for i in range(0,len(list1)):\n",
        "  sum += list1[i]\n",
        "\n",
        "print(sum)"
      ],
      "metadata": {
        "colab": {
          "base_uri": "https://localhost:8080/"
        },
        "id": "AKTC6gDNZNC8",
        "outputId": "48bffb53-a70e-4447-ac2f-d9ed0d8d3b26"
      },
      "execution_count": 98,
      "outputs": [
        {
          "output_type": "stream",
          "name": "stdout",
          "text": [
            "39\n"
          ]
        }
      ]
    },
    {
      "cell_type": "code",
      "source": [
        "# 13. Write a program to get the smallest number in a list\n",
        "# Note => without using reverse(), sort() and slicing operator\n",
        "\n",
        "list1 = [4, 5, 3, 6, 7, 8, 9]\n",
        "s=list1[0]\n",
        "\n",
        "for i in range(1,len(list1)):\n",
        "  if(s > list1[i]):\n",
        "    s = list1[i]\n",
        "\n",
        "print(\"Smallest number is\",s)"
      ],
      "metadata": {
        "colab": {
          "base_uri": "https://localhost:8080/"
        },
        "id": "0c-YUXeIZ0Ef",
        "outputId": "0b7f0afb-b63c-40ad-b1f3-a10e47516a5c"
      },
      "execution_count": 106,
      "outputs": [
        {
          "output_type": "stream",
          "name": "stdout",
          "text": [
            "Smallest number is 3\n"
          ]
        }
      ]
    },
    {
      "cell_type": "code",
      "source": [
        "# 14. Write a program to print the count of even and odd number from a list\n",
        "\n",
        "list1 = [4, 5, 3, 6, 7, 8, 9]\n",
        "even=0\n",
        "odd=0\n",
        "for i in range(0,len(list1)):\n",
        "  if(list1[i] % 2 == 0):\n",
        "    even+=1\n",
        "  else:\n",
        "    odd+=1\n",
        "\n",
        "print(\"Even No:\",even)\n",
        "print(\"Odd No:\",odd)"
      ],
      "metadata": {
        "colab": {
          "base_uri": "https://localhost:8080/"
        },
        "id": "Yb87CFg4aPro",
        "outputId": "d97ba54b-12f5-4066-8651-00884088d6d4"
      },
      "execution_count": 107,
      "outputs": [
        {
          "output_type": "stream",
          "name": "stdout",
          "text": [
            "Even No: 3\n",
            "Odd No: 4\n"
          ]
        }
      ]
    },
    {
      "cell_type": "code",
      "source": [
        "# 15. Write a program to get count of unique values inside a list\n",
        "# a. input_list = [1, 2, 2, 5, 8, 4, 4, 8]\n",
        "# b. Output => 5\n",
        "\n",
        "input_list = [1, 2, 2, 5, 8, 4, 4, 8]\n",
        "new_list = []\n",
        "count=0\n",
        "\n",
        "for i in range(0,len(input_list)):\n",
        "  unique = 0\n",
        "  for j in range(i+1,len(input_list)):\n",
        "    if(input_list[i] == input_list[j]):\n",
        "      unique = 1\n",
        "      break\n",
        "  if (unique==0):\n",
        "    new_list.append(input_list[i])\n",
        "\n",
        "for k in new_list:\n",
        "  count+=1\n",
        "\n",
        "print(count)"
      ],
      "metadata": {
        "colab": {
          "base_uri": "https://localhost:8080/"
        },
        "id": "0yGXiHMubnpe",
        "outputId": "75d40c51-33d6-406e-8de7-2b37f045426f"
      },
      "execution_count": 129,
      "outputs": [
        {
          "output_type": "stream",
          "name": "stdout",
          "text": [
            "5\n"
          ]
        }
      ]
    }
  ]
}