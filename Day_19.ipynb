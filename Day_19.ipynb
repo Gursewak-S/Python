{
  "nbformat": 4,
  "nbformat_minor": 0,
  "metadata": {
    "colab": {
      "provenance": [],
      "authorship_tag": "ABX9TyMok0IWmeDse8nxZr3nvGar",
      "include_colab_link": true
    },
    "kernelspec": {
      "name": "python3",
      "display_name": "Python 3"
    },
    "language_info": {
      "name": "python"
    }
  },
  "cells": [
    {
      "cell_type": "markdown",
      "metadata": {
        "id": "view-in-github",
        "colab_type": "text"
      },
      "source": [
        "<a href=\"https://colab.research.google.com/github/Gursewak-S/Python/blob/main/Day_19.ipynb\" target=\"_parent\"><img src=\"https://colab.research.google.com/assets/colab-badge.svg\" alt=\"Open In Colab\"/></a>"
      ]
    },
    {
      "cell_type": "markdown",
      "source": [
        "# Decorator\n",
        "\n",
        "In python Dectorator are a way to modify and enhance the behaviour of function without directly changing there code\n"
      ],
      "metadata": {
        "id": "TzHRjVew67dN"
      }
    },
    {
      "cell_type": "code",
      "source": [
        "# Decorator Function\n",
        "def log_decorator(func):\n",
        "  def wrapper(*args, **kwargs):\n",
        "    print(f\"Function '{func.__name__}' is called\")\n",
        "    result = func(*args, **kwargs) # Call the original function !\n",
        "    print(f\"Function '{func.__name__}' finished execution\")\n",
        "    return result\n",
        "  return wrapper\n",
        "\n",
        "@log_decorator\n",
        "def greet(name):\n",
        "  print(f\"Hello, {name}!\")\n",
        "\n",
        "# call the function\n",
        "greet('Sam')"
      ],
      "metadata": {
        "colab": {
          "base_uri": "https://localhost:8080/"
        },
        "id": "Erwigh5s69Yy",
        "outputId": "943e0588-2b33-46e6-a484-de8bab50e8c3"
      },
      "execution_count": 15,
      "outputs": [
        {
          "output_type": "stream",
          "name": "stdout",
          "text": [
            "Function 'greet' is called\n",
            "Hello, Sam!\n",
            "Function 'greet' finished execution\n"
          ]
        }
      ]
    },
    {
      "cell_type": "markdown",
      "source": [
        "# Generators\n",
        "Generators in Python are a way to create iterator in a simple and memory efficient way instead to creating an entire sequence in memory at once.\n",
        "\n",
        "A Generator produce items one at a time at only when needed.\n",
        "\n",
        "This is specially useful when dealing with large dataset or infinitive sequencing.\n",
        "\n",
        "A Generators function is like a normal function but uses the yeild Keyword instead of return, When the generators is called it doesn't execute the function completely instead it return a generator object that can iterated over\n",
        "\n",
        "Key points\n",
        "\n",
        "1. Memory Efficient:\n",
        "Generator donot store the entire sequence in memory\n",
        "\n",
        "2. Lazy Evaluation:\n",
        "Values are produced only when it required\n",
        "\n",
        "3. State retention:\n",
        "The function state is saved between yeild calls."
      ],
      "metadata": {
        "id": "_t4Owze88VBA"
      }
    },
    {
      "cell_type": "code",
      "source": [
        "# Example 1: Simple Generator for a Sequence of Numbers\n",
        "# A generator function to yield numbers from 1 to 5\n",
        "\n",
        "def number_generator():\n",
        "  for i in range(1, 6):\n",
        "    yield i\n",
        "\n",
        "# Using the generator\n",
        "gen = number_generator()\n",
        "for num in gen:\n",
        "  print(num)"
      ],
      "metadata": {
        "colab": {
          "base_uri": "https://localhost:8080/"
        },
        "id": "AvGEsAlD7psM",
        "outputId": "d2e5106c-77dd-4d21-cc8a-7b2ddb929c08"
      },
      "execution_count": 22,
      "outputs": [
        {
          "output_type": "stream",
          "name": "stdout",
          "text": [
            "1\n",
            "2\n",
            "3\n",
            "4\n",
            "5\n"
          ]
        }
      ]
    },
    {
      "cell_type": "markdown",
      "source": [
        "\n",
        "\n",
        "```\n",
        "# This is formatted as code\n",
        "```\n",
        "\n",
        "if __name__ == “__main__”"
      ],
      "metadata": {
        "id": "XXp-uN9yBWfO"
      }
    },
    {
      "cell_type": "code",
      "source": [
        "# first.py\n",
        "\n",
        "# if __name__ == “__main__”\n",
        "\n",
        "def add(a,b):\n",
        "  return a+b\n",
        "\n",
        "def subtract(a,b):\n",
        "  return a-b\n",
        "\n",
        "if __name__ == \"__main__\":\n",
        "  print(\"Testing math Utilities: \")\n",
        "  print(f\"3 + 5 = {add(3,5)}\")\n",
        "  print(f\"10 - 4 = {subtract(10, 4)}\")\n"
      ],
      "metadata": {
        "colab": {
          "base_uri": "https://localhost:8080/"
        },
        "id": "ZAV_ZT9p_BRc",
        "outputId": "6d454d5a-4e3b-45ed-b349-0d76c45b94fc"
      },
      "execution_count": 28,
      "outputs": [
        {
          "output_type": "stream",
          "name": "stdout",
          "text": [
            "Testing math Utilities: \n",
            "3 + 5 = 8\n",
            "10 - 4 = 6\n"
          ]
        }
      ]
    },
    {
      "cell_type": "code",
      "source": [
        "from first import add, subtract  # calling function from another file\n",
        "\n",
        "print(f\"Addition: {add(5,10)}\")\n",
        "print(f\"Subtract: {subtract(10,5)}\")"
      ],
      "metadata": {
        "colab": {
          "base_uri": "https://localhost:8080/"
        },
        "id": "lPH39qjMAs1x",
        "outputId": "c3522374-2b9d-4f09-8be7-0d25b757ebe3"
      },
      "execution_count": 27,
      "outputs": [
        {
          "output_type": "stream",
          "name": "stdout",
          "text": [
            "Addition: 15\n",
            "Subtract: 5\n"
          ]
        }
      ]
    },
    {
      "cell_type": "code",
      "source": [],
      "metadata": {
        "id": "cS7Ys9E4BOwo"
      },
      "execution_count": null,
      "outputs": []
    }
  ]
}