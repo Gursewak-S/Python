{
  "nbformat": 4,
  "nbformat_minor": 0,
  "metadata": {
    "colab": {
      "provenance": [],
      "authorship_tag": "ABX9TyObaO18izMhiYdtyxeVFZYq",
      "include_colab_link": true
    },
    "kernelspec": {
      "name": "python3",
      "display_name": "Python 3"
    },
    "language_info": {
      "name": "python"
    }
  },
  "cells": [
    {
      "cell_type": "markdown",
      "metadata": {
        "id": "view-in-github",
        "colab_type": "text"
      },
      "source": [
        "<a href=\"https://colab.research.google.com/github/Gursewak-S/Python/blob/main/Day_13_15_lambda.ipynb\" target=\"_parent\"><img src=\"https://colab.research.google.com/assets/colab-badge.svg\" alt=\"Open In Colab\"/></a>"
      ]
    },
    {
      "cell_type": "code",
      "execution_count": 1,
      "metadata": {
        "id": "MxKNb_byc2CY"
      },
      "outputs": [],
      "source": [
        "# Lamdba function\n",
        "# annymous function => no name function\n",
        "# one Line function\n",
        "# code readable\n"
      ]
    },
    {
      "cell_type": "code",
      "source": [
        "def func(x):\n",
        "  y=x.split(\" \")\n",
        "  print(y)\n",
        "\n",
        "func(\"hello hey\")"
      ],
      "metadata": {
        "colab": {
          "base_uri": "https://localhost:8080/"
        },
        "id": "hjhM4ThGdA4C",
        "outputId": "9f0ca127-ea6b-4b48-89d4-71de221835e7"
      },
      "execution_count": 3,
      "outputs": [
        {
          "output_type": "stream",
          "name": "stdout",
          "text": [
            "['hello', 'hey']\n"
          ]
        }
      ]
    },
    {
      "cell_type": "code",
      "source": [
        "# Lambda parameter : expression\n",
        "a = lambda x: x.split(\" \")\n",
        "a(\"hey hello hi\")"
      ],
      "metadata": {
        "colab": {
          "base_uri": "https://localhost:8080/"
        },
        "id": "IlgfAwh1dEDR",
        "outputId": "f6845dc9-a144-4fb2-9f24-ea5a815ea7cc"
      },
      "execution_count": 7,
      "outputs": [
        {
          "output_type": "execute_result",
          "data": {
            "text/plain": [
              "['hey', 'hello', 'hi']"
            ]
          },
          "metadata": {},
          "execution_count": 7
        }
      ]
    },
    {
      "cell_type": "code",
      "source": [
        "# map, filter\n",
        "# [10,20,30,40,55,61]\n",
        "\n",
        "# map take each element at a time, process and return the value without storing into the memory\n",
        "\n",
        "# in for loop all data store in memory while iterating each value"
      ],
      "metadata": {
        "id": "SF1g9-tQdW_o"
      },
      "execution_count": 8,
      "outputs": []
    },
    {
      "cell_type": "code",
      "source": [
        "def func5(num):\n",
        "  return num*5\n",
        "\n",
        "out = map(func5, [10, 20])\n",
        "next(out)"
      ],
      "metadata": {
        "colab": {
          "base_uri": "https://localhost:8080/"
        },
        "id": "iz5_kx0Wf9To",
        "outputId": "968cae22-8b13-41fa-f68f-907cd6cc49ed"
      },
      "execution_count": 11,
      "outputs": [
        {
          "output_type": "execute_result",
          "data": {
            "text/plain": [
              "50"
            ]
          },
          "metadata": {},
          "execution_count": 11
        }
      ]
    },
    {
      "cell_type": "code",
      "source": [
        "next(out)"
      ],
      "metadata": {
        "colab": {
          "base_uri": "https://localhost:8080/"
        },
        "id": "PrGeQRuwgEw3",
        "outputId": "f7f1197e-db4d-4cd6-df3f-f0b9fc8ded88"
      },
      "execution_count": 12,
      "outputs": [
        {
          "output_type": "execute_result",
          "data": {
            "text/plain": [
              "100"
            ]
          },
          "metadata": {},
          "execution_count": 12
        }
      ]
    },
    {
      "cell_type": "code",
      "source": [
        "def func5(num):\n",
        "  return num*5\n",
        "\n",
        "list(map(func5, [10, 20]))  # we dont use this approach in real life usinf list bcs we cant calll single character value"
      ],
      "metadata": {
        "colab": {
          "base_uri": "https://localhost:8080/"
        },
        "id": "YRVYyWq4gppO",
        "outputId": "161c691b-ba44-4cd7-a702-0b75a2d0e662"
      },
      "execution_count": 14,
      "outputs": [
        {
          "output_type": "execute_result",
          "data": {
            "text/plain": [
              "[50, 100]"
            ]
          },
          "metadata": {},
          "execution_count": 14
        }
      ]
    },
    {
      "cell_type": "code",
      "source": [
        "list(map(lambda num: num*5, [10, 30]))"
      ],
      "metadata": {
        "colab": {
          "base_uri": "https://localhost:8080/"
        },
        "id": "bBIMmbOagtd7",
        "outputId": "45b9acff-800f-47fc-e5c3-5fbd9fa81ed6"
      },
      "execution_count": 17,
      "outputs": [
        {
          "output_type": "execute_result",
          "data": {
            "text/plain": [
              "[50, 150]"
            ]
          },
          "metadata": {},
          "execution_count": 17
        }
      ]
    },
    {
      "cell_type": "code",
      "source": [
        "# Take a list of value and get only the even digit using filter\n",
        "\n",
        "list(filter(lambda n: n%2==0, [1,2,3,4,5,6,7,8]))  # filter return the correct value"
      ],
      "metadata": {
        "colab": {
          "base_uri": "https://localhost:8080/"
        },
        "id": "y-_-mSdriKkR",
        "outputId": "6b08e82e-dc24-433f-e408-6607dfbbec11"
      },
      "execution_count": 20,
      "outputs": [
        {
          "output_type": "execute_result",
          "data": {
            "text/plain": [
              "[2, 4, 6, 8]"
            ]
          },
          "metadata": {},
          "execution_count": 20
        }
      ]
    },
    {
      "cell_type": "code",
      "source": [
        "list(map(lambda n: n%2==0, [1,2,3,4,5,6,7,8])) # map just apply the logic and return the value"
      ],
      "metadata": {
        "colab": {
          "base_uri": "https://localhost:8080/"
        },
        "id": "66ZF_zDzjMLo",
        "outputId": "3bc3c3b9-85c5-4442-dfe0-de532139eec5"
      },
      "execution_count": 21,
      "outputs": [
        {
          "output_type": "execute_result",
          "data": {
            "text/plain": [
              "[False, True, False, True, False, True, False, True]"
            ]
          },
          "metadata": {},
          "execution_count": 21
        }
      ]
    },
    {
      "cell_type": "code",
      "source": [],
      "metadata": {
        "id": "nWYAFZT_jsS3"
      },
      "execution_count": null,
      "outputs": []
    }
  ]
}